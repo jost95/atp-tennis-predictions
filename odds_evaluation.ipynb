{
 "cells": [
  {
   "cell_type": "markdown",
   "metadata": {},
   "source": [
    "# Can we beat the bookmakers?\n",
    "\n",
    "Using 2019 as test data and our chosen Random Forest model, for matches were odds are available, can we beat the bookmakers?\n",
    "\n",
    "## Load data and dependencies"
   ]
  },
  {
   "cell_type": "code",
   "execution_count": 19,
   "metadata": {},
   "outputs": [],
   "source": [
    "import os\n",
    "import json\n",
    "import datetime as dt\n",
    "import pandas as pd\n",
    "import numpy as np\n",
    "import seaborn as sns\n",
    "import matplotlib.pyplot as plt\n",
    "\n",
    "from IPython.core.display import display\n",
    "from sklearn.ensemble import RandomForestClassifier\n",
    "from sklearn.metrics import accuracy_score\n",
    "\n",
    "from definitions import GEN_PATH, ROOT_DIR\n",
    "from utilities.helper import logger\n",
    "\n",
    "sns.set_context('notebook')\n",
    "sns.set_style('white')\n",
    "sns.set(style=\"whitegrid\")\n",
    "\n",
    "# Read configuration file\n",
    "with open(os.path.join(ROOT_DIR, 'config.json')) as f:\n",
    "    config = json.load(f)\n",
    "\n",
    "proc_match_filepath = os.path.join(GEN_PATH, config['proc_match_filename_final'])\n",
    "odds_filepath = os.path.join(GEN_PATH, config['odds_filename'])\n",
    "\n",
    "# Read data\n",
    "matches = pd.read_hdf(proc_match_filepath, key='matches')\n",
    "odds = pd.read_hdf(odds_filepath, key='odds')\n",
    "\n",
    "# Split data set into train and test, start of 2019 season in unix time, 2018-12-31 00:00:00 UTC\n",
    "test_date_begin = 1546214400\n",
    "\n",
    "# Initial model parameters\n",
    "rf_max_depth = 7\n",
    "rf_estimators = 100  # future default in sklearn"
   ]
  },
  {
   "cell_type": "code",
   "execution_count": 24,
   "metadata": {},
   "outputs": [
    {
     "name": "stdout",
     "output_type": "stream",
     "text": [
      "start_pipe took=0:00:00.033180 shape=(119314, 18)\n",
      "extract_by_date took=0:00:00.038029 shape=(91435, 18)\n",
      "filter_train_columns took=0:00:00.002549 shape=(91435, 4)(91435,)\n",
      "start_pipe took=0:00:00.020797 shape=(119314, 18)\n",
      "extract_by_date took=0:00:00.015585 shape=(26979, 18)\n",
      "filter_odds_matches took=0:01:07.416234 shape=(1451, 19)\n",
      "filter_test_columns took=0:00:00.000871 shape=(1451, 4)(1451,)(1451,)\n"
     ]
    }
   ],
   "source": [
    "@logger\n",
    "def start_pipe(df):\n",
    "    return df.copy()\n",
    "\n",
    "@logger\n",
    "def extract_by_date(df, begin = None, end = None):\n",
    "    df.dropna(inplace=True)\n",
    "    \n",
    "    if begin is None and end is None:\n",
    "        return df\n",
    "    elif begin is None:\n",
    "        return df.loc[df['tourney_date'] < end]\n",
    "    elif end is None:\n",
    "        return df.loc[df['tourney_date'] >= begin]\n",
    "    else:\n",
    "        return df.loc[(df['tourney_date'] >= begin) & (df['tourney_date'] < end)]\n",
    "    \n",
    "@logger\n",
    "def filter_odds_matches(df, odds):\n",
    "    def check_match(match, odds):\n",
    "        match_date = pd.to_datetime(match['tourney_date'], unit='s')\n",
    "        \n",
    "        check_mask = (\n",
    "           (odds['tourney_date'] == match_date) & \n",
    "            (odds['winner_id'] == match['player_1']) & \n",
    "            (odds['loser_id'] == match['player_2']))\n",
    "        check = odds.loc[check_mask]\n",
    "        \n",
    "        if len(check) == 1:\n",
    "            match['max_winner'] = check['max_w']\n",
    "    \n",
    "        return match\n",
    "    \n",
    "    df['max_winner'] = float('nan')\n",
    "    df = df.apply(check_match, axis=1, args=(odds,))\n",
    "    df.dropna(inplace=True)\n",
    "    return df\n",
    "\n",
    "@logger\n",
    "def filter_train_columns(df):\n",
    "    final_columns = ['rel_surface_wins', 'rank_diff', 'points_grad_diff', 'rel_tourney_games']\n",
    "    df_y = df['outcome']\n",
    "    df_x = df.filter(final_columns)\n",
    "    return df_x, df_y\n",
    "\n",
    "@logger\n",
    "def filter_test_columns(df):\n",
    "    final_columns = ['rel_surface_wins', 'rank_diff', 'points_grad_diff', 'rel_tourney_games']\n",
    "    df_y = df['outcome']\n",
    "    df_odds = df['max_winner']\n",
    "    df_x = df.filter(final_columns)\n",
    "    return df_x, df_y, df_odds\n",
    "\n",
    "X_train, y_train = (matches\n",
    "    .pipe(start_pipe)\n",
    "    .pipe(extract_by_date, end=test_date_begin)\n",
    "    .pipe(filter_train_columns))\n",
    "\n",
    "X_test, y_test, odds_test = (matches\n",
    "    .pipe(start_pipe)\n",
    "    .pipe(extract_by_date, begin=test_date_begin)\n",
    "    .pipe(filter_odds_matches, odds)\n",
    "    .pipe(filter_test_columns))"
   ]
  },
  {
   "cell_type": "code",
   "execution_count": 25,
   "metadata": {},
   "outputs": [
    {
     "data": {
      "text/plain": [
       "RandomForestClassifier(bootstrap=True, class_weight=None, criterion='gini',\n",
       "                       max_depth=7, max_features='auto', max_leaf_nodes=None,\n",
       "                       min_impurity_decrease=0.0, min_impurity_split=None,\n",
       "                       min_samples_leaf=1, min_samples_split=2,\n",
       "                       min_weight_fraction_leaf=0.0, n_estimators=100,\n",
       "                       n_jobs=None, oob_score=False, random_state=None,\n",
       "                       verbose=0, warm_start=False)"
      ]
     },
     "execution_count": 25,
     "metadata": {},
     "output_type": "execute_result"
    }
   ],
   "source": [
    "model = RandomForestClassifier(max_depth=rf_max_depth, n_estimators=rf_estimators)\n",
    "model.fit(X_train, y_train)"
   ]
  },
  {
   "cell_type": "code",
   "execution_count": 111,
   "metadata": {},
   "outputs": [
    {
     "name": "stdout",
     "output_type": "stream",
     "text": [
      "Random Forest model accuracy on evaluated matches 67 %\n",
      "Initial wallet: 100, avg. bets per day: 4, exposure margin: x2.1\n",
      "Default probability limit: 1.0 ppm, actual default probability: 0.9078593 ppm\n",
      "2019 year end profit: 46717 % with avg. match profit: 32.20 %\n",
      "Max lost matches in a row: 7, out of total matches: 1451\n",
      "Max amount lost: 12795 SEK\n"
     ]
    },
    {
     "data": {
      "image/png": "[encoded data removed]",
      "text/plain": [
       "<Figure size 432x288 with 1 Axes>"
      ]
     },
     "metadata": {},
     "output_type": "display_data"
    }
   ],
   "source": [
    "predictions = model.predict(X_test)\n",
    "acc = accuracy_score(y_test, predictions)\n",
    "correct = predictions*y_test.to_numpy()\n",
    "correct = (correct + 1) / 2\n",
    "odds_returns = correct*odds_test.to_numpy()\n",
    "no_matches = len(odds_returns)\n",
    "default_probability = np.power((1 - acc), (bets_per_day * margin))\n",
    "risk_limit = np.power(0.1, 6)\n",
    "one_million = 1000000\n",
    "\n",
    "weeks_of_tennis = 52 - 6  # 6 weeks downtime\n",
    "avg_tournament_length = 5  # days, since most is 250 tournaments\n",
    "days_of_tennis = weeks_of_tennis * avg_tournament_length\n",
    "bets_per_day = round(no_matches / days_of_tennis)\n",
    "avg_matches_per_day = round(no_matches / 365)\n",
    "\n",
    "initial_wallet = 100\n",
    "max_lost = 0\n",
    "max_lost_amount = 0\n",
    "lost = 0\n",
    "lost_amount = 0\n",
    "margin = 2.1;  # size of margin, don't bet all at once\n",
    "wallet = []\n",
    "daily_wallet = [initial_wallet]\n",
    "\n",
    "for i in range(no_matches):\n",
    "    if i == 0:\n",
    "        prev_wallet = initial_wallet\n",
    "    else:\n",
    "        prev_wallet = wallet[i - 1]\n",
    "    \n",
    "    bet = prev_wallet / (bets_per_day * margin)\n",
    "    wallet.append(prev_wallet - bet + r * bet)\n",
    "    \n",
    "    r = odds_returns[i]\n",
    "\n",
    "    if r == 0:\n",
    "        lost += 1\n",
    "        lost_amount += bet\n",
    "        \n",
    "        if lost > max_lost:\n",
    "            max_lost = lost\n",
    "        \n",
    "        if lost_amount > max_lost_amount:\n",
    "            max_lost_amount = lost_amount\n",
    "    else:\n",
    "        lost = 0\n",
    "        lost_amount = 0\n",
    "    \n",
    "    if i % avg_matches_per_day == 0:\n",
    "        daily_wallet.append(wallet[i])\n",
    "        \n",
    "year_profit = wallet[-1] / initial_wallet - 1\n",
    "avg_profit = year_profit / no_matches\n",
    "\n",
    "print(\"Random Forest model accuracy on evaluated matches %i %%\" % (round(acc*100)))\n",
    "print(f\"Initial wallet: {initial_wallet}, avg. bets per day: {avg_matches_per_day}, exposure margin: x{margin}\")\n",
    "print(\"Default probability limit: %0.1f ppm, actual default probability: %0.7f ppm\" % ((risk_limit * one_million), (default_probability * one_million)))\n",
    "print(\"2019 year end profit: %i %% with avg. match profit: %0.2f %%\" % ((round(year_profit*100), avg_profit*100)))\n",
    "print(f\"Max lost matches in a row: {max_lost}, out of total matches: {no_matches}\")\n",
    "print(\"Max amount lost: %i SEK\" % max_lost_amount)\n",
    "\n",
    "daily_wallet = pd.DataFrame(daily_wallet, columns=['Wallet amount'])\n",
    "\n",
    "sns.lineplot(data=daily_wallet)\n",
    "plt.show()"
   ]
  }
 ],
 "metadata": {
  "kernelspec": {
   "display_name": "Python 3",
   "language": "python",
   "name": "python3"
  },
  "language_info": {
   "codemirror_mode": {
    "name": "ipython",
    "version": 3
   },
   "file_extension": ".py",
   "mimetype": "text/x-python",
   "name": "python",
   "nbconvert_exporter": "python",
   "pygments_lexer": "ipython3",
   "version": "3.7.4"
  }
 },
 "nbformat": 4,
 "nbformat_minor": 4
}
