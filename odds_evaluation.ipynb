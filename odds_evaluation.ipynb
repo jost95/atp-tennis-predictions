{
 "cells": [
  {
   "cell_type": "markdown",
   "metadata": {},
   "source": [
    "# Can we beat the bookmakers?\n",
    "\n",
    "## Load data and dependencies"
   ]
  },
  {
   "cell_type": "code",
   "execution_count": 25,
   "metadata": {},
   "outputs": [],
   "source": [
    "import os\n",
    "import json\n",
    "import pandas as pd\n",
    "import numpy as np\n",
    "import seaborn as sns\n",
    "import matplotlib.pyplot as plt\n",
    "\n",
    "from sklearn.linear_model import LogisticRegression\n",
    "from sklearn.model_selection import train_test_split\n",
    "from sklearn.metrics import accuracy_score\n",
    "\n",
    "from definitions import GEN_PATH, ROOT_DIR\n",
    "from utilities.helper import logger\n",
    "\n",
    "sns.set_context('notebook')\n",
    "sns.set_style('white')\n",
    "sns.set(style=\"whitegrid\")\n",
    "\n",
    "# Read configuration file\n",
    "with open(os.path.join(ROOT_DIR, 'config.json')) as f:\n",
    "    config = json.load(f)\n",
    "\n",
    "proc_match_filepath = os.path.join(GEN_PATH, config['proc_match_filename'])\n",
    "odds_filepath = os.path.join(GEN_PATH, config['odds_filename'])\n",
    "\n",
    "# Read data\n",
    "matches = pd.read_hdf(proc_match_filepath, key='matches')\n",
    "odds = pd.read_hdf(odds_filepath, key='odds')\n",
    "\n",
    "# Initial model parameters\n",
    "optimal_c = 1\n",
    "lr_solver = 'lbfgs'"
   ]
  },
  {
   "cell_type": "markdown",
   "metadata": {},
   "source": [
    "## Clean, prune, split matches\n",
    "\n",
    "Only consider test matches that have odds"
   ]
  },
  {
   "cell_type": "code",
   "execution_count": 14,
   "metadata": {},
   "outputs": [
    {
     "name": "stdout",
     "output_type": "stream",
     "text": [
      "start_pipe took=0:00:00.008725 shape=(39374, 18)\n",
      "add_odds took=0:01:50.100393 shape=(1845, 19)\n",
      "filter_columns took=0:00:00.000706 shape=(1845, 3)(1845,)(1845,)\n"
     ]
    }
   ],
   "source": [
    "@logger\n",
    "def start_pipe(df):\n",
    "    return df.copy()\n",
    "    \n",
    "@logger\n",
    "def add_odds(df, odds):\n",
    "    def check_match(match, odds):\n",
    "        match_date = pd.to_datetime(match['tourney_date'], unit='s')\n",
    "        \n",
    "        check_mask = (\n",
    "           (odds['tourney_date'] == match_date) & \n",
    "            (odds['winner_id'] == match['player_1']) & \n",
    "            (odds['loser_id'] == match['player_2']))\n",
    "        check = odds.loc[check_mask]\n",
    "        \n",
    "        if len(check) == 1:\n",
    "            match['max_winner'] = check['max_w']\n",
    "    \n",
    "        return match\n",
    "    \n",
    "    df['max_winner'] = float('nan')\n",
    "    df = df.apply(check_match, axis=1, args=(odds,))\n",
    "    df.dropna(inplace=True)\n",
    "    return df\n",
    "\n",
    "@logger\n",
    "def filter_columns(df):\n",
    "    df_y = df['outcome']\n",
    "    df_odds = df['max_winner']\n",
    "    df_x = df.filter(['rank_diff', 'points_grad_diff', 'rel_surface_wins'])\n",
    "    return df_x, df_y, df_odds\n",
    "\n",
    "y_data = matches['outcome']\n",
    "X_data = matches.drop('outcome', axis=1)\n",
    "\n",
    "X_train, X_test, y_train, y_test = train_test_split(X_data, y_data, test_size=0.33, random_state=42)\n",
    "\n",
    "X_train = X_train.filter(['rank_diff', 'points_grad_diff', 'rel_surface_wins'])\n",
    "\n",
    "# Only test on matches with odds\n",
    "test_data = pd.concat([X_test, y_test], axis=1)\n",
    "\n",
    "X_test, y_test, odds_test = (test_data\n",
    "    .pipe(start_pipe)\n",
    "    .pipe(add_odds, odds)\n",
    "    .pipe(filter_columns))"
   ]
  },
  {
   "cell_type": "markdown",
   "metadata": {},
   "source": [
    "### Train model"
   ]
  },
  {
   "cell_type": "code",
   "execution_count": 31,
   "metadata": {},
   "outputs": [
    {
     "data": {
      "text/plain": [
       "LogisticRegression(C=0.06, class_weight=None, dual=False, fit_intercept=True,\n",
       "                   intercept_scaling=1, l1_ratio=None, max_iter=100,\n",
       "                   multi_class='warn', n_jobs=None, penalty='l2',\n",
       "                   random_state=None, solver='lbfgs', tol=0.0001, verbose=0,\n",
       "                   warm_start=False)"
      ]
     },
     "execution_count": 31,
     "metadata": {},
     "output_type": "execute_result"
    }
   ],
   "source": [
    "model = LogisticRegression(solver=lr_solver, C=optimal_c)\n",
    "model.fit(X_train, y_train)"
   ]
  },
  {
   "cell_type": "markdown",
   "metadata": {},
   "source": [
    "### Evaluate betting outcome"
   ]
  },
  {
   "cell_type": "code",
   "execution_count": 32,
   "metadata": {},
   "outputs": [
    {
     "name": "stdout",
     "output_type": "stream",
     "text": [
      "Random Forest model accuracy on evaluated matches 65.00 %\n",
      "Initial wallet: 100, avg. bets per day: 5, exposure margin: x2.4\n",
      "Default probability limit: 1.0 ppm, actual default probability: 0.0018841 ppm\n",
      "2019 year end profit: -100 % with avg. match profit: -0.05 %\n",
      "Max lost matches in a row: 9, out of total matches: 1845\n",
      "Max amount lost in a row: 28 SEK\n"
     ]
    },
    {
     "data": {
      "image/png": "[encoded data removed]",
      "text/plain": [
       "<Figure size 432x288 with 1 Axes>"
      ]
     },
     "metadata": {},
     "output_type": "display_data"
    }
   ],
   "source": [
    "predictions = model.predict(X_test)\n",
    "#probabilities = model.predict_proba(X_test)\n",
    "#diff_prob = np.abs(probabilities[:, 0] - probabilities[:, 1])\n",
    "\n",
    "acc = accuracy_score(y_test, predictions)\n",
    "correct = predictions*y_test.to_numpy()\n",
    "correct = (correct + 1) / 2\n",
    "odds_returns = correct*odds_test.to_numpy()\n",
    "\n",
    "#idx = np.argwhere(diff_prob <= 0.5)\n",
    "#odds_returns = odds_returns[idx].flatten()\n",
    "\n",
    "no_matches = len(odds_returns)\n",
    "risk_limit = np.power(0.1, 6)\n",
    "one_million = 1000000\n",
    "\n",
    "weeks_of_tennis = 52 - 6  # 6 weeks downtime\n",
    "avg_tournament_length = 5  # days, since most is 250 tournaments\n",
    "days_of_tennis = weeks_of_tennis * avg_tournament_length\n",
    "bets_per_day = round(no_matches / days_of_tennis)\n",
    "avg_matches_per_day = round(no_matches / 365)\n",
    "\n",
    "initial_wallet = 100\n",
    "max_lost = 0\n",
    "max_lost_amount = 0\n",
    "lost = 0\n",
    "lost_amount = 0\n",
    "margin = 2.4  # size of margin, don't bet all at once\n",
    "wallet = []\n",
    "daily_wallet = [initial_wallet]\n",
    "\n",
    "default_probability = np.power((1 - acc), (bets_per_day * margin))\n",
    "\n",
    "for i in range(no_matches):\n",
    "    r = odds_returns[i]\n",
    "    \n",
    "    if i == 0:\n",
    "        prev_wallet = initial_wallet\n",
    "    else:\n",
    "        prev_wallet = wallet[i - 1]\n",
    "    \n",
    "    bet = prev_wallet / (bets_per_day * margin)\n",
    "    wallet.append(prev_wallet - bet + r * bet)\n",
    "\n",
    "    if r == 0:\n",
    "        lost += 1\n",
    "        lost_amount += bet\n",
    "        \n",
    "        if lost > max_lost:\n",
    "            max_lost = lost\n",
    "        \n",
    "        if lost_amount > max_lost_amount:\n",
    "            max_lost_amount = lost_amount\n",
    "    else:\n",
    "        lost = 0\n",
    "        lost_amount = 0\n",
    "    \n",
    "    if i % avg_matches_per_day == 0:\n",
    "        daily_wallet.append(wallet[i])\n",
    "        \n",
    "year_profit = wallet[-1] / initial_wallet - 1\n",
    "avg_profit = year_profit / no_matches\n",
    "\n",
    "print(\"Random Forest model accuracy on evaluated matches %0.2f %%\" % (round(acc*100)))\n",
    "print(f\"Initial wallet: {initial_wallet}, avg. bets per day: {avg_matches_per_day}, exposure margin: x{margin}\")\n",
    "print(\"Default probability limit: %0.1f ppm, actual default probability: %0.7f ppm\" % ((risk_limit * one_million), (default_probability * one_million)))\n",
    "print(\"2019 year end profit: %i %% with avg. match profit: %0.2f %%\" % ((round(year_profit*100), avg_profit*100)))\n",
    "print(f\"Max lost matches in a row: {max_lost}, out of total matches: {no_matches}\")\n",
    "print(\"Max amount lost in a row: %i SEK\" % max_lost_amount)\n",
    "\n",
    "daily_wallet = pd.DataFrame(daily_wallet, columns=['Wallet amount'])\n",
    "\n",
    "sns.lineplot(data=daily_wallet)\n",
    "plt.show()"
   ]
  }
 ],
 "metadata": {
  "kernelspec": {
   "display_name": "Python 3",
   "language": "python",
   "name": "python3"
  },
  "language_info": {
   "codemirror_mode": {
    "name": "ipython",
    "version": 3
   },
   "file_extension": ".py",
   "mimetype": "text/x-python",
   "name": "python",
   "nbconvert_exporter": "python",
   "pygments_lexer": "ipython3",
   "version": "3.7.4"
  },
  "pycharm": {
   "stem_cell": {
    "cell_type": "raw",
    "metadata": {
     "collapsed": false
    },
    "source": []
   }
  }
 },
 "nbformat": 4,
 "nbformat_minor": 4
}
