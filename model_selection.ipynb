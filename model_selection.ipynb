{
 "cells": [
  {
   "cell_type": "code",
   "execution_count": 33,
   "metadata": {
    "collapsed": true,
    "pycharm": {
     "is_executing": false
    }
   },
   "outputs": [],
   "source": [
    "import os\n",
    "import json\n",
    "import numpy as np\n",
    "import pandas as pd\n",
    "import seaborn as sns\n",
    "import matplotlib.pyplot as plt\n",
    "from IPython.core.display import display\n",
    "\n",
    "from sklearn.ensemble import RandomForestClassifier\n",
    "from sklearn.metrics import classification_report, accuracy_score\n",
    "from sklearn.model_selection import train_test_split, cross_val_score\n",
    "from sklearn.neighbors import KNeighborsClassifier\n",
    "from sklearn.neural_network import MLPClassifier\n",
    "from sklearn.svm import SVC\n",
    "\n",
    "from definitions import GEN_PATH, ROOT_DIR\n",
    "\n",
    "sns.set_context('notebook')\n",
    "sns.set_style('white')"
   ]
  },
  {
   "cell_type": "code",
   "execution_count": 34,
   "outputs": [
    {
     "data": {
      "text/plain": "       index  rank_diff  points_grad_diff  rel_recent_wins  rel_tourney_games  \\\n0          0   0.298397         -0.156014         1.148764           0.000408   \n1          1  -0.083118          0.449323        -1.409212           0.000408   \n2          2  -0.012353          0.015972         0.240009           0.000408   \n3          3   0.070719         -0.057156        -1.139951           0.000408   \n4          5   0.143022         -0.057156         2.259463           0.000408   \n...      ...        ...               ...              ...                ...   \n91430  91603  -0.738462          0.028160         0.004406           0.000408   \n91431  91604  -0.576933          0.085037         0.744873           0.000408   \n91432  91605   2.625945         -0.181744        -1.745787           0.000408   \n91433  91606   0.241478         -0.063927        -2.082363           0.000408   \n91434  91607  -0.369254          0.013264        -1.106294           0.000408   \n\n       age_diff  player_1  player_2  \n0     -1.069315  105815.0  111581.0  \n1      0.000917  104269.0  104291.0  \n2      2.141381  126094.0  104500.0  \n3      1.071149  104735.0  106093.0  \n4      1.308384  105091.0  111506.0  \n...         ...       ...       ...  \n91430  1.028340  122606.0  202356.0  \n91431 -0.755380  106321.0  144972.0  \n91432 -0.548469  106388.0  105897.0  \n91433 -0.270208  126239.0  144696.0  \n91434 -0.018704  138846.0  134113.0  \n\n[91435 rows x 8 columns]",
      "text/html": "<div>\n<style scoped>\n    .dataframe tbody tr th:only-of-type {\n        vertical-align: middle;\n    }\n\n    .dataframe tbody tr th {\n        vertical-align: top;\n    }\n\n    .dataframe thead th {\n        text-align: right;\n    }\n</style>\n<table border=\"1\" class=\"dataframe\">\n  <thead>\n    <tr style=\"text-align: right;\">\n      <th></th>\n      <th>index</th>\n      <th>rank_diff</th>\n      <th>points_grad_diff</th>\n      <th>rel_recent_wins</th>\n      <th>rel_tourney_games</th>\n      <th>age_diff</th>\n      <th>player_1</th>\n      <th>player_2</th>\n    </tr>\n  </thead>\n  <tbody>\n    <tr>\n      <th>0</th>\n      <td>0</td>\n      <td>0.298397</td>\n      <td>-0.156014</td>\n      <td>1.148764</td>\n      <td>0.000408</td>\n      <td>-1.069315</td>\n      <td>105815.0</td>\n      <td>111581.0</td>\n    </tr>\n    <tr>\n      <th>1</th>\n      <td>1</td>\n      <td>-0.083118</td>\n      <td>0.449323</td>\n      <td>-1.409212</td>\n      <td>0.000408</td>\n      <td>0.000917</td>\n      <td>104269.0</td>\n      <td>104291.0</td>\n    </tr>\n    <tr>\n      <th>2</th>\n      <td>2</td>\n      <td>-0.012353</td>\n      <td>0.015972</td>\n      <td>0.240009</td>\n      <td>0.000408</td>\n      <td>2.141381</td>\n      <td>126094.0</td>\n      <td>104500.0</td>\n    </tr>\n    <tr>\n      <th>3</th>\n      <td>3</td>\n      <td>0.070719</td>\n      <td>-0.057156</td>\n      <td>-1.139951</td>\n      <td>0.000408</td>\n      <td>1.071149</td>\n      <td>104735.0</td>\n      <td>106093.0</td>\n    </tr>\n    <tr>\n      <th>4</th>\n      <td>5</td>\n      <td>0.143022</td>\n      <td>-0.057156</td>\n      <td>2.259463</td>\n      <td>0.000408</td>\n      <td>1.308384</td>\n      <td>105091.0</td>\n      <td>111506.0</td>\n    </tr>\n    <tr>\n      <th>...</th>\n      <td>...</td>\n      <td>...</td>\n      <td>...</td>\n      <td>...</td>\n      <td>...</td>\n      <td>...</td>\n      <td>...</td>\n      <td>...</td>\n    </tr>\n    <tr>\n      <th>91430</th>\n      <td>91603</td>\n      <td>-0.738462</td>\n      <td>0.028160</td>\n      <td>0.004406</td>\n      <td>0.000408</td>\n      <td>1.028340</td>\n      <td>122606.0</td>\n      <td>202356.0</td>\n    </tr>\n    <tr>\n      <th>91431</th>\n      <td>91604</td>\n      <td>-0.576933</td>\n      <td>0.085037</td>\n      <td>0.744873</td>\n      <td>0.000408</td>\n      <td>-0.755380</td>\n      <td>106321.0</td>\n      <td>144972.0</td>\n    </tr>\n    <tr>\n      <th>91432</th>\n      <td>91605</td>\n      <td>2.625945</td>\n      <td>-0.181744</td>\n      <td>-1.745787</td>\n      <td>0.000408</td>\n      <td>-0.548469</td>\n      <td>106388.0</td>\n      <td>105897.0</td>\n    </tr>\n    <tr>\n      <th>91433</th>\n      <td>91606</td>\n      <td>0.241478</td>\n      <td>-0.063927</td>\n      <td>-2.082363</td>\n      <td>0.000408</td>\n      <td>-0.270208</td>\n      <td>126239.0</td>\n      <td>144696.0</td>\n    </tr>\n    <tr>\n      <th>91434</th>\n      <td>91607</td>\n      <td>-0.369254</td>\n      <td>0.013264</td>\n      <td>-1.106294</td>\n      <td>0.000408</td>\n      <td>-0.018704</td>\n      <td>138846.0</td>\n      <td>134113.0</td>\n    </tr>\n  </tbody>\n</table>\n<p>91435 rows × 8 columns</p>\n</div>"
     },
     "metadata": {},
     "output_type": "display_data"
    }
   ],
   "source": [
    "# Load data and process data set\n",
    "with open(os.path.join(ROOT_DIR, 'config.json')) as f:\n",
    "    config = json.load(f)\n",
    "\n",
    "proc_match_filepath = os.path.join(GEN_PATH, config['proc_match_filename'])\n",
    "\n",
    "# Read data\n",
    "data = pd.read_hdf(proc_match_filepath, key='matches')\n",
    "\n",
    "# Remove unwanted features and NaNs\n",
    "drop_cols_first = ['mutual_wins', 'mutual_surface_wins', 'surface', 'home_advantage', 'rel_climate_wins', 'rel_total_wins', 'mutual_games', 'rel_surface_wins']\n",
    "drop_cols_second = ['outcome', 'tourney_date', 'tourney_level']\n",
    "data.drop(drop_cols_first, axis=1, inplace=True)\n",
    "data.dropna(inplace=True)\n",
    "\n",
    "# Split data set into train and test\n",
    "# Start of 2019 season in unix time, 2018-12-31 00:00:00 UTC\n",
    "test_date_begin = 1546214400\n",
    "\n",
    "# Testing will be done on 2019 matches\n",
    "data_train = data.loc[data.tourney_date < test_date_begin]\n",
    "data_train.reset_index(inplace=True)\n",
    "y_train = data_train.outcome\n",
    "X_train = data_train.drop(drop_cols_second, axis=1)\n",
    "\n",
    "display(X_train)\n",
    "\n",
    "data_test = data.loc[data.tourney_date >= test_date_begin]\n",
    "data_test.reset_index(inplace=True)\n",
    "y_test = data_test.outcome\n",
    "tourney_level_test = data_test.tourney_level\n",
    "\n",
    "level_map = config['tourney_levels']\n",
    "points_map = config['match_points']\n",
    "\n",
    "# Extract number prediction points from match\n",
    "def get_points(level):\n",
    "    for key, value in level_map.items():\n",
    "        if value == level:\n",
    "            return points_map[key]\n",
    "\n",
    "tourney_level_test = tourney_level_test.apply(get_points, convert_dtype=True)\n",
    "\n",
    "X_test = data_test.drop(drop_cols_second, axis=1)\n",
    "\n",
    "# Number of folds to use in cross-validation\n",
    "cvs = 5"
   ],
   "metadata": {
    "collapsed": false,
    "pycharm": {
     "name": "#%%\n",
     "is_executing": false
    }
   }
  },
  {
   "cell_type": "code",
   "execution_count": 35,
   "outputs": [
    {
     "name": "stdout",
     "text": [
      "              precision    recall  f1-score   support\n",
      "\n",
      "        -1.0       0.92      0.93      0.92     15101\n",
      "         1.0       0.93      0.92      0.92     15073\n",
      "\n",
      "    accuracy                           0.92     30174\n",
      "   macro avg       0.92      0.92      0.92     30174\n",
      "weighted avg       0.92      0.92      0.92     30174\n",
      "\n"
     ],
     "output_type": "stream"
    },
    {
     "data": {
      "text/plain": "<Figure size 432x288 with 2 Axes>",
      "image/png": "[encoded data removed]"
     },
     "metadata": {},
     "output_type": "display_data"
    },
    {
     "data": {
      "text/plain": "<Figure size 432x288 with 1 Axes>",
      "image/png": "[encoded data removed]"
     },
     "metadata": {},
     "output_type": "display_data"
    }
   ],
   "source": [
    "# Run base model static split, RandomForest\n",
    "Xv_train, Xv_val, yv_train, yv_val = train_test_split(X_train, y_train, test_size=0.33, random_state=42)\n",
    "\n",
    "model = RandomForestClassifier()\n",
    "model.fit(Xv_train, yv_train)\n",
    "\n",
    "full_val_pred = model.predict(Xv_val)\n",
    "class_report_full = classification_report(yv_val, full_val_pred)\n",
    "print(class_report_full)\n",
    "\n",
    "sns.heatmap(Xv_train.corr(), annot=True, fmt='.1f')\n",
    "plt.show()\n",
    "\n",
    "sns.set(style=\"whitegrid\")\n",
    "feat_imp = pd.Series(model.feature_importances_, index=Xv_train.columns)\n",
    "feat_imp = feat_imp.sort_values(ascending=False)\n",
    "sns.barplot(x=feat_imp.to_list(), y=feat_imp.index, color='b')\n",
    "plt.show()"
   ],
   "metadata": {
    "collapsed": false,
    "pycharm": {
     "name": "#%%\n",
     "is_executing": false
    }
   }
  },
  {
   "cell_type": "code",
   "execution_count": 40,
   "outputs": [
    {
     "name": "stdout",
     "text": [
      "RandomForest accuracy: 0.92 (+/- 0.01)\n"
     ],
     "output_type": "stream"
    }
   ],
   "source": [
    "# Evaluate Random Forest with CV\n",
    "rf_model = RandomForestClassifier()\n",
    "scores = cross_val_score(rf_model, X_train, y_train, cv=cvs)\n",
    "print(\"RandomForest accuracy: %0.2f (+/- %0.2f)\" % (scores.mean(), scores.std() * 2))"
   ],
   "metadata": {
    "collapsed": false,
    "pycharm": {
     "name": "#%%\n",
     "is_executing": false
    }
   }
  },
  {
   "cell_type": "code",
   "execution_count": 45,
   "outputs": [
    {
     "name": "stdout",
     "text": [
      "kNN accuracy: 0.51 (+/- 0.00)\n"
     ],
     "output_type": "stream"
    }
   ],
   "source": [
    "# Evaluate kNN with CV\n",
    "\n",
    "k = len(X_train) ** 0.5\n",
    "knn_model = KNeighborsClassifier()\n",
    "scores = cross_val_score(knn_model, X_train, y_train, cv=cvs)\n",
    "print(\"kNN accuracy: %0.2f (+/- %0.2f)\" % (scores.mean(), scores.std() * 2))"
   ],
   "metadata": {
    "collapsed": false,
    "pycharm": {
     "name": "#%%\n",
     "is_executing": false
    }
   }
  },
  {
   "cell_type": "code",
   "execution_count": null,
   "outputs": [],
   "source": [
    "# Evaluate SVM with CV\n",
    "# DID NOT FINISH WITHIN REASONABLE TIME\n",
    "\n",
    "C = 1\n",
    "kernel = 'rbf'\n",
    "svm_model = SVC(C, kernel)\n",
    "scores = cross_val_score(svm_model, X_train, y_train, cv=cvs)\n",
    "print(\"SVM accuracy: %0.2f (+/- %0.2f)\" % (scores.mean(), scores.std() * 2))"
   ],
   "metadata": {
    "collapsed": false,
    "pycharm": {
     "name": "#%%\n",
     "is_executing": true
    }
   }
  },
  {
   "cell_type": "code",
   "execution_count": 5,
   "outputs": [
    {
     "name": "stderr",
     "text": [
      "/Library/Frameworks/Python.framework/Versions/3.7/lib/python3.7/site-packages/sklearn/neural_network/_multilayer_perceptron.py:571: ConvergenceWarning: Stochastic Optimizer: Maximum iterations (200) reached and the optimization hasn't converged yet.\n",
      "  % self.max_iter, ConvergenceWarning)\n",
      "/Library/Frameworks/Python.framework/Versions/3.7/lib/python3.7/site-packages/sklearn/neural_network/_multilayer_perceptron.py:571: ConvergenceWarning: Stochastic Optimizer: Maximum iterations (200) reached and the optimization hasn't converged yet.\n",
      "  % self.max_iter, ConvergenceWarning)\n",
      "/Library/Frameworks/Python.framework/Versions/3.7/lib/python3.7/site-packages/sklearn/neural_network/_multilayer_perceptron.py:571: ConvergenceWarning: Stochastic Optimizer: Maximum iterations (200) reached and the optimization hasn't converged yet.\n",
      "  % self.max_iter, ConvergenceWarning)\n",
      "/Library/Frameworks/Python.framework/Versions/3.7/lib/python3.7/site-packages/sklearn/neural_network/_multilayer_perceptron.py:571: ConvergenceWarning: Stochastic Optimizer: Maximum iterations (200) reached and the optimization hasn't converged yet.\n",
      "  % self.max_iter, ConvergenceWarning)\n",
      "/Library/Frameworks/Python.framework/Versions/3.7/lib/python3.7/site-packages/sklearn/neural_network/_multilayer_perceptron.py:571: ConvergenceWarning: Stochastic Optimizer: Maximum iterations (200) reached and the optimization hasn't converged yet.\n",
      "  % self.max_iter, ConvergenceWarning)\n"
     ],
     "output_type": "stream"
    },
    {
     "name": "stdout",
     "text": [
      "Neural Network accuracy: 0.71 (+/- 0.20)\n"
     ],
     "output_type": "stream"
    }
   ],
   "source": [
    "# Evaluate neural network with CV\n",
    "hidden_layer_sizes = (100,)\n",
    "activation = 'relu'\n",
    "alpha = 0.0001\n",
    "nn_model = MLPClassifier(hidden_layer_sizes, activation, alpha=alpha)\n",
    "scores = cross_val_score(nn_model, X_train, y_train, cv=cvs)\n",
    "print(\"Neural Network accuracy: %0.2f (+/- %0.2f)\" % (scores.mean(), scores.std() * 2))"
   ],
   "metadata": {
    "collapsed": false,
    "pycharm": {
     "name": "#%%\n",
     "is_executing": false
    }
   }
  },
  {
   "cell_type": "code",
   "execution_count": 36,
   "outputs": [
    {
     "name": "stdout",
     "text": [
      "              precision    recall  f1-score   support\n",
      "\n",
      "        -1.0       0.91      0.92      0.92     13522\n",
      "         1.0       0.92      0.91      0.92     13457\n",
      "\n",
      "    accuracy                           0.92     26979\n",
      "   macro avg       0.92      0.92      0.92     26979\n",
      "weighted avg       0.92      0.92      0.92     26979\n",
      "\n"
     ],
     "output_type": "stream"
    }
   ],
   "source": [
    "# Evaluate chosen model on test data and get score\n",
    "\n",
    "rf_model = RandomForestClassifier()\n",
    "rf_model.fit(X_train, y_train)\n",
    "p_test = rf_model.predict(X_test)\n",
    "\n",
    "print(classification_report(y_test, p_test))"
   ],
   "metadata": {
    "collapsed": false,
    "pycharm": {
     "name": "#%%\n",
     "is_executing": false
    }
   }
  },
  {
   "cell_type": "code",
   "execution_count": 37,
   "outputs": [
    {
     "name": "stdout",
     "text": [
      "ML accuracy 2019: 0.92\n",
      "Total points ML 2019: 59069\n",
      "Total best points human 2019: 19718\n"
     ],
     "output_type": "stream"
    }
   ],
   "source": [
    "# Display points\n",
    "\n",
    "df_p = pd.DataFrame(p_test, columns=['prediction'])\n",
    "c_test = pd.concat([df_p, y_test, tourney_level_test], axis=1)\n",
    "\n",
    "points = int(round(c_test.tourney_level[c_test.outcome == c_test.prediction].sum()))\n",
    "\n",
    "print(\"ML accuracy 2019: %0.2f\" % accuracy_score(y_test, p_test))\n",
    "print(\"Total points ML 2019:\", points)\n",
    "print(\"Total best points human 2019:\", 19718)"
   ],
   "metadata": {
    "collapsed": false,
    "pycharm": {
     "name": "#%%\n",
     "is_executing": false
    }
   }
  }
 ],
 "metadata": {
  "kernelspec": {
   "display_name": "Python 3",
   "language": "python",
   "name": "python3"
  },
  "language_info": {
   "codemirror_mode": {
    "name": "ipython",
    "version": 2
   },
   "file_extension": ".py",
   "mimetype": "text/x-python",
   "name": "python",
   "nbconvert_exporter": "python",
   "pygments_lexer": "ipython2",
   "version": "2.7.6"
  },
  "pycharm": {
   "stem_cell": {
    "cell_type": "raw",
    "source": [],
    "metadata": {
     "collapsed": false
    }
   }
  }
 },
 "nbformat": 4,
 "nbformat_minor": 0
}