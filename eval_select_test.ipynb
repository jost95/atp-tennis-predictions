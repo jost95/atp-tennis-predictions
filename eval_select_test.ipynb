{
 "cells": [
  {
   "cell_type": "markdown",
   "metadata": {},
   "source": [
    "# 1. Feature evaluation\n",
    "## Load dependencies and data\n",
    "\n",
    "Note that tourney_level, player_1, player_2 and surface should only be used to evaluate specific situations since these are not a \"difference feature\". All other features for a match is the difference in performance/situation for the two players."
   ]
  },
  {
   "cell_type": "code",
   "execution_count": 90,
   "metadata": {
    "pycharm": {
     "is_executing": false,
     "name": "#%%\n"
    }
   },
   "outputs": [],
   "source": [
    "import os\n",
    "import json\n",
    "import datetime as dt\n",
    "import pandas as pd\n",
    "import numpy as np\n",
    "import seaborn as sns\n",
    "import matplotlib.pyplot as plt\n",
    "\n",
    "from IPython.core.display import display\n",
    "from sklearn.ensemble import RandomForestClassifier\n",
    "from sklearn.feature_selection import RFE\n",
    "from sklearn.metrics import classification_report, accuracy_score\n",
    "from sklearn.model_selection import train_test_split, cross_val_score\n",
    "from sklearn.preprocessing import StandardScaler\n",
    "from sklearn.linear_model import LogisticRegression\n",
    "from sklearn.neighbors import KNeighborsClassifier\n",
    "from sklearn.neural_network import MLPClassifier\n",
    "from sklearn.svm import SVC\n",
    "from sklearn.tree import export_graphviz\n",
    "\n",
    "from definitions import GEN_PATH, ROOT_DIR\n",
    "from utilities.helper import logger\n",
    "\n",
    "sns.set_context('notebook')\n",
    "sns.set_style('white')\n",
    "sns.set(style=\"whitegrid\")\n",
    "\n",
    "# Read configuration file\n",
    "with open(os.path.join(ROOT_DIR, 'config.json')) as f:\n",
    "    config = json.load(f)\n",
    "\n",
    "proc_match_filepath = os.path.join(GEN_PATH, config['proc_match_filename_final'])\n",
    "\n",
    "# Read data\n",
    "data = pd.read_hdf(proc_match_filepath, key='matches')\n",
    "\n",
    "# Split data set into train and test, start of 2019 season in unix time, 2018-12-31 00:00:00 UTC\n",
    "test_date_begin = 1546214400\n",
    "\n",
    "# Initial model parameters\n",
    "rf_max_depth = 10  # arbitrary number used only feature evaluation\n",
    "rf_estimators = 100  # future default in sklearn\n",
    "lr_solver = 'lbfgs'  # Only supports Ridge regularization"
   ]
  },
  {
   "cell_type": "markdown",
   "metadata": {},
   "source": [
    "## Declare notebook wide functions"
   ]
  },
  {
   "cell_type": "code",
   "execution_count": 72,
   "metadata": {},
   "outputs": [],
   "source": [
    "@logger\n",
    "def start_pipe(df):\n",
    "    return df.copy()\n",
    "\n",
    "@logger\n",
    "def extract_by_date(df, begin = None, end = None):\n",
    "    df.dropna(inplace=True)\n",
    "    \n",
    "    if begin is None and end is None:\n",
    "        return df\n",
    "    elif begin is None:\n",
    "        return df.loc[df['tourney_date'] < end]\n",
    "    elif end is None:\n",
    "        return df.loc[df['tourney_date'] >= begin]\n",
    "    else:\n",
    "        return df.loc[(df['tourney_date'] >= begin) & (data['tourney_date'] < end)]\n",
    "\n",
    "@logger\n",
    "def one_hot_encode(df):\n",
    "    df = pd.get_dummies(df, columns=['home_advantage'])\n",
    "\n",
    "    renames = {\n",
    "        'home_advantage_-1.0': 'p2_home',\n",
    "        'home_advantage_0.0': 'none_home',\n",
    "        'home_advantage_1.0': 'p1_home',\n",
    "    }\n",
    "\n",
    "    return df.rename(columns=renames)    \n",
    "\n",
    "@logger\n",
    "def extract_main_tourneys(df):\n",
    "    return df.loc[(df['tourney_level'] == 2) | (df['tourney_level'] == 3)]\n",
    "\n",
    "@logger\n",
    "def get_points(df):\n",
    "    level_map = config['tourney_levels']\n",
    "    points_map = config['match_points']\n",
    "    \n",
    "    def get_match_points(level):\n",
    "        for key, value in level_map.items():\n",
    "            if value == level:\n",
    "                return points_map[key]\n",
    "\n",
    "    df['match_points'] = df['tourney_level'].apply(get_match_points, convert_dtype=True)\n",
    "    return df\n",
    "\n",
    "@logger\n",
    "def prune_columns(df):\n",
    "    # These are only interested for evaluating specific situations\n",
    "    drop_cols = ['outcome', 'tourney_date', 'tourney_level', 'player_1', 'player_2', 'surface']\n",
    "    df_y = df['outcome']\n",
    "    df_x = df.drop(drop_cols, axis=1)\n",
    "    return df_x, df_y\n",
    "\n",
    "def plot_rf_feat_imp(importances, columns):\n",
    "    feat_imp = pd.Series(importances, index=columns)\n",
    "    feat_imp = feat_imp.sort_values(ascending=False)\n",
    "    sns.barplot(x=feat_imp.to_list(), y=feat_imp.index, color='b')\n",
    "    plt.show()\n",
    "\n",
    "def plot_lr_feat_sign(X, coeffs):\n",
    "    std_dev = np.std(X, 0)\n",
    "    influence = std_dev*np.abs(coeffs)\n",
    "    influence.sort_values(ascending=False, inplace=True)\n",
    "    sns.barplot(x=influence.to_list(), y=influence.index, color='b')\n",
    "    plt.show()\n",
    "\n",
    "def plot_hyperparam(accs, params):\n",
    "    sns.lineplot(params, accs)\n",
    "    plt.show()"
   ]
  },
  {
   "cell_type": "markdown",
   "metadata": {
    "pycharm": {
     "name": "#%% md\n"
    }
   },
   "source": [
    "## Extract training and validation data"
   ]
  },
  {
   "cell_type": "code",
   "execution_count": 54,
   "metadata": {
    "pycharm": {
     "is_executing": false,
     "name": "#%%\n"
    }
   },
   "outputs": [
    {
     "name": "stdout",
     "output_type": "stream",
     "text": [
      "extract_by_date took=0:00:00.040938 shape=(91435, 18)\n",
      "one_hot_encode took=0:00:00.057600 shape=(91435, 20)\n",
      "prune_columns took=0:00:00.010800 shape=(91435, 14)(91435,)\n"
     ]
    },
    {
     "data": {
      "text/html": [
       "<div>\n",
       "<style scoped>\n",
       "    .dataframe tbody tr th:only-of-type {\n",
       "        vertical-align: middle;\n",
       "    }\n",
       "\n",
       "    .dataframe tbody tr th {\n",
       "        vertical-align: top;\n",
       "    }\n",
       "\n",
       "    .dataframe thead th {\n",
       "        text-align: right;\n",
       "    }\n",
       "</style>\n",
       "<table border=\"1\" class=\"dataframe\">\n",
       "  <thead>\n",
       "    <tr style=\"text-align: right;\">\n",
       "      <th></th>\n",
       "      <th>rel_total_wins</th>\n",
       "      <th>rel_surface_wins</th>\n",
       "      <th>mutual_wins</th>\n",
       "      <th>mutual_surface_wins</th>\n",
       "      <th>mutual_games</th>\n",
       "      <th>rank_diff</th>\n",
       "      <th>points_grad_diff</th>\n",
       "      <th>rel_climate_wins</th>\n",
       "      <th>rel_recent_wins</th>\n",
       "      <th>rel_tourney_games</th>\n",
       "      <th>age_diff</th>\n",
       "      <th>p2_home</th>\n",
       "      <th>none_home</th>\n",
       "      <th>p1_home</th>\n",
       "    </tr>\n",
       "  </thead>\n",
       "  <tbody>\n",
       "    <tr>\n",
       "      <td>13005</td>\n",
       "      <td>-0.328981</td>\n",
       "      <td>-0.372376</td>\n",
       "      <td>1.443146</td>\n",
       "      <td>1.522080</td>\n",
       "      <td>2.290345</td>\n",
       "      <td>0.138407</td>\n",
       "      <td>-0.035488</td>\n",
       "      <td>-0.092580</td>\n",
       "      <td>0.004406</td>\n",
       "      <td>0.000408</td>\n",
       "      <td>0.471819</td>\n",
       "      <td>0</td>\n",
       "      <td>1</td>\n",
       "      <td>0</td>\n",
       "    </tr>\n",
       "    <tr>\n",
       "      <td>38678</td>\n",
       "      <td>-0.605043</td>\n",
       "      <td>-0.652218</td>\n",
       "      <td>-0.000751</td>\n",
       "      <td>-0.000729</td>\n",
       "      <td>0.000642</td>\n",
       "      <td>0.263015</td>\n",
       "      <td>-0.138409</td>\n",
       "      <td>-0.902241</td>\n",
       "      <td>-2.890145</td>\n",
       "      <td>0.000408</td>\n",
       "      <td>-0.277343</td>\n",
       "      <td>0</td>\n",
       "      <td>1</td>\n",
       "      <td>0</td>\n",
       "    </tr>\n",
       "    <tr>\n",
       "      <td>62320</td>\n",
       "      <td>0.223142</td>\n",
       "      <td>-0.185814</td>\n",
       "      <td>0.265753</td>\n",
       "      <td>0.442694</td>\n",
       "      <td>2.460596</td>\n",
       "      <td>-0.070811</td>\n",
       "      <td>1.937613</td>\n",
       "      <td>-0.425970</td>\n",
       "      <td>-0.062909</td>\n",
       "      <td>-2.326092</td>\n",
       "      <td>1.973712</td>\n",
       "      <td>0</td>\n",
       "      <td>1</td>\n",
       "      <td>0</td>\n",
       "    </tr>\n",
       "    <tr>\n",
       "      <td>63574</td>\n",
       "      <td>-0.108132</td>\n",
       "      <td>0.280591</td>\n",
       "      <td>0.134490</td>\n",
       "      <td>0.396018</td>\n",
       "      <td>-0.235625</td>\n",
       "      <td>-0.140037</td>\n",
       "      <td>0.518388</td>\n",
       "      <td>0.097928</td>\n",
       "      <td>0.509270</td>\n",
       "      <td>0.410967</td>\n",
       "      <td>-0.926617</td>\n",
       "      <td>0</td>\n",
       "      <td>1</td>\n",
       "      <td>0</td>\n",
       "    </tr>\n",
       "    <tr>\n",
       "      <td>61359</td>\n",
       "      <td>0.664842</td>\n",
       "      <td>0.700355</td>\n",
       "      <td>-0.000751</td>\n",
       "      <td>-0.000729</td>\n",
       "      <td>0.000642</td>\n",
       "      <td>-1.026136</td>\n",
       "      <td>0.014618</td>\n",
       "      <td>0.574199</td>\n",
       "      <td>0.004406</td>\n",
       "      <td>0.000408</td>\n",
       "      <td>0.764350</td>\n",
       "      <td>0</td>\n",
       "      <td>1</td>\n",
       "      <td>0</td>\n",
       "    </tr>\n",
       "    <tr>\n",
       "      <td>...</td>\n",
       "      <td>...</td>\n",
       "      <td>...</td>\n",
       "      <td>...</td>\n",
       "      <td>...</td>\n",
       "      <td>...</td>\n",
       "      <td>...</td>\n",
       "      <td>...</td>\n",
       "      <td>...</td>\n",
       "      <td>...</td>\n",
       "      <td>...</td>\n",
       "      <td>...</td>\n",
       "      <td>...</td>\n",
       "      <td>...</td>\n",
       "      <td>...</td>\n",
       "    </tr>\n",
       "    <tr>\n",
       "      <td>6283</td>\n",
       "      <td>0.664842</td>\n",
       "      <td>1.026839</td>\n",
       "      <td>-0.000751</td>\n",
       "      <td>-0.000729</td>\n",
       "      <td>0.000642</td>\n",
       "      <td>-1.006137</td>\n",
       "      <td>0.280045</td>\n",
       "      <td>-0.378343</td>\n",
       "      <td>-0.332169</td>\n",
       "      <td>0.274114</td>\n",
       "      <td>-0.223831</td>\n",
       "      <td>0</td>\n",
       "      <td>1</td>\n",
       "      <td>0</td>\n",
       "    </tr>\n",
       "    <tr>\n",
       "      <td>55010</td>\n",
       "      <td>-0.218557</td>\n",
       "      <td>-2.611118</td>\n",
       "      <td>-0.000751</td>\n",
       "      <td>-0.000729</td>\n",
       "      <td>0.000642</td>\n",
       "      <td>1.202956</td>\n",
       "      <td>-0.023300</td>\n",
       "      <td>-0.283089</td>\n",
       "      <td>-0.163882</td>\n",
       "      <td>0.000408</td>\n",
       "      <td>-1.782803</td>\n",
       "      <td>0</td>\n",
       "      <td>1</td>\n",
       "      <td>0</td>\n",
       "    </tr>\n",
       "    <tr>\n",
       "      <td>76963</td>\n",
       "      <td>-0.439406</td>\n",
       "      <td>-2.331275</td>\n",
       "      <td>-0.000751</td>\n",
       "      <td>-0.000729</td>\n",
       "      <td>0.000642</td>\n",
       "      <td>0.055335</td>\n",
       "      <td>-0.856147</td>\n",
       "      <td>-0.330716</td>\n",
       "      <td>1.418024</td>\n",
       "      <td>0.000408</td>\n",
       "      <td>-0.644789</td>\n",
       "      <td>0</td>\n",
       "      <td>1</td>\n",
       "      <td>0</td>\n",
       "    </tr>\n",
       "    <tr>\n",
       "      <td>863</td>\n",
       "      <td>-0.439406</td>\n",
       "      <td>-0.325735</td>\n",
       "      <td>-0.000751</td>\n",
       "      <td>-0.000729</td>\n",
       "      <td>0.000642</td>\n",
       "      <td>0.044567</td>\n",
       "      <td>-0.948234</td>\n",
       "      <td>-0.997495</td>\n",
       "      <td>-0.433142</td>\n",
       "      <td>0.000408</td>\n",
       "      <td>1.279845</td>\n",
       "      <td>0</td>\n",
       "      <td>1</td>\n",
       "      <td>0</td>\n",
       "    </tr>\n",
       "    <tr>\n",
       "      <td>15833</td>\n",
       "      <td>2.376426</td>\n",
       "      <td>2.286131</td>\n",
       "      <td>-0.000751</td>\n",
       "      <td>-0.000729</td>\n",
       "      <td>0.000642</td>\n",
       "      <td>-2.862945</td>\n",
       "      <td>0.317963</td>\n",
       "      <td>2.431654</td>\n",
       "      <td>1.754600</td>\n",
       "      <td>1.779497</td>\n",
       "      <td>1.515296</td>\n",
       "      <td>0</td>\n",
       "      <td>1</td>\n",
       "      <td>0</td>\n",
       "    </tr>\n",
       "  </tbody>\n",
       "</table>\n",
       "<p>61261 rows × 14 columns</p>\n",
       "</div>"
      ],
      "text/plain": [
       "       rel_total_wins  rel_surface_wins  mutual_wins  mutual_surface_wins  \\\n",
       "13005       -0.328981         -0.372376     1.443146             1.522080   \n",
       "38678       -0.605043         -0.652218    -0.000751            -0.000729   \n",
       "62320        0.223142         -0.185814     0.265753             0.442694   \n",
       "63574       -0.108132          0.280591     0.134490             0.396018   \n",
       "61359        0.664842          0.700355    -0.000751            -0.000729   \n",
       "...               ...               ...          ...                  ...   \n",
       "6283         0.664842          1.026839    -0.000751            -0.000729   \n",
       "55010       -0.218557         -2.611118    -0.000751            -0.000729   \n",
       "76963       -0.439406         -2.331275    -0.000751            -0.000729   \n",
       "863         -0.439406         -0.325735    -0.000751            -0.000729   \n",
       "15833        2.376426          2.286131    -0.000751            -0.000729   \n",
       "\n",
       "       mutual_games  rank_diff  points_grad_diff  rel_climate_wins  \\\n",
       "13005      2.290345   0.138407         -0.035488         -0.092580   \n",
       "38678      0.000642   0.263015         -0.138409         -0.902241   \n",
       "62320      2.460596  -0.070811          1.937613         -0.425970   \n",
       "63574     -0.235625  -0.140037          0.518388          0.097928   \n",
       "61359      0.000642  -1.026136          0.014618          0.574199   \n",
       "...             ...        ...               ...               ...   \n",
       "6283       0.000642  -1.006137          0.280045         -0.378343   \n",
       "55010      0.000642   1.202956         -0.023300         -0.283089   \n",
       "76963      0.000642   0.055335         -0.856147         -0.330716   \n",
       "863        0.000642   0.044567         -0.948234         -0.997495   \n",
       "15833      0.000642  -2.862945          0.317963          2.431654   \n",
       "\n",
       "       rel_recent_wins  rel_tourney_games  age_diff  p2_home  none_home  \\\n",
       "13005         0.004406           0.000408  0.471819        0          1   \n",
       "38678        -2.890145           0.000408 -0.277343        0          1   \n",
       "62320        -0.062909          -2.326092  1.973712        0          1   \n",
       "63574         0.509270           0.410967 -0.926617        0          1   \n",
       "61359         0.004406           0.000408  0.764350        0          1   \n",
       "...                ...                ...       ...      ...        ...   \n",
       "6283         -0.332169           0.274114 -0.223831        0          1   \n",
       "55010        -0.163882           0.000408 -1.782803        0          1   \n",
       "76963         1.418024           0.000408 -0.644789        0          1   \n",
       "863          -0.433142           0.000408  1.279845        0          1   \n",
       "15833         1.754600           1.779497  1.515296        0          1   \n",
       "\n",
       "       p1_home  \n",
       "13005        0  \n",
       "38678        0  \n",
       "62320        0  \n",
       "63574        0  \n",
       "61359        0  \n",
       "...        ...  \n",
       "6283         0  \n",
       "55010        0  \n",
       "76963        0  \n",
       "863          0  \n",
       "15833        0  \n",
       "\n",
       "[61261 rows x 14 columns]"
      ]
     },
     "metadata": {},
     "output_type": "display_data"
    }
   ],
   "source": [
    "X_train_full, y_train_full = (data\n",
    "    .pipe(extract_by_date, end=test_date_begin)\n",
    "    .pipe(one_hot_encode)\n",
    "    .pipe(prune_columns))\n",
    "\n",
    "# Split into validation and training part\n",
    "X_train, X_val, y_train, y_val = train_test_split(X_train_full, y_train_full, test_size=0.33, random_state=42)\n",
    "\n",
    "display(X_train)"
   ]
  },
  {
   "cell_type": "markdown",
   "metadata": {
    "pycharm": {
     "name": "#%% md\n"
    }
   },
   "source": [
    "## Correlation heatmap of all features\n",
    "\n",
    "This shows a high correlation between some of the features (which is naturual). Find out which to remove by checking the feature importance in the next steps."
   ]
  },
  {
   "cell_type": "code",
   "execution_count": 6,
   "metadata": {
    "pycharm": {
     "is_executing": false,
     "name": "#%%\n"
    }
   },
   "outputs": [
    {
     "data": {
      "image/png": "[encoded data removed]",
      "text/plain": [
       "<Figure size 432x288 with 2 Axes>"
      ]
     },
     "metadata": {},
     "output_type": "display_data"
    }
   ],
   "source": [
    "X_train_heat = X_train.drop(['p2_home', 'none_home', 'p1_home'], axis=1)\n",
    "sns.heatmap(X_train_heat.corr(), annot=True, fmt='.1f')\n",
    "plt.show()"
   ]
  },
  {
   "cell_type": "markdown",
   "metadata": {
    "pycharm": {
     "name": "#%% md\n"
    }
   },
   "source": [
    "## Feature importance by RandomForest\n",
    "Which features help split our tree in the best way possible, i.e. how does each feature affect the accuracy of our model?"
   ]
  },
  {
   "cell_type": "code",
   "execution_count": 5,
   "metadata": {
    "pycharm": {
     "is_executing": false,
     "name": "#%%\n"
    }
   },
   "outputs": [
    {
     "data": {
      "image/png": "[encoded data removed]",
      "text/plain": [
       "<Figure size 432x288 with 1 Axes>"
      ]
     },
     "metadata": {
      "needs_background": "light"
     },
     "output_type": "display_data"
    }
   ],
   "source": [
    "rf_model = RandomForestClassifier(max_depth=rf_max_depth, n_estimators=rf_estimators)\n",
    "rf_model.fit(X_train, y_train)\n",
    "plot_rf_feat_imp(rf_model.feature_importances_, X_train.columns)"
   ]
  },
  {
   "cell_type": "markdown",
   "metadata": {
    "pycharm": {
     "name": "#%% md\n"
    }
   },
   "source": [
    "## Recursive feature elimination by RandomForest\n",
    "Prunes the results from previous sections by selecting the 4 most important features. A ranking of 1 means the algorithm suggests the feature. Results correspond to plot above."
   ]
  },
  {
   "cell_type": "code",
   "execution_count": 85,
   "metadata": {
    "pycharm": {
     "is_executing": false,
     "name": "#%%\n"
    },
    "scrolled": true
   },
   "outputs": [
    {
     "data": {
      "text/html": [
       "<div>\n",
       "<style scoped>\n",
       "    .dataframe tbody tr th:only-of-type {\n",
       "        vertical-align: middle;\n",
       "    }\n",
       "\n",
       "    .dataframe tbody tr th {\n",
       "        vertical-align: top;\n",
       "    }\n",
       "\n",
       "    .dataframe thead th {\n",
       "        text-align: right;\n",
       "    }\n",
       "</style>\n",
       "<table border=\"1\" class=\"dataframe\">\n",
       "  <thead>\n",
       "    <tr style=\"text-align: right;\">\n",
       "      <th></th>\n",
       "      <th>Ranking</th>\n",
       "    </tr>\n",
       "    <tr>\n",
       "      <th>Feature</th>\n",
       "      <th></th>\n",
       "    </tr>\n",
       "  </thead>\n",
       "  <tbody>\n",
       "    <tr>\n",
       "      <td>rel_surface_wins</td>\n",
       "      <td>1</td>\n",
       "    </tr>\n",
       "    <tr>\n",
       "      <td>rank_diff</td>\n",
       "      <td>1</td>\n",
       "    </tr>\n",
       "    <tr>\n",
       "      <td>points_grad_diff</td>\n",
       "      <td>1</td>\n",
       "    </tr>\n",
       "    <tr>\n",
       "      <td>rel_tourney_games</td>\n",
       "      <td>1</td>\n",
       "    </tr>\n",
       "    <tr>\n",
       "      <td>rel_total_wins</td>\n",
       "      <td>2</td>\n",
       "    </tr>\n",
       "    <tr>\n",
       "      <td>rel_climate_wins</td>\n",
       "      <td>3</td>\n",
       "    </tr>\n",
       "    <tr>\n",
       "      <td>rel_recent_wins</td>\n",
       "      <td>4</td>\n",
       "    </tr>\n",
       "    <tr>\n",
       "      <td>age_diff</td>\n",
       "      <td>5</td>\n",
       "    </tr>\n",
       "    <tr>\n",
       "      <td>mutual_games</td>\n",
       "      <td>6</td>\n",
       "    </tr>\n",
       "    <tr>\n",
       "      <td>mutual_wins</td>\n",
       "      <td>7</td>\n",
       "    </tr>\n",
       "    <tr>\n",
       "      <td>mutual_surface_wins</td>\n",
       "      <td>8</td>\n",
       "    </tr>\n",
       "    <tr>\n",
       "      <td>p1_home</td>\n",
       "      <td>9</td>\n",
       "    </tr>\n",
       "    <tr>\n",
       "      <td>p2_home</td>\n",
       "      <td>10</td>\n",
       "    </tr>\n",
       "    <tr>\n",
       "      <td>none_home</td>\n",
       "      <td>11</td>\n",
       "    </tr>\n",
       "  </tbody>\n",
       "</table>\n",
       "</div>"
      ],
      "text/plain": [
       "                     Ranking\n",
       "Feature                     \n",
       "rel_surface_wins           1\n",
       "rank_diff                  1\n",
       "points_grad_diff           1\n",
       "rel_tourney_games          1\n",
       "rel_total_wins             2\n",
       "rel_climate_wins           3\n",
       "rel_recent_wins            4\n",
       "age_diff                   5\n",
       "mutual_games               6\n",
       "mutual_wins                7\n",
       "mutual_surface_wins        8\n",
       "p1_home                    9\n",
       "p2_home                   10\n",
       "none_home                 11"
      ]
     },
     "metadata": {},
     "output_type": "display_data"
    },
    {
     "name": "stdout",
     "output_type": "stream",
     "text": [
      "Number of features selected: 4\n"
     ]
    }
   ],
   "source": [
    "rfe_model = RandomForestClassifier(max_depth=rf_max_depth, n_estimators=rf_estimators)\n",
    "rfe_model = RFE(rfe_model, n_features_to_select=4)  # selects 4 of the features\n",
    "rfe_model.fit(X_train, y_train)\n",
    "\n",
    "rankings = rfe_model.ranking_\n",
    "idx = np.argsort(rankings)\n",
    "rankings = rankings[idx]\n",
    "columns = X_train.columns[idx]\n",
    "\n",
    "rfe_results = pd.DataFrame(rankings, index=columns, columns=['Ranking'])\n",
    "rfe_results.index.name = 'Feature'\n",
    "display(rfe_results)\n",
    "\n",
    "print(f\"Number of features selected: {rfe_model.n_features_}\")"
   ]
  },
  {
   "cell_type": "markdown",
   "metadata": {},
   "source": [
    "## Feature importance by logistic regression\n",
    "\n",
    "Below mostly confirms 7 most important features from RF model but with different significances with the exception that mutual_games is swapt for rel_recent_matches. Note that all columns are already standardized except for the p1_home, p2_home and none_home."
   ]
  },
  {
   "cell_type": "code",
   "execution_count": 6,
   "metadata": {},
   "outputs": [
    {
     "data": {
      "image/png": "[encoded data removed]",
      "text/plain": [
       "<Figure size 432x288 with 1 Axes>"
      ]
     },
     "metadata": {
      "needs_background": "light"
     },
     "output_type": "display_data"
    }
   ],
   "source": [
    "lr_model = LogisticRegression(solver=lr_solver)\n",
    "lr_model.fit(X_train, y_train)    \n",
    "plot_lr_feat_sign(X_train, lr_model.coef_[0])"
   ]
  },
  {
   "cell_type": "markdown",
   "metadata": {},
   "source": [
    "## Prune correlated and poorly significant features for both models\n",
    "\n",
    "Keep the most significant features but remove any the highly correlated features that are less significant: rel_total_wins, rel_climate_wins. "
   ]
  },
  {
   "cell_type": "code",
   "execution_count": 7,
   "metadata": {},
   "outputs": [
    {
     "data": {
      "image/png": "[encoded data removed]",
      "text/plain": [
       "<Figure size 432x288 with 2 Axes>"
      ]
     },
     "metadata": {
      "needs_background": "light"
     },
     "output_type": "display_data"
    },
    {
     "name": "stdout",
     "output_type": "stream",
     "text": [
      "Feature importance for Final RF Model\n"
     ]
    },
    {
     "data": {
      "image/png": "[encoded data removed]",
      "text/plain": [
       "<Figure size 432x288 with 1 Axes>"
      ]
     },
     "metadata": {
      "needs_background": "light"
     },
     "output_type": "display_data"
    },
    {
     "name": "stdout",
     "output_type": "stream",
     "text": [
      "Feature importance for Final LogReg Model\n"
     ]
    },
    {
     "data": {
      "image/png": "[encoded data removed]",
      "text/plain": [
       "<Figure size 432x288 with 1 Axes>"
      ]
     },
     "metadata": {
      "needs_background": "light"
     },
     "output_type": "display_data"
    }
   ],
   "source": [
    "final_columns = ['rel_surface_wins', 'rank_diff', 'points_grad_diff', 'rel_tourney_games']\n",
    "X_train_final = X_train.filter(final_columns)\n",
    "\n",
    "# Check new correlation plot\n",
    "sns.heatmap(X_train_final.corr(), annot=True, fmt='.1f')\n",
    "plt.show()\n",
    "\n",
    "rf_model_final = RandomForestClassifier(max_depth=rf_max_depth, n_estimators=rf_estimators)\n",
    "rf_model_final.fit(X_train_final, y_train)\n",
    "\n",
    "lr_model_final = LogisticRegression(solver=lr_solver)\n",
    "lr_model_final.fit(X_train_final, y_train)\n",
    "\n",
    "# Check new feature importances and significance\n",
    "print('Feature importance for Final RF Model')\n",
    "plot_rf_feat_imp(rf_model_final.feature_importances_, X_train_final.columns)\n",
    "\n",
    "print('Feature importance for Final LogReg Model')\n",
    "plot_lr_feat_sign(X_train_final, lr_model_final.coef_[0])"
   ]
  },
  {
   "cell_type": "markdown",
   "metadata": {},
   "source": [
    "## Check classification reports given different features\n",
    "\n",
    "As one can see below, no performance on static validation set is lossed for any of the two algorithms. Thus since confirmed by two models, for the model selection part, even though different models may like different features, the final_column features are the ones that will be used to test different models. Also, no difference in metrics can be seen which is naturual since our data set is exactly balanced."
   ]
  },
  {
   "cell_type": "code",
   "execution_count": 8,
   "metadata": {},
   "outputs": [
    {
     "name": "stdout",
     "output_type": "stream",
     "text": [
      "Full RandomForest model:\n",
      "              precision    recall  f1-score   support\n",
      "\n",
      "        -1.0       0.73      0.73      0.73     15101\n",
      "         1.0       0.73      0.73      0.73     15073\n",
      "\n",
      "    accuracy                           0.73     30174\n",
      "   macro avg       0.73      0.73      0.73     30174\n",
      "weighted avg       0.73      0.73      0.73     30174\n",
      "\n",
      "Final RandomForest model:\n",
      "              precision    recall  f1-score   support\n",
      "\n",
      "        -1.0       0.73      0.74      0.73     15101\n",
      "         1.0       0.73      0.72      0.73     15073\n",
      "\n",
      "    accuracy                           0.73     30174\n",
      "   macro avg       0.73      0.73      0.73     30174\n",
      "weighted avg       0.73      0.73      0.73     30174\n",
      "\n",
      "Full LogReg model:\n",
      "              precision    recall  f1-score   support\n",
      "\n",
      "        -1.0       0.72      0.72      0.72     15101\n",
      "         1.0       0.72      0.73      0.72     15073\n",
      "\n",
      "    accuracy                           0.72     30174\n",
      "   macro avg       0.72      0.72      0.72     30174\n",
      "weighted avg       0.72      0.72      0.72     30174\n",
      "\n",
      "Final LogReg model:\n",
      "              precision    recall  f1-score   support\n",
      "\n",
      "        -1.0       0.72      0.72      0.72     15101\n",
      "         1.0       0.72      0.73      0.72     15073\n",
      "\n",
      "    accuracy                           0.72     30174\n",
      "   macro avg       0.72      0.72      0.72     30174\n",
      "weighted avg       0.72      0.72      0.72     30174\n",
      "\n"
     ]
    }
   ],
   "source": [
    "X_val_final = X_val.filter(final_columns)\n",
    "\n",
    "print('Full RandomForest model:')\n",
    "print(classification_report(y_val, rf_model.predict(X_val)))\n",
    "\n",
    "print('Final RandomForest model:')\n",
    "print(classification_report(y_val, rf_model_final.predict(X_val_final)))\n",
    "\n",
    "print('Full LogReg model:')\n",
    "print(classification_report(y_val, lr_model.predict(X_val)))\n",
    "\n",
    "print('Final LogReg model:')\n",
    "print(classification_report(y_val, lr_model_final.predict(X_val_final)))"
   ]
  },
  {
   "cell_type": "markdown",
   "metadata": {},
   "source": [
    "# 2. Model Selection\n",
    "\n",
    "This part is dedicated to hyper parameter tuning and model selection. Cross validation will be used to commpare the models but not to tune the hyperparameters.\n",
    "\n",
    "Also, most models will be evaluated using the four final features identified above. However, a Neural Network will also be trained using all features to see. This will not be the case for SVM since it is too slow to train..."
   ]
  },
  {
   "cell_type": "code",
   "execution_count": 9,
   "metadata": {},
   "outputs": [],
   "source": [
    "no_folds = 10  # number of folds\n",
    "X_train_final_full = X_train_full.filter(final_columns)"
   ]
  },
  {
   "cell_type": "markdown",
   "metadata": {},
   "source": [
    "## Logistic Regression\n",
    "\n",
    "### Calibration\n",
    "Calibration of hyperparameter C which is the inverse of regularization strength."
   ]
  },
  {
   "cell_type": "code",
   "execution_count": 23,
   "metadata": {},
   "outputs": [
    {
     "data": {
      "image/png": "[encoded data removed]",
      "text/plain": [
       "<Figure size 432x288 with 1 Axes>"
      ]
     },
     "metadata": {},
     "output_type": "display_data"
    },
    {
     "name": "stdout",
     "output_type": "stream",
     "text": [
      "Best C: 0.09 with accuracy: 0.7212500828527871\n"
     ]
    }
   ],
   "source": [
    "accuracies = []\n",
    "c_vals = list(np.arange(0.01, 1, 0.01))\n",
    "best_acc = 0\n",
    "best_c = 0\n",
    "\n",
    "for c in c_vals:\n",
    "    lr_model_cal = LogisticRegression(solver=lr_solver, C=c)\n",
    "    lr_model_cal.fit(X_train_final, y_train)\n",
    "    predictions = lr_model_cal.predict(X_val_final)\n",
    "    acc = accuracy_score(y_val, predictions)\n",
    "    \n",
    "    if acc > best_acc:\n",
    "        best_acc = acc\n",
    "        best_c = c\n",
    "    \n",
    "    accuracies.append(acc)\n",
    "\n",
    "plot_hyperparam(accuracies, c_vals)\n",
    "\n",
    "print(f\"Best C: {best_c} with accuracy: {best_acc}\")"
   ]
  },
  {
   "cell_type": "markdown",
   "metadata": {},
   "source": [
    "### Cross validation score"
   ]
  },
  {
   "cell_type": "code",
   "execution_count": 27,
   "metadata": {},
   "outputs": [
    {
     "name": "stdout",
     "output_type": "stream",
     "text": [
      "Logistic Regression accuracy: 0.721 (+/- 0.015)\n"
     ]
    }
   ],
   "source": [
    "optimal_c = 0.09\n",
    "lr_model_final = LogisticRegression(solver=lr_solver, C=optimal_c)\n",
    "lr_scores = cross_val_score(lr_model_final, X_train_final_full, y_train_full, cv=no_folds)\n",
    "print(\"Logistic Regression accuracy: %0.3f (+/- %0.3f)\" % (lr_scores.mean(), lr_scores.std() * 2))"
   ]
  },
  {
   "cell_type": "markdown",
   "metadata": {},
   "source": [
    "## Random Forest\n",
    "\n",
    "### Calibration\n",
    "\n",
    "Calibration of max tree depth"
   ]
  },
  {
   "cell_type": "code",
   "execution_count": 29,
   "metadata": {},
   "outputs": [
    {
     "data": {
      "image/png": "[encoded data removed]",
      "text/plain": [
       "<Figure size 432x288 with 1 Axes>"
      ]
     },
     "metadata": {},
     "output_type": "display_data"
    },
    {
     "name": "stdout",
     "output_type": "stream",
     "text": [
      "Best max_depth: 7 with accuracy: 0.7309604295088487\n"
     ]
    }
   ],
   "source": [
    "accuracies = []\n",
    "depths = list(np.arange(1, 20, 1))\n",
    "best_acc = 0\n",
    "best_depth = 0\n",
    "\n",
    "for max_depth in depths:\n",
    "    rf_model_cal = RandomForestClassifier(max_depth=max_depth, n_estimators=rf_estimators)\n",
    "    rf_model_cal.fit(X_train_final, y_train)\n",
    "    predictions = rf_model_cal.predict(X_val_final)\n",
    "    acc = accuracy_score(y_val, predictions)\n",
    "    \n",
    "    if acc > best_acc:\n",
    "        best_acc = acc\n",
    "        best_depth = max_depth\n",
    "    \n",
    "    accuracies.append(acc)\n",
    "\n",
    "plot_hyperparam(accuracies, depths)\n",
    "\n",
    "print(f\"Best max_depth: {best_depth} with accuracy: {best_acc}\")"
   ]
  },
  {
   "cell_type": "markdown",
   "metadata": {},
   "source": [
    "### Cross validation score"
   ]
  },
  {
   "cell_type": "code",
   "execution_count": 30,
   "metadata": {},
   "outputs": [
    {
     "name": "stdout",
     "output_type": "stream",
     "text": [
      "Logistic Regression accuracy: 0.730 (+/- 0.016)\n"
     ]
    }
   ],
   "source": [
    "optimal_max_depth = 7\n",
    "rf_model_final = RandomForestClassifier(max_depth=optimal_max_depth, n_estimators=rf_estimators)\n",
    "rf_scores = cross_val_score(rf_model_final, X_train_final_full, y_train_full, cv=no_folds)\n",
    "print(\"Random Forest accuracy: %0.3f (+/- %0.3f)\" % (rf_scores.mean(), rf_scores.std() * 2))"
   ]
  },
  {
   "cell_type": "markdown",
   "metadata": {},
   "source": [
    "## k-Neighbours\n",
    "\n",
    "### Calibration of number of neighbors with uniform weighting"
   ]
  },
  {
   "cell_type": "code",
   "execution_count": 49,
   "metadata": {},
   "outputs": [
    {
     "data": {
      "image/png": "[encoded data removed]",
      "text/plain": [
       "<Figure size 432x288 with 1 Axes>"
      ]
     },
     "metadata": {},
     "output_type": "display_data"
    },
    {
     "name": "stdout",
     "output_type": "stream",
     "text": [
      "Best factor uniform: 0.5 (base k: 247.50959577357804) with accuracy: 0.7238350898124213\n"
     ]
    }
   ],
   "source": [
    "def calibrate_neighbors(base_k, weights):\n",
    "    accuracies = []\n",
    "    k_factors = list(np.arange(0.1, 4, 0.4))\n",
    "    best_acc = 0\n",
    "    best_factor = 0\n",
    "\n",
    "    for factor in k_factors:\n",
    "        k = int(round(base_k * factor))\n",
    "        knn_model = KNeighborsClassifier(n_neighbors=k, weights=weights)\n",
    "        knn_model.fit(X_train_final, y_train)\n",
    "        predictions = knn_model.predict(X_val_final)\n",
    "        acc = accuracy_score(y_val, predictions)\n",
    "\n",
    "        if acc > best_acc:\n",
    "            best_acc = acc\n",
    "            best_factor = factor\n",
    "\n",
    "        accuracies.append(acc)\n",
    "        \n",
    "    return accuracies, k_factors, best_factor, best_acc\n",
    "\n",
    "base_k = len(X_train_final) ** 0.5\n",
    "accuracies, k_factors, best_factor, best_acc = calibrate_neighbors(base_k, 'uniform')\n",
    "plot_hyperparam(accuracies, k_factors)\n",
    "\n",
    "print(f\"Best factor uniform: {best_factor} (base k: {base_k}) with accuracy: {best_acc}\")"
   ]
  },
  {
   "cell_type": "markdown",
   "metadata": {},
   "source": [
    "### Calibration of number of neighbors with distance weighting"
   ]
  },
  {
   "cell_type": "code",
   "execution_count": 50,
   "metadata": {},
   "outputs": [
    {
     "data": {
      "image/png": "[encoded data removed]",
      "text/plain": [
       "<Figure size 432x288 with 1 Axes>"
      ]
     },
     "metadata": {},
     "output_type": "display_data"
    },
    {
     "name": "stdout",
     "output_type": "stream",
     "text": [
      "Best factor distance: 2.5000000000000004 (base k: 247.50959577357804) with accuracy: 0.7237688075826871\n"
     ]
    }
   ],
   "source": [
    "base_k = len(X_train_final) ** 0.5\n",
    "accuracies, k_factors, best_factor, best_acc = calibrate_neighbors(base_k, 'distance')\n",
    "plot_hyperparam(accuracies, k_factors)\n",
    "\n",
    "print(f\"Best factor distance: {best_factor} (base k: {base_k}) with accuracy: {best_acc}\")"
   ]
  },
  {
   "cell_type": "markdown",
   "metadata": {},
   "source": [
    "### Cross validation score"
   ]
  },
  {
   "cell_type": "code",
   "execution_count": 46,
   "metadata": {},
   "outputs": [
    {
     "name": "stdout",
     "output_type": "stream",
     "text": [
      "kNN accuracy: 0.727 (+/- 0.020)\n"
     ]
    }
   ],
   "source": [
    "optimal_factor = 0.5\n",
    "optimal_k = int(round(len(X_train_final) ** 0.5 * optimal_factor))\n",
    "optimal_weight_func = 'uniform'\n",
    "\n",
    "knn_model_final = KNeighborsClassifier(n_neighbors=optimal_k, weights=optimal_weight_func)\n",
    "knn_scores = cross_val_score(knn_model_final, X_train_final_full, y_train_full, cv=no_folds)\n",
    "print(\"kNN accuracy: %0.3f (+/- %0.3f)\" % (knn_scores.mean(), knn_scores.std() * 2))"
   ]
  },
  {
   "cell_type": "markdown",
   "metadata": {},
   "source": [
    "## SVM\n",
    "\n",
    "Using a sub sample to evaluate the SVM beause it scales super badly. Also, assuming parameters can be calibrated seperately, even if this is probably not the case all the time.\n",
    "\n",
    "### Calibration of kernel"
   ]
  },
  {
   "cell_type": "code",
   "execution_count": 23,
   "metadata": {},
   "outputs": [
    {
     "name": "stdout",
     "output_type": "stream",
     "text": [
      "Length of train data: 61261, val data: 30174\n",
      "Sample size train data: 20000, val data: 2000\n"
     ]
    },
    {
     "data": {
      "image/png": "[encoded data removed]",
      "text/plain": [
       "<Figure size 432x288 with 1 Axes>"
      ]
     },
     "metadata": {
      "needs_background": "light"
     },
     "output_type": "display_data"
    },
    {
     "name": "stdout",
     "output_type": "stream",
     "text": [
      "Best kernel: rbf with accuracy: 0.7285\n"
     ]
    }
   ],
   "source": [
    "kernels = ['linear', 'poly', 'rbf', 'sigmoid']\n",
    "accuracies = []\n",
    "best_acc = 0\n",
    "best_kernel = ''\n",
    "\n",
    "sample_size_train = 20000\n",
    "sample_size_val = 2000\n",
    "\n",
    "print(f\"Length of train data: {len(X_train_final)}, val data: {len(X_val_final)}\")\n",
    "print(f\"Sample size train data: {sample_size_train}, val data: {sample_size_val}\")\n",
    "\n",
    "X_train_final_svm = X_train_final.sample(sample_size_train, random_state=42)\n",
    "X_val_final_svm = X_val_final.sample(sample_size_val, random_state=42)\n",
    "y_train_final_svm = y_train[X_train_final_svm.index]\n",
    "y_val_final_svm = y_val[X_val_final_svm.index]\n",
    "\n",
    "for kernel in kernels:\n",
    "    svm_model_cal = SVC(C=1, kernel=kernel, gamma='scale')\n",
    "    svm_model_cal.fit(X_train_final_svm, y_train_final_svm)\n",
    "    predictions = svm_model_cal.predict(X_val_final_svm)\n",
    "    acc = accuracy_score(y_val_final_svm, predictions)\n",
    "\n",
    "    if acc > best_acc:\n",
    "        best_acc = acc\n",
    "        best_kernel = kernel\n",
    "\n",
    "    accuracies.append(acc)\n",
    "\n",
    "plot_hyperparam(accuracies, kernels)\n",
    "print(f\"Best kernel: {best_kernel} with accuracy: {best_acc}\")"
   ]
  },
  {
   "cell_type": "markdown",
   "metadata": {},
   "source": [
    "### Calibration of gamma\n",
    "\n",
    "Using kernel (rbf) best kernel from above experiment"
   ]
  },
  {
   "cell_type": "code",
   "execution_count": 27,
   "metadata": {},
   "outputs": [
    {
     "data": {
      "image/png": "[encoded data removed]",
      "text/plain": [
       "<Figure size 432x288 with 1 Axes>"
      ]
     },
     "metadata": {
      "needs_background": "light"
     },
     "output_type": "display_data"
    },
    {
     "name": "stdout",
     "output_type": "stream",
     "text": [
      "Best gamma: scale with accuracy: 0.7285\n"
     ]
    }
   ],
   "source": [
    "optimal_kernel = 'rbf'\n",
    "gammas = ['scale', 'auto']\n",
    "accuracies = []\n",
    "best_acc = 0\n",
    "best_gamma = ''\n",
    "\n",
    "for gamma in gammas:\n",
    "    svm_model_cal = SVC(C=1, kernel=optimal_kernel, gamma=gamma)\n",
    "    svm_model_cal.fit(X_train_final_svm, y_train_final_svm)\n",
    "    predictions = svm_model_cal.predict(X_val_final_svm)\n",
    "    acc = accuracy_score(y_val_final_svm, predictions)\n",
    "\n",
    "    if acc > best_acc:\n",
    "        best_acc = acc\n",
    "        best_gamma = gamma\n",
    "\n",
    "    accuracies.append(acc)\n",
    "\n",
    "plot_hyperparam(accuracies, gammas)\n",
    "print(f\"Best gamma: {best_gamma} with accuracy: {best_acc}\")"
   ]
  },
  {
   "cell_type": "markdown",
   "metadata": {},
   "source": [
    "### Calibration of regularization parameter C\n",
    "\n",
    "This takes a couple of minutes."
   ]
  },
  {
   "cell_type": "code",
   "execution_count": 32,
   "metadata": {},
   "outputs": [
    {
     "data": {
      "image/png": "[encoded data removed]",
      "text/plain": [
       "<Figure size 432x288 with 1 Axes>"
      ]
     },
     "metadata": {
      "needs_background": "light"
     },
     "output_type": "display_data"
    },
    {
     "name": "stdout",
     "output_type": "stream",
     "text": [
      "Best C: 0.7000000000000001 with accuracy: 0.7295\n"
     ]
    }
   ],
   "source": [
    "optimal_kernel = 'rbf'\n",
    "optimal_gamma = 'scale'\n",
    "accuracies = []\n",
    "c_vals = list(np.arange(0.1, 5, 0.3))\n",
    "best_acc = 0\n",
    "best_c = 0\n",
    "\n",
    "for c in c_vals:\n",
    "    svm_model_cal = SVC(C=c, kernel=optimal_kernel, gamma=optimal_gamma)\n",
    "    svm_model_cal.fit(X_train_final_svm, y_train_final_svm)\n",
    "    predictions = svm_model_cal.predict(X_val_final_svm)\n",
    "    acc = accuracy_score(y_val_final_svm, predictions)\n",
    "    \n",
    "    if acc > best_acc:\n",
    "        best_acc = acc\n",
    "        best_c = c\n",
    "    \n",
    "    accuracies.append(acc)\n",
    "\n",
    "plot_hyperparam(accuracies, c_vals)\n",
    "\n",
    "print(f\"Best C: {best_c} with accuracy: {best_acc}\")"
   ]
  },
  {
   "cell_type": "markdown",
   "metadata": {},
   "source": [
    "### Cross validation score\n",
    "\n",
    "FYI: this takes forever (about 30 min) since we need to use CV on the complete training set to compare with the other models..."
   ]
  },
  {
   "cell_type": "code",
   "execution_count": 34,
   "metadata": {},
   "outputs": [
    {
     "name": "stdout",
     "output_type": "stream",
     "text": [
      "kNN accuracy: 0.729 (+/- 0.016)\n"
     ]
    }
   ],
   "source": [
    "optimal_kernel = 'rbf'\n",
    "optimal_gamma = 'scale'\n",
    "optimal_c = .7\n",
    "\n",
    "svm_model_final = SVC(C=optimal_c, kernel=optimal_kernel, gamma=optimal_gamma)\n",
    "svm_scores = cross_val_score(svm_model_final, X_train_final_full, y_train_full, cv=no_folds)\n",
    "print(\"SVM accuracy: %0.3f (+/- %0.3f)\" % (svm_scores.mean(), svm_scores.std() * 2))"
   ]
  },
  {
   "cell_type": "markdown",
   "metadata": {},
   "source": [
    "## Neural Network\n",
    "\n",
    "A maximum of 2 hidden layers with a different amount of nodes will be evaluated given (more than 2 seems unnecessary given the complexity of the problem). Also, assuming activation function, alpha and number of layers/nodes can be calibrated seperately. A Neural Network trained on all featres will be tested in the end.\n",
    "\n",
    "### Calibration of activation function\n",
    "\n",
    "Using 1 hidden layer and rule of thumb nodes = 2/3 \\* input size + output size"
   ]
  },
  {
   "cell_type": "code",
   "execution_count": 38,
   "metadata": {},
   "outputs": [
    {
     "data": {
      "image/png": "[encoded data removed]",
      "text/plain": [
       "<Figure size 432x288 with 1 Axes>"
      ]
     },
     "metadata": {},
     "output_type": "display_data"
    },
    {
     "name": "stdout",
     "output_type": "stream",
     "text": [
      "Best activation: tanh with accuracy: 0.7286736925830185\n"
     ]
    }
   ],
   "source": [
    "no_nodes = int(round(len(X_train_final.columns)*2/3 + 1))  # rule of thumb\n",
    "hidden_layer_sizes = (no_nodes,)\n",
    "alpha = 0.0001  # default\n",
    "\n",
    "activations = ['identity', 'logistic', 'tanh', 'relu']\n",
    "accuracies = []\n",
    "best_acc = 0\n",
    "best_act = 0\n",
    "\n",
    "for act in activations:\n",
    "    nn_model_cal = MLPClassifier(hidden_layer_sizes=hidden_layer_sizes, activation=act, alpha=alpha)\n",
    "    nn_model_cal.fit(X_train_final, y_train)\n",
    "    predictions = nn_model_cal.predict(X_val_final)\n",
    "    acc = accuracy_score(y_val, predictions)\n",
    "    \n",
    "    if acc > best_acc:\n",
    "        best_acc = acc\n",
    "        best_act = act\n",
    "    \n",
    "    accuracies.append(acc)\n",
    "\n",
    "plot_hyperparam(accuracies, activations)\n",
    "\n",
    "print(f\"Best activation: {best_act} with accuracy: {best_acc}\")"
   ]
  },
  {
   "cell_type": "markdown",
   "metadata": {},
   "source": [
    "### Calibration of network structure"
   ]
  },
  {
   "cell_type": "code",
   "execution_count": 11,
   "metadata": {},
   "outputs": [
    {
     "data": {
      "image/png": "[encoded data removed]",
      "text/plain": [
       "<Figure size 432x288 with 1 Axes>"
      ]
     },
     "metadata": {
      "needs_background": "light"
     },
     "output_type": "display_data"
    },
    {
     "name": "stdout",
     "output_type": "stream",
     "text": [
      "Best network structure: (6, 6) with accuracy: 0.7297010671438987\n"
     ]
    }
   ],
   "source": [
    "optimal_act = 'tanh'\n",
    "no_features = len(X_train_final.columns)\n",
    "alpha = 0.0001  # default\n",
    "\n",
    "nodes_range = np.arange(2, no_features * 2 + 1, 2)\n",
    "network_structures = []\n",
    "accuracies = []\n",
    "\n",
    "for layers in range(1,3):\n",
    "    for first_nodes in nodes_range:    \n",
    "        if layers == 1:\n",
    "            network_structures.append((first_nodes,))\n",
    "        elif layers == 2:\n",
    "            for sec_nodes in nodes_range:\n",
    "                network_structures.append((first_nodes, sec_nodes))\n",
    "                \n",
    "str_network_structures = []\n",
    "\n",
    "for struct in network_structures:\n",
    "    str_network_structures.append(str(struct))\n",
    "\n",
    "best_acc = 0\n",
    "best_struct = ()\n",
    "\n",
    "for struct in network_structures:\n",
    "    nn_model_cal = MLPClassifier(hidden_layer_sizes=struct, activation=optimal_act, alpha=alpha)\n",
    "    nn_model_cal.fit(X_train_final, y_train)\n",
    "    predictions = nn_model_cal.predict(X_val_final)\n",
    "    acc = accuracy_score(y_val, predictions)\n",
    "    \n",
    "    if acc > best_acc:\n",
    "        best_acc = acc\n",
    "        best_struct = struct\n",
    "    \n",
    "    accuracies.append(acc)\n",
    "\n",
    "plot_hyperparam(accuracies,str_network_structures)\n",
    "print(f\"Best network structure: {str(best_struct)} with accuracy: {best_acc}\")"
   ]
  },
  {
   "cell_type": "markdown",
   "metadata": {},
   "source": [
    "### Calibration of regularization parameter alpha"
   ]
  },
  {
   "cell_type": "code",
   "execution_count": 13,
   "metadata": {},
   "outputs": [
    {
     "data": {
      "image/png": "[encoded data removed]",
      "text/plain": [
       "<Figure size 432x288 with 1 Axes>"
      ]
     },
     "metadata": {
      "needs_background": "light"
     },
     "output_type": "display_data"
    },
    {
     "name": "stdout",
     "output_type": "stream",
     "text": [
      "Best alpha: 0.10010000000000001 with accuracy: 0.7287399748127527\n"
     ]
    }
   ],
   "source": [
    "optimal_act = 'tanh'\n",
    "optimal_struct = (6, 6)\n",
    "alphas = list(np.arange(0.0001, 1, 0.1))\n",
    "\n",
    "accuracies = []\n",
    "best_acc = 0\n",
    "best_alpha = 0\n",
    "\n",
    "for alpha in alphas:\n",
    "    nn_model_cal = MLPClassifier(hidden_layer_sizes=optimal_struct, activation=optimal_act, alpha=alpha)\n",
    "    nn_model_cal.fit(X_train_final, y_train)\n",
    "    predictions = nn_model_cal.predict(X_val_final)\n",
    "    acc = accuracy_score(y_val, predictions)\n",
    "    \n",
    "    if acc > best_acc:\n",
    "        best_acc = acc\n",
    "        best_alpha = alpha\n",
    "    \n",
    "    accuracies.append(acc)\n",
    "\n",
    "plot_hyperparam(accuracies, alphas)\n",
    "\n",
    "print(f\"Best alpha: {best_alpha} with accuracy: {best_acc}\")"
   ]
  },
  {
   "cell_type": "markdown",
   "metadata": {},
   "source": [
    "### Cross validation score"
   ]
  },
  {
   "cell_type": "code",
   "execution_count": 14,
   "metadata": {},
   "outputs": [
    {
     "name": "stdout",
     "output_type": "stream",
     "text": [
      "kNN accuracy: 0.728 (+/- 0.014)\n"
     ]
    }
   ],
   "source": [
    "optimal_act = 'tanh'\n",
    "optimal_struct = (6,6)\n",
    "optimal_alpha = 0.1\n",
    "\n",
    "nn_model_final = MLPClassifier(hidden_layer_sizes=optimal_struct, activation=optimal_act, alpha=optimal_alpha)\n",
    "nn_scores = cross_val_score(nn_model_final, X_train_final_full, y_train_full, cv=no_folds)\n",
    "print(\"Neural Network accuracy: %0.3f (+/- %0.3f)\" % (nn_scores.mean(), nn_scores.std() * 2))"
   ]
  },
  {
   "cell_type": "markdown",
   "metadata": {},
   "source": [
    "### Experiment: Running NN model on all features\n",
    "\n",
    "Using default alpha and activation function given above and rule of thumb of 2 hidden layers just to see if we are missing out on any features. It seems a neural network using with the possibility to use all features performs slightly better. However, given the increased model complexity, training time and black-box approach, this does not feel like the preferred method."
   ]
  },
  {
   "cell_type": "code",
   "execution_count": 23,
   "metadata": {},
   "outputs": [
    {
     "name": "stdout",
     "output_type": "stream",
     "text": [
      "Neural Network (all features) accuracy: 0.733 (+/- 0.016)\n"
     ]
    }
   ],
   "source": [
    "no_nodes = int(round(len(X_train.columns)*2/3 + 1))\n",
    "exp_act = 'tanh'\n",
    "exp_struct = (no_nodes, no_nodes)\n",
    "exp_alpha = 0.0001\n",
    "\n",
    "nn_model_exp = MLPClassifier(hidden_layer_sizes=exp_struct, activation=exp_act, alpha=exp_alpha)\n",
    "nn_exp_scores = cross_val_score(nn_model_exp, X_train_full, y_train_full, cv=no_folds)\n",
    "print(\"Neural Network (all features) accuracy: %0.3f (+/- %0.3f)\" % (nn_exp_scores.mean(), nn_exp_scores.std() * 2))"
   ]
  },
  {
   "cell_type": "markdown",
   "metadata": {},
   "source": [
    "# 3. Testing and comparison to base model\n",
    "\n",
    "## Extract test data"
   ]
  },
  {
   "cell_type": "code",
   "execution_count": 58,
   "metadata": {},
   "outputs": [
    {
     "name": "stdout",
     "output_type": "stream",
     "text": [
      "start_pipe took=0:00:00.031000 shape=(118414, 18)\n",
      "extract_by_date took=0:00:00.046473 shape=(26979, 18)\n",
      "one_hot_encode took=0:00:00.018245 shape=(26979, 20)\n",
      "prune_columns took=0:00:00.002349 shape=(26979, 14)(26979,)\n"
     ]
    },
    {
     "data": {
      "text/html": [
       "<div>\n",
       "<style scoped>\n",
       "    .dataframe tbody tr th:only-of-type {\n",
       "        vertical-align: middle;\n",
       "    }\n",
       "\n",
       "    .dataframe tbody tr th {\n",
       "        vertical-align: top;\n",
       "    }\n",
       "\n",
       "    .dataframe thead th {\n",
       "        text-align: right;\n",
       "    }\n",
       "</style>\n",
       "<table border=\"1\" class=\"dataframe\">\n",
       "  <thead>\n",
       "    <tr style=\"text-align: right;\">\n",
       "      <th></th>\n",
       "      <th>rel_total_wins</th>\n",
       "      <th>rel_surface_wins</th>\n",
       "      <th>mutual_wins</th>\n",
       "      <th>mutual_surface_wins</th>\n",
       "      <th>mutual_games</th>\n",
       "      <th>rank_diff</th>\n",
       "      <th>points_grad_diff</th>\n",
       "      <th>rel_climate_wins</th>\n",
       "      <th>rel_recent_wins</th>\n",
       "      <th>rel_tourney_games</th>\n",
       "      <th>age_diff</th>\n",
       "      <th>p2_home</th>\n",
       "      <th>home_advantage_-0.0</th>\n",
       "      <th>p1_home</th>\n",
       "    </tr>\n",
       "  </thead>\n",
       "  <tbody>\n",
       "    <tr>\n",
       "      <td>91608</td>\n",
       "      <td>-0.384194</td>\n",
       "      <td>-0.232454</td>\n",
       "      <td>-0.155880</td>\n",
       "      <td>-0.455822</td>\n",
       "      <td>0.000642</td>\n",
       "      <td>0.087641</td>\n",
       "      <td>-0.119450</td>\n",
       "      <td>-0.521224</td>\n",
       "      <td>0.139037</td>\n",
       "      <td>0.000408</td>\n",
       "      <td>0.203585</td>\n",
       "      <td>0</td>\n",
       "      <td>1</td>\n",
       "      <td>0</td>\n",
       "    </tr>\n",
       "    <tr>\n",
       "      <td>91609</td>\n",
       "      <td>-0.328981</td>\n",
       "      <td>-0.372376</td>\n",
       "      <td>-0.000751</td>\n",
       "      <td>-0.000729</td>\n",
       "      <td>0.000642</td>\n",
       "      <td>0.109178</td>\n",
       "      <td>-0.143826</td>\n",
       "      <td>-0.330716</td>\n",
       "      <td>0.273667</td>\n",
       "      <td>0.000408</td>\n",
       "      <td>-1.695631</td>\n",
       "      <td>0</td>\n",
       "      <td>0</td>\n",
       "      <td>1</td>\n",
       "    </tr>\n",
       "    <tr>\n",
       "      <td>91610</td>\n",
       "      <td>0.278355</td>\n",
       "      <td>0.047389</td>\n",
       "      <td>-0.000751</td>\n",
       "      <td>-0.000729</td>\n",
       "      <td>0.000642</td>\n",
       "      <td>0.173789</td>\n",
       "      <td>-0.276540</td>\n",
       "      <td>-0.044953</td>\n",
       "      <td>0.542927</td>\n",
       "      <td>0.000408</td>\n",
       "      <td>-1.020723</td>\n",
       "      <td>0</td>\n",
       "      <td>1</td>\n",
       "      <td>0</td>\n",
       "    </tr>\n",
       "    <tr>\n",
       "      <td>91611</td>\n",
       "      <td>-0.052919</td>\n",
       "      <td>0.094029</td>\n",
       "      <td>-0.213557</td>\n",
       "      <td>-0.625023</td>\n",
       "      <td>-1.694920</td>\n",
       "      <td>0.007646</td>\n",
       "      <td>-0.021946</td>\n",
       "      <td>-0.187835</td>\n",
       "      <td>0.139037</td>\n",
       "      <td>0.000408</td>\n",
       "      <td>0.529807</td>\n",
       "      <td>0</td>\n",
       "      <td>1</td>\n",
       "      <td>0</td>\n",
       "    </tr>\n",
       "    <tr>\n",
       "      <td>91612</td>\n",
       "      <td>-0.328981</td>\n",
       "      <td>0.000748</td>\n",
       "      <td>0.162334</td>\n",
       "      <td>0.477701</td>\n",
       "      <td>0.000642</td>\n",
       "      <td>0.010723</td>\n",
       "      <td>-0.080178</td>\n",
       "      <td>-0.949868</td>\n",
       "      <td>0.004406</td>\n",
       "      <td>0.000408</td>\n",
       "      <td>1.519704</td>\n",
       "      <td>0</td>\n",
       "      <td>1</td>\n",
       "      <td>0</td>\n",
       "    </tr>\n",
       "    <tr>\n",
       "      <td>...</td>\n",
       "      <td>...</td>\n",
       "      <td>...</td>\n",
       "      <td>...</td>\n",
       "      <td>...</td>\n",
       "      <td>...</td>\n",
       "      <td>...</td>\n",
       "      <td>...</td>\n",
       "      <td>...</td>\n",
       "      <td>...</td>\n",
       "      <td>...</td>\n",
       "      <td>...</td>\n",
       "      <td>...</td>\n",
       "      <td>...</td>\n",
       "      <td>...</td>\n",
       "    </tr>\n",
       "    <tr>\n",
       "      <td>119309</td>\n",
       "      <td>0.057505</td>\n",
       "      <td>0.140670</td>\n",
       "      <td>0.150401</td>\n",
       "      <td>0.442694</td>\n",
       "      <td>2.116620</td>\n",
       "      <td>-0.390791</td>\n",
       "      <td>0.003784</td>\n",
       "      <td>-0.044953</td>\n",
       "      <td>-0.163882</td>\n",
       "      <td>0.000408</td>\n",
       "      <td>0.459484</td>\n",
       "      <td>0</td>\n",
       "      <td>1</td>\n",
       "      <td>0</td>\n",
       "    </tr>\n",
       "    <tr>\n",
       "      <td>119310</td>\n",
       "      <td>-0.494619</td>\n",
       "      <td>-0.465657</td>\n",
       "      <td>-4.336418</td>\n",
       "      <td>-4.814208</td>\n",
       "      <td>-8.112342</td>\n",
       "      <td>0.584533</td>\n",
       "      <td>-0.141118</td>\n",
       "      <td>-0.568851</td>\n",
       "      <td>-0.466800</td>\n",
       "      <td>0.000408</td>\n",
       "      <td>1.021093</td>\n",
       "      <td>0</td>\n",
       "      <td>1</td>\n",
       "      <td>0</td>\n",
       "    </tr>\n",
       "    <tr>\n",
       "      <td>119311</td>\n",
       "      <td>-0.218557</td>\n",
       "      <td>0.094029</td>\n",
       "      <td>-0.000751</td>\n",
       "      <td>-0.000729</td>\n",
       "      <td>0.000642</td>\n",
       "      <td>0.226094</td>\n",
       "      <td>-0.040905</td>\n",
       "      <td>-0.759360</td>\n",
       "      <td>0.004406</td>\n",
       "      <td>0.000408</td>\n",
       "      <td>-0.553367</td>\n",
       "      <td>0</td>\n",
       "      <td>1</td>\n",
       "      <td>0</td>\n",
       "    </tr>\n",
       "    <tr>\n",
       "      <td>119312</td>\n",
       "      <td>-0.605043</td>\n",
       "      <td>-0.465657</td>\n",
       "      <td>-0.000751</td>\n",
       "      <td>-0.000729</td>\n",
       "      <td>0.000642</td>\n",
       "      <td>0.966048</td>\n",
       "      <td>-0.012467</td>\n",
       "      <td>-0.235462</td>\n",
       "      <td>-0.264854</td>\n",
       "      <td>0.000408</td>\n",
       "      <td>-1.173090</td>\n",
       "      <td>0</td>\n",
       "      <td>0</td>\n",
       "      <td>1</td>\n",
       "    </tr>\n",
       "    <tr>\n",
       "      <td>119313</td>\n",
       "      <td>-0.273769</td>\n",
       "      <td>-0.325735</td>\n",
       "      <td>-0.042517</td>\n",
       "      <td>-0.123254</td>\n",
       "      <td>-2.528802</td>\n",
       "      <td>0.212249</td>\n",
       "      <td>-0.024655</td>\n",
       "      <td>-0.378343</td>\n",
       "      <td>-0.332169</td>\n",
       "      <td>5.337675</td>\n",
       "      <td>-0.612458</td>\n",
       "      <td>0</td>\n",
       "      <td>1</td>\n",
       "      <td>0</td>\n",
       "    </tr>\n",
       "  </tbody>\n",
       "</table>\n",
       "<p>26979 rows × 14 columns</p>\n",
       "</div>"
      ],
      "text/plain": [
       "        rel_total_wins  rel_surface_wins  mutual_wins  mutual_surface_wins  \\\n",
       "91608        -0.384194         -0.232454    -0.155880            -0.455822   \n",
       "91609        -0.328981         -0.372376    -0.000751            -0.000729   \n",
       "91610         0.278355          0.047389    -0.000751            -0.000729   \n",
       "91611        -0.052919          0.094029    -0.213557            -0.625023   \n",
       "91612        -0.328981          0.000748     0.162334             0.477701   \n",
       "...                ...               ...          ...                  ...   \n",
       "119309        0.057505          0.140670     0.150401             0.442694   \n",
       "119310       -0.494619         -0.465657    -4.336418            -4.814208   \n",
       "119311       -0.218557          0.094029    -0.000751            -0.000729   \n",
       "119312       -0.605043         -0.465657    -0.000751            -0.000729   \n",
       "119313       -0.273769         -0.325735    -0.042517            -0.123254   \n",
       "\n",
       "        mutual_games  rank_diff  points_grad_diff  rel_climate_wins  \\\n",
       "91608       0.000642   0.087641         -0.119450         -0.521224   \n",
       "91609       0.000642   0.109178         -0.143826         -0.330716   \n",
       "91610       0.000642   0.173789         -0.276540         -0.044953   \n",
       "91611      -1.694920   0.007646         -0.021946         -0.187835   \n",
       "91612       0.000642   0.010723         -0.080178         -0.949868   \n",
       "...              ...        ...               ...               ...   \n",
       "119309      2.116620  -0.390791          0.003784         -0.044953   \n",
       "119310     -8.112342   0.584533         -0.141118         -0.568851   \n",
       "119311      0.000642   0.226094         -0.040905         -0.759360   \n",
       "119312      0.000642   0.966048         -0.012467         -0.235462   \n",
       "119313     -2.528802   0.212249         -0.024655         -0.378343   \n",
       "\n",
       "        rel_recent_wins  rel_tourney_games  age_diff  p2_home  \\\n",
       "91608          0.139037           0.000408  0.203585        0   \n",
       "91609          0.273667           0.000408 -1.695631        0   \n",
       "91610          0.542927           0.000408 -1.020723        0   \n",
       "91611          0.139037           0.000408  0.529807        0   \n",
       "91612          0.004406           0.000408  1.519704        0   \n",
       "...                 ...                ...       ...      ...   \n",
       "119309        -0.163882           0.000408  0.459484        0   \n",
       "119310        -0.466800           0.000408  1.021093        0   \n",
       "119311         0.004406           0.000408 -0.553367        0   \n",
       "119312        -0.264854           0.000408 -1.173090        0   \n",
       "119313        -0.332169           5.337675 -0.612458        0   \n",
       "\n",
       "        home_advantage_-0.0  p1_home  \n",
       "91608                     1        0  \n",
       "91609                     0        1  \n",
       "91610                     1        0  \n",
       "91611                     1        0  \n",
       "91612                     1        0  \n",
       "...                     ...      ...  \n",
       "119309                    1        0  \n",
       "119310                    1        0  \n",
       "119311                    1        0  \n",
       "119312                    0        1  \n",
       "119313                    1        0  \n",
       "\n",
       "[26979 rows x 14 columns]"
      ]
     },
     "metadata": {},
     "output_type": "display_data"
    }
   ],
   "source": [
    "X_test, y_test = (data\n",
    "    .pipe(start_pipe)\n",
    "    .pipe(extract_by_date, begin=test_date_begin)\n",
    "    .pipe(one_hot_encode)\n",
    "    .pipe(prune_columns))\n",
    "\n",
    "display(X_test)\n",
    "\n",
    "X_test_final = X_test.filter(final_columns)"
   ]
  },
  {
   "cell_type": "markdown",
   "metadata": {},
   "source": [
    "## Generalization error for a base model\n",
    "\n",
    "Only looking at the ranking difference between the players"
   ]
  },
  {
   "cell_type": "code",
   "execution_count": 31,
   "metadata": {},
   "outputs": [
    {
     "name": "stdout",
     "output_type": "stream",
     "text": [
      "Base model accuracy: 0.6482819971088625\n"
     ]
    }
   ],
   "source": [
    "X_train_base_full = X_train_full.filter(['rank_diff'])\n",
    "X_test_base_full = X_test.filter(['rank_diff'])\n",
    "optimal_c = 0.09\n",
    "\n",
    "base_model = LogisticRegression(solver=lr_solver, C=optimal_c)\n",
    "base_model.fit(X_train_base_full, y_train_full)\n",
    "predictions = base_model.predict(X_test_base_full)\n",
    "acc = accuracy_score(y_test, predictions)\n",
    "print(f\"Base model accuracy: {acc}\")"
   ]
  },
  {
   "cell_type": "markdown",
   "metadata": {},
   "source": [
    "## Generalization error for final model\n",
    "\n",
    "RandomForest was chosen over full Neural Network due to model complexity and explainability. The difference in CV score was only 0.3 percentage points."
   ]
  },
  {
   "cell_type": "code",
   "execution_count": 47,
   "metadata": {},
   "outputs": [
    {
     "name": "stdout",
     "output_type": "stream",
     "text": [
      "Final model (RF) accuracy: 0.7040661255050225\n"
     ]
    }
   ],
   "source": [
    "optimal_max_depth = 7\n",
    "\n",
    "final_model = RandomForestClassifier(max_depth=optimal_max_depth, n_estimators=rf_estimators)\n",
    "final_model.fit(X_train_final_full, y_train_full)\n",
    "predictions = final_model.predict(X_test_final)\n",
    "acc = accuracy_score(y_test, predictions)\n",
    "print(f\"Final model (RandomForest) accuracy: {acc}\")"
   ]
  },
  {
   "cell_type": "markdown",
   "metadata": {
    "pycharm": {
     "name": "#%% md\n"
    }
   },
   "source": [
    "## Performance on ATP main tournaments\n",
    "\n",
    "Trained on all matches but evaluated on a subset of testing matches, namely ATP 250, 500 and 1000 series.\n",
    "\n",
    "### Extract main tournament matches and points"
   ]
  },
  {
   "cell_type": "code",
   "execution_count": 83,
   "metadata": {
    "collapsed": false,
    "jupyter": {
     "outputs_hidden": false
    },
    "pycharm": {
     "is_executing": false,
     "name": "#%%\n"
    }
   },
   "outputs": [
    {
     "name": "stdout",
     "output_type": "stream",
     "text": [
      "Extracting main tournament matches\n",
      "start_pipe took=0:00:00.022179 shape=(118414, 18)\n",
      "extract_by_date took=0:00:00.028047 shape=(26979, 18)\n",
      "extract_main_tourneys took=0:00:00.002499 shape=(2926, 18)\n",
      "one_hot_encode took=0:00:00.004821 shape=(2926, 20)\n",
      "prune_columns took=0:00:00.002357 shape=(2926, 14)(2926,)\n",
      "\n",
      "Extracting tournament points\n",
      "start_pipe took=0:00:00.027734 shape=(118414, 18)\n",
      "extract_by_date took=0:00:00.023515 shape=(26979, 18)\n",
      "extract_main_tourneys took=0:00:00.003724 shape=(2926, 18)\n",
      "get_points took=0:00:00.002638 shape=(2926, 19)\n"
     ]
    }
   ],
   "source": [
    "print('Extracting main tournament matches')\n",
    "X_test_main, y_test_main = (data\n",
    "    .pipe(start_pipe)\n",
    "    .pipe(extract_by_date, begin=test_date_begin)\n",
    "    .pipe(extract_main_tourneys)\n",
    "    .pipe(one_hot_encode)\n",
    "    .pipe(prune_columns))\n",
    "\n",
    "X_test_main_final = X_test_main.filter(final_columns)\n",
    "print('\\nExtracting tournament points')\n",
    "\n",
    "X_test_main_points = (data\n",
    "    .pipe(start_pipe)\n",
    "    .pipe(extract_by_date, begin=test_date_begin)\n",
    "    .pipe(extract_main_tourneys)\n",
    "    .pipe(get_points))\n",
    "\n",
    "X_test_main_points = X_test_main_points['match_points']"
   ]
  },
  {
   "cell_type": "markdown",
   "metadata": {},
   "source": [
    "### Evaluate final and base models"
   ]
  },
  {
   "cell_type": "code",
   "execution_count": 68,
   "metadata": {},
   "outputs": [
    {
     "name": "stdout",
     "output_type": "stream",
     "text": [
      "Final model (RandomForest) accuracy on main tournaments: 0.6630211893369788\n",
      "Base model accuracy on main tournaments: 0.6110731373889269\n"
     ]
    }
   ],
   "source": [
    "predictions = final_model.predict(X_test_main_final)\n",
    "acc = accuracy_score(y_test_main, predictions)\n",
    "print(f\"Final model (RandomForest) accuracy on main tournaments: {acc}\")\n",
    "\n",
    "X_test_main_base = X_test_main.filter(['rank_diff'])\n",
    "predictions = base_model.predict(X_test_main_base)\n",
    "acc = accuracy_score(y_test_main, predictions)\n",
    "print(f\"Base model accuracy on main tournaments: {acc}\")"
   ]
  },
  {
   "cell_type": "markdown",
   "metadata": {},
   "source": [
    "### Compare predictor score with human\n",
    "\n",
    "The only explanation for this is that humans either could not play on all matches or did not play on all matches 2019, the discrepency is too big."
   ]
  },
  {
   "cell_type": "code",
   "execution_count": 81,
   "metadata": {},
   "outputs": [
    {
     "name": "stdout",
     "output_type": "stream",
     "text": [
      "Total points RandomForest 2019: 41612\n",
      "Total best points human 2019: 19718\n"
     ]
    }
   ],
   "source": [
    "predictions = final_model.predict(X_test_main_final)\n",
    "correct = y_test_main.to_numpy()*predictions  # 1 if correct, -1 if false\n",
    "correct = (correct + 1) / 2  # transform to 0 (incorrect) and 1 (correct)\n",
    "points = int(round(np.sum(correct*X_test_main_points.to_numpy())))\n",
    "\n",
    "print(\"Total points RandomForest 2019:\", points)\n",
    "print(\"Total best points human 2019:\", 19718)"
   ]
  },
  {
   "cell_type": "markdown",
   "metadata": {},
   "source": [
    "# 4. Export one of Random Forest's decisions trees"
   ]
  },
  {
   "cell_type": "code",
   "execution_count": 89,
   "metadata": {},
   "outputs": [
    {
     "data": {
      "text/plain": [
       "0"
      ]
     },
     "execution_count": 89,
     "metadata": {},
     "output_type": "execute_result"
    }
   ],
   "source": [
    "# Extract sample estimator\n",
    "estimator = final_model.estimators_[5]\n",
    "\n",
    "dot_out_path = os.path.join(ROOT_DIR, 'output/tree.dot')\n",
    "png_out_path = os.path.join(ROOT_DIR, 'output/tree.png')\n",
    "\n",
    "export_graphviz(estimator, out_file=dot_out_path, \n",
    "                feature_names = X_test_final.columns,\n",
    "                rounded = True, proportion = False, \n",
    "                precision = 2, filled = True)"
   ]
  }
 ],
 "metadata": {
  "kernelspec": {
   "display_name": "Python 3",
   "language": "python",
   "name": "python3"
  },
  "language_info": {
   "codemirror_mode": {
    "name": "ipython",
    "version": 3
   },
   "file_extension": ".py",
   "mimetype": "text/x-python",
   "name": "python",
   "nbconvert_exporter": "python",
   "pygments_lexer": "ipython3",
   "version": "3.7.4"
  },
  "pycharm": {
   "stem_cell": {
    "cell_type": "raw",
    "metadata": {
     "collapsed": false
    },
    "source": []
   }
  }
 },
 "nbformat": 4,
 "nbformat_minor": 4
}
