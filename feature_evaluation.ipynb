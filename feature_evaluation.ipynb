{
 "cells": [
  {
   "cell_type": "markdown",
   "metadata": {},
   "source": [
    "# Feature evaluation\n",
    "This notebook explores the engeineered features.\n",
    "\n",
    "## Load dependencies"
   ]
  },
  {
   "cell_type": "code",
   "execution_count": 1,
   "metadata": {
    "pycharm": {
     "is_executing": false,
     "name": "#%%\n"
    }
   },
   "outputs": [],
   "source": [
    "import os\n",
    "import json\n",
    "import pandas as pd\n",
    "import seaborn as sns\n",
    "import matplotlib.pyplot as plt\n",
    "from IPython.core.display import display\n",
    "\n",
    "from sklearn.ensemble import RandomForestClassifier\n",
    "from sklearn.feature_selection import RFE\n",
    "from sklearn.metrics import classification_report\n",
    "from sklearn.model_selection import train_test_split\n",
    "from sklearn.preprocessing import StandardScaler\n",
    "\n",
    "from definitions import GEN_PATH, ROOT_DIR\n",
    "\n",
    "sns.set_context('notebook')\n",
    "sns.set_style('white')"
   ]
  },
  {
   "cell_type": "markdown",
   "metadata": {
    "pycharm": {
     "name": "#%% md\n"
    }
   },
   "source": [
    "## Load processed data"
   ]
  },
  {
   "cell_type": "code",
   "execution_count": 2,
   "metadata": {
    "pycharm": {
     "is_executing": false,
     "name": "#%%\n"
    }
   },
   "outputs": [],
   "source": [
    "# Read configuration file\n",
    "with open(os.path.join(ROOT_DIR, 'config.json')) as f:\n",
    "    config = json.load(f)\n",
    "\n",
    "proc_match_filepath = os.path.join(GEN_PATH, config['proc_match_filename'])\n",
    "\n",
    "# Read data\n",
    "data = pd.read_hdf(proc_match_filepath, key='matches')"
   ]
  },
  {
   "cell_type": "markdown",
   "metadata": {
    "pycharm": {
     "name": "#%% md\n"
    }
   },
   "source": [
    "## Extract training and validation data\n",
    "Test data should not be used, even in, feature evaluation."
   ]
  },
  {
   "cell_type": "code",
   "execution_count": 15,
   "metadata": {
    "pycharm": {
     "is_executing": false,
     "name": "#%%\n"
    }
   },
   "outputs": [],
   "source": [
    "# Split data set into train and test\n",
    "# Start of 2019 season in unix time, 2018-12-31 00:00:00 UTC\n",
    "test_date_begin = 1546214400\n",
    "\n",
    "# Testing will be done on 2019 matches\n",
    "data_train = data.loc[data.tourney_date < test_date_begin]\n",
    "data_train = pd.get_dummies(data_train, columns=['home_advantage'])\n",
    "\n",
    "renames = {\n",
    "    'home_advantage_-1.0': 'p2_home',\n",
    "    'home_advantage_0.0': 'none_home',\n",
    "    'home_advantage_1.0': 'p1_home',\n",
    "}\n",
    "\n",
    "data_train.rename(columns=renames, inplace=True)\n",
    "\n",
    "data_train.dropna(inplace=True)"
   ]
  },
  {
   "cell_type": "markdown",
   "source": [
    "## OPTIONAL: Removing low level matches\n",
    "Testing to remove low level matches to see if different\n",
    "is present for tour level matches. This means train and evaluate \n",
    "on only tour matches"
   ],
   "metadata": {
    "collapsed": false
   }
  },
  {
   "cell_type": "code",
   "execution_count": 11,
   "outputs": [],
   "source": [
    "tourneys = [2,3,5,6]\n",
    "data_mask = (data_train.tourney_level.isin(tourneys))\n",
    "data_train = data_train.loc[data_mask]"
   ],
   "metadata": {
    "collapsed": false,
    "pycharm": {
     "name": "#%%\n",
     "is_executing": false
    }
   }
  },
  {
   "cell_type": "markdown",
   "source": [
    "## Split data set into validation and training part"
   ],
   "metadata": {
    "collapsed": false,
    "pycharm": {
     "name": "#%% md\n"
    }
   }
  },
  {
   "cell_type": "code",
   "execution_count": 16,
   "outputs": [
    {
     "name": "stderr",
     "text": [
      "/Users/Jon/Library/Python/3.7/lib/python/site-packages/ipykernel_launcher.py:6: SettingWithCopyWarning: \n",
      "A value is trying to be set on a copy of a slice from a DataFrame\n",
      "\n",
      "See the caveats in the documentation: http://pandas.pydata.org/pandas-docs/stable/user_guide/indexing.html#returning-a-view-versus-a-copy\n",
      "  \n",
      "/Users/Jon/Library/Python/3.7/lib/python/site-packages/ipykernel_launcher.py:7: SettingWithCopyWarning: \n",
      "A value is trying to be set on a copy of a slice from a DataFrame\n",
      "\n",
      "See the caveats in the documentation: http://pandas.pydata.org/pandas-docs/stable/user_guide/indexing.html#returning-a-view-versus-a-copy\n",
      "  import sys\n",
      "/Users/Jon/Library/Python/3.7/lib/python/site-packages/ipykernel_launcher.py:8: SettingWithCopyWarning: \n",
      "A value is trying to be set on a copy of a slice from a DataFrame\n",
      "\n",
      "See the caveats in the documentation: http://pandas.pydata.org/pandas-docs/stable/user_guide/indexing.html#returning-a-view-versus-a-copy\n",
      "  \n"
     ],
     "output_type": "stream"
    },
    {
     "data": {
      "text/plain": "       rel_total_wins  rel_surface_wins  mutual_wins  mutual_surface_wins  \\\n13005       -0.328981         -0.372376     1.443146             1.522080   \n38678       -0.605043         -0.652218    -0.000751            -0.000729   \n62320        0.223142         -0.185814     0.265753             0.442694   \n63574       -0.108132          0.280591     0.134490             0.396018   \n61359        0.664842          0.700355    -0.000751            -0.000729   \n...               ...               ...          ...                  ...   \n6283         0.664842          1.026839    -0.000751            -0.000729   \n55010       -0.218557         -2.611118    -0.000751            -0.000729   \n76963       -0.439406         -2.331275    -0.000751            -0.000729   \n863         -0.439406         -0.325735    -0.000751            -0.000729   \n15833        2.376426          2.286131    -0.000751            -0.000729   \n\n       mutual_games  rank_diff  points_grad_diff  rel_climate_wins  \\\n13005      2.290345   0.138407         -0.035488         -0.092580   \n38678      0.000642   0.263015         -0.138409         -0.902241   \n62320      2.460596  -0.070811          1.937613         -0.425970   \n63574     -0.235625  -0.140037          0.518388          0.097928   \n61359      0.000642  -1.026136          0.014618          0.574199   \n...             ...        ...               ...               ...   \n6283       0.000642  -1.006137          0.280045         -0.378343   \n55010      0.000642   1.202956         -0.023300         -0.283089   \n76963      0.000642   0.055335         -0.856147         -0.330716   \n863        0.000642   0.044567         -0.948234         -0.997495   \n15833      0.000642  -2.862945          0.317963          2.431654   \n\n       rel_recent_wins  rel_tourney_games  age_diff  tourney_level  player_1  \\\n13005         0.004406           0.000408  0.471601      -0.645229 -0.529195   \n38678        -2.890145           0.000408 -0.279647      -0.645229 -0.542898   \n62320        -0.062909          -2.326092  1.977675       1.489619 -0.345876   \n63574         0.509270           0.410967 -0.930729       0.422195 -0.536861   \n61359         0.004406           0.000408  0.764946      -0.645229 -0.336951   \n...                ...                ...       ...            ...       ...   \n6283         -0.332169           0.274114 -0.225987      -0.645229 -0.118079   \n55010        -0.163882           0.000408 -1.789299      -0.645229 -0.563970   \n76963         1.418024           0.000408 -0.648117       3.624468 -0.323841   \n863          -0.433142           0.000408  1.281876       3.624468 -0.590894   \n15833         1.754600           1.779497  1.517983      -0.645229 -0.575043   \n\n       player_2   surface  p2_home  none_home  p1_home  \n13005 -0.516870 -1.065466        0          1        0  \n38678 -0.653887 -1.065466        0          1        0  \n62320 -0.703914  0.959453        0          1        0  \n63574 -0.053568  0.959453        0          1        0  \n61359  2.224834  0.959453        0          1        0  \n...         ...       ...      ...        ...      ...  \n6283  -0.163771  0.959453        0          1        0  \n55010  2.349390  0.959453        0          1        0  \n76963 -0.662145 -0.053006        0          1        0  \n863   -0.658482  0.959453        0          1        0  \n15833  0.175605 -1.065466        0          1        0  \n\n[61261 rows x 18 columns]",
      "text/html": "<div>\n<style scoped>\n    .dataframe tbody tr th:only-of-type {\n        vertical-align: middle;\n    }\n\n    .dataframe tbody tr th {\n        vertical-align: top;\n    }\n\n    .dataframe thead th {\n        text-align: right;\n    }\n</style>\n<table border=\"1\" class=\"dataframe\">\n  <thead>\n    <tr style=\"text-align: right;\">\n      <th></th>\n      <th>rel_total_wins</th>\n      <th>rel_surface_wins</th>\n      <th>mutual_wins</th>\n      <th>mutual_surface_wins</th>\n      <th>mutual_games</th>\n      <th>rank_diff</th>\n      <th>points_grad_diff</th>\n      <th>rel_climate_wins</th>\n      <th>rel_recent_wins</th>\n      <th>rel_tourney_games</th>\n      <th>age_diff</th>\n      <th>tourney_level</th>\n      <th>player_1</th>\n      <th>player_2</th>\n      <th>surface</th>\n      <th>p2_home</th>\n      <th>none_home</th>\n      <th>p1_home</th>\n    </tr>\n  </thead>\n  <tbody>\n    <tr>\n      <th>13005</th>\n      <td>-0.328981</td>\n      <td>-0.372376</td>\n      <td>1.443146</td>\n      <td>1.522080</td>\n      <td>2.290345</td>\n      <td>0.138407</td>\n      <td>-0.035488</td>\n      <td>-0.092580</td>\n      <td>0.004406</td>\n      <td>0.000408</td>\n      <td>0.471601</td>\n      <td>-0.645229</td>\n      <td>-0.529195</td>\n      <td>-0.516870</td>\n      <td>-1.065466</td>\n      <td>0</td>\n      <td>1</td>\n      <td>0</td>\n    </tr>\n    <tr>\n      <th>38678</th>\n      <td>-0.605043</td>\n      <td>-0.652218</td>\n      <td>-0.000751</td>\n      <td>-0.000729</td>\n      <td>0.000642</td>\n      <td>0.263015</td>\n      <td>-0.138409</td>\n      <td>-0.902241</td>\n      <td>-2.890145</td>\n      <td>0.000408</td>\n      <td>-0.279647</td>\n      <td>-0.645229</td>\n      <td>-0.542898</td>\n      <td>-0.653887</td>\n      <td>-1.065466</td>\n      <td>0</td>\n      <td>1</td>\n      <td>0</td>\n    </tr>\n    <tr>\n      <th>62320</th>\n      <td>0.223142</td>\n      <td>-0.185814</td>\n      <td>0.265753</td>\n      <td>0.442694</td>\n      <td>2.460596</td>\n      <td>-0.070811</td>\n      <td>1.937613</td>\n      <td>-0.425970</td>\n      <td>-0.062909</td>\n      <td>-2.326092</td>\n      <td>1.977675</td>\n      <td>1.489619</td>\n      <td>-0.345876</td>\n      <td>-0.703914</td>\n      <td>0.959453</td>\n      <td>0</td>\n      <td>1</td>\n      <td>0</td>\n    </tr>\n    <tr>\n      <th>63574</th>\n      <td>-0.108132</td>\n      <td>0.280591</td>\n      <td>0.134490</td>\n      <td>0.396018</td>\n      <td>-0.235625</td>\n      <td>-0.140037</td>\n      <td>0.518388</td>\n      <td>0.097928</td>\n      <td>0.509270</td>\n      <td>0.410967</td>\n      <td>-0.930729</td>\n      <td>0.422195</td>\n      <td>-0.536861</td>\n      <td>-0.053568</td>\n      <td>0.959453</td>\n      <td>0</td>\n      <td>1</td>\n      <td>0</td>\n    </tr>\n    <tr>\n      <th>61359</th>\n      <td>0.664842</td>\n      <td>0.700355</td>\n      <td>-0.000751</td>\n      <td>-0.000729</td>\n      <td>0.000642</td>\n      <td>-1.026136</td>\n      <td>0.014618</td>\n      <td>0.574199</td>\n      <td>0.004406</td>\n      <td>0.000408</td>\n      <td>0.764946</td>\n      <td>-0.645229</td>\n      <td>-0.336951</td>\n      <td>2.224834</td>\n      <td>0.959453</td>\n      <td>0</td>\n      <td>1</td>\n      <td>0</td>\n    </tr>\n    <tr>\n      <th>...</th>\n      <td>...</td>\n      <td>...</td>\n      <td>...</td>\n      <td>...</td>\n      <td>...</td>\n      <td>...</td>\n      <td>...</td>\n      <td>...</td>\n      <td>...</td>\n      <td>...</td>\n      <td>...</td>\n      <td>...</td>\n      <td>...</td>\n      <td>...</td>\n      <td>...</td>\n      <td>...</td>\n      <td>...</td>\n      <td>...</td>\n    </tr>\n    <tr>\n      <th>6283</th>\n      <td>0.664842</td>\n      <td>1.026839</td>\n      <td>-0.000751</td>\n      <td>-0.000729</td>\n      <td>0.000642</td>\n      <td>-1.006137</td>\n      <td>0.280045</td>\n      <td>-0.378343</td>\n      <td>-0.332169</td>\n      <td>0.274114</td>\n      <td>-0.225987</td>\n      <td>-0.645229</td>\n      <td>-0.118079</td>\n      <td>-0.163771</td>\n      <td>0.959453</td>\n      <td>0</td>\n      <td>1</td>\n      <td>0</td>\n    </tr>\n    <tr>\n      <th>55010</th>\n      <td>-0.218557</td>\n      <td>-2.611118</td>\n      <td>-0.000751</td>\n      <td>-0.000729</td>\n      <td>0.000642</td>\n      <td>1.202956</td>\n      <td>-0.023300</td>\n      <td>-0.283089</td>\n      <td>-0.163882</td>\n      <td>0.000408</td>\n      <td>-1.789299</td>\n      <td>-0.645229</td>\n      <td>-0.563970</td>\n      <td>2.349390</td>\n      <td>0.959453</td>\n      <td>0</td>\n      <td>1</td>\n      <td>0</td>\n    </tr>\n    <tr>\n      <th>76963</th>\n      <td>-0.439406</td>\n      <td>-2.331275</td>\n      <td>-0.000751</td>\n      <td>-0.000729</td>\n      <td>0.000642</td>\n      <td>0.055335</td>\n      <td>-0.856147</td>\n      <td>-0.330716</td>\n      <td>1.418024</td>\n      <td>0.000408</td>\n      <td>-0.648117</td>\n      <td>3.624468</td>\n      <td>-0.323841</td>\n      <td>-0.662145</td>\n      <td>-0.053006</td>\n      <td>0</td>\n      <td>1</td>\n      <td>0</td>\n    </tr>\n    <tr>\n      <th>863</th>\n      <td>-0.439406</td>\n      <td>-0.325735</td>\n      <td>-0.000751</td>\n      <td>-0.000729</td>\n      <td>0.000642</td>\n      <td>0.044567</td>\n      <td>-0.948234</td>\n      <td>-0.997495</td>\n      <td>-0.433142</td>\n      <td>0.000408</td>\n      <td>1.281876</td>\n      <td>3.624468</td>\n      <td>-0.590894</td>\n      <td>-0.658482</td>\n      <td>0.959453</td>\n      <td>0</td>\n      <td>1</td>\n      <td>0</td>\n    </tr>\n    <tr>\n      <th>15833</th>\n      <td>2.376426</td>\n      <td>2.286131</td>\n      <td>-0.000751</td>\n      <td>-0.000729</td>\n      <td>0.000642</td>\n      <td>-2.862945</td>\n      <td>0.317963</td>\n      <td>2.431654</td>\n      <td>1.754600</td>\n      <td>1.779497</td>\n      <td>1.517983</td>\n      <td>-0.645229</td>\n      <td>-0.575043</td>\n      <td>0.175605</td>\n      <td>-1.065466</td>\n      <td>0</td>\n      <td>1</td>\n      <td>0</td>\n    </tr>\n  </tbody>\n</table>\n<p>61261 rows × 18 columns</p>\n</div>"
     },
     "metadata": {},
     "output_type": "display_data"
    }
   ],
   "source": [
    "drop_cols = ['outcome', 'tourney_date']\n",
    "y_train = data_train.outcome\n",
    "X_train = data_train.drop(drop_cols, axis=1)\n",
    "\n",
    "# Fource tourney level to represent difficulty\n",
    "X_train.tourney_level[X_train.tourney_level == 4] = 3\n",
    "X_train.tourney_level[X_train.tourney_level == 5] = 4\n",
    "X_train.tourney_level[X_train.tourney_level == 6] = 4\n",
    "\n",
    "scale_cols = ['tourney_level', 'player_1', 'player_2', 'age_diff', 'surface']\n",
    "X_train[scale_cols] = StandardScaler().fit_transform(X_train[scale_cols])\n",
    "X_train, X_val, y_train, y_val = train_test_split(X_train, y_train, test_size=0.33, random_state=42)\n",
    "\n",
    "display(X_train)"
   ],
   "metadata": {
    "collapsed": false,
    "pycharm": {
     "name": "#%%\n",
     "is_executing": false
    }
   }
  },
  {
   "cell_type": "markdown",
   "source": [
    "## OPTIONAL: Remove correlated features"
   ],
   "metadata": {
    "collapsed": false,
    "pycharm": {
     "name": "#%% md\n"
    }
   }
  },
  {
   "cell_type": "code",
   "execution_count": 15,
   "outputs": [],
   "source": [
    "col_remove = ['rel_total_wins', 'mutual_wins', 'mutual_surface_wins', 'rel_climate_wins']\n",
    "X_train.drop(col_remove, inplace=True, axis=1)\n",
    "X_val.drop(col_remove, inplace=True, axis=1)"
   ],
   "metadata": {
    "collapsed": false,
    "pycharm": {
     "name": "#%%\n",
     "is_executing": false
    }
   }
  },
  {
   "cell_type": "markdown",
   "metadata": {
    "pycharm": {
     "name": "#%% md\n"
    }
   },
   "source": [
    "## Correlation heatmap"
   ]
  },
  {
   "cell_type": "code",
   "execution_count": 17,
   "metadata": {
    "pycharm": {
     "is_executing": false,
     "name": "#%%\n"
    }
   },
   "outputs": [
    {
     "data": {
      "text/plain": "<Figure size 432x288 with 2 Axes>",
      "image/png": "[encoded data removed]"
     },
     "metadata": {},
     "output_type": "display_data"
    }
   ],
   "source": [
    "adv = ['p2_home', 'none_home', 'p1_home']\n",
    "X_heat = X_train.drop(adv, axis=1)\n",
    "sns.heatmap(X_heat.corr(), annot=True, fmt='.1f')\n",
    "plt.show()"
   ]
  },
  {
   "cell_type": "markdown",
   "metadata": {
    "pycharm": {
     "name": "#%% md\n"
    }
   },
   "source": [
    "## Feature importance\n",
    "Question being answered: which features help split our tree in the best way possible?\n",
    "How does each feature affect the accuracy of our model?"
   ]
  },
  {
   "cell_type": "code",
   "execution_count": 18,
   "metadata": {
    "pycharm": {
     "is_executing": false,
     "name": "#%%\n"
    }
   },
   "outputs": [
    {
     "data": {
      "text/plain": "<Figure size 432x288 with 1 Axes>",
      "image/png": "[encoded data removed]"
     },
     "metadata": {},
     "output_type": "display_data"
    }
   ],
   "source": [
    "model = RandomForestClassifier()\n",
    "model.fit(X_train, y_train)\n",
    "\n",
    "sns.set(style=\"whitegrid\")\n",
    "feat_imp = pd.Series(model.feature_importances_, index=X_train.columns)\n",
    "feat_imp = feat_imp.sort_values(ascending=False)\n",
    "sns.barplot(x=feat_imp.to_list(), y=feat_imp.index, color='b')\n",
    "plt.show()"
   ]
  },
  {
   "cell_type": "markdown",
   "metadata": {
    "pycharm": {
     "name": "#%% md\n"
    }
   },
   "source": [
    "## Recursive feature elimination by feature importance\n",
    "This takes a bit of time (large set...). \n",
    "Prune the results from previous sections. \n",
    "A ranking of 1 means the algorithm suggests the feature.\n",
    "Remove highly correlated feature first"
   ]
  },
  {
   "cell_type": "code",
   "execution_count": 21,
   "metadata": {
    "pycharm": {
     "is_executing": false,
     "name": "#%%\n"
    },
    "scrolled": true
   },
   "outputs": [
    {
     "data": {
      "text/plain": "                     ranking\nrel_total_wins             2\nrel_surface_wins           1\nmutual_wins                4\nmutual_surface_wins        6\nmutual_games               5\nrank_diff                  1\npoints_grad_diff           1\nrel_climate_wins           1\nrel_recent_wins            3\nrel_tourney_games          1\nage_diff                   1\nplayer_1                   1\nplayer_2                   1\nsurface                    7\np2_home                   10\nnone_home                  8\np1_home                    9",
      "text/html": "<div>\n<style scoped>\n    .dataframe tbody tr th:only-of-type {\n        vertical-align: middle;\n    }\n\n    .dataframe tbody tr th {\n        vertical-align: top;\n    }\n\n    .dataframe thead th {\n        text-align: right;\n    }\n</style>\n<table border=\"1\" class=\"dataframe\">\n  <thead>\n    <tr style=\"text-align: right;\">\n      <th></th>\n      <th>ranking</th>\n    </tr>\n  </thead>\n  <tbody>\n    <tr>\n      <th>rel_total_wins</th>\n      <td>2</td>\n    </tr>\n    <tr>\n      <th>rel_surface_wins</th>\n      <td>1</td>\n    </tr>\n    <tr>\n      <th>mutual_wins</th>\n      <td>4</td>\n    </tr>\n    <tr>\n      <th>mutual_surface_wins</th>\n      <td>6</td>\n    </tr>\n    <tr>\n      <th>mutual_games</th>\n      <td>5</td>\n    </tr>\n    <tr>\n      <th>rank_diff</th>\n      <td>1</td>\n    </tr>\n    <tr>\n      <th>points_grad_diff</th>\n      <td>1</td>\n    </tr>\n    <tr>\n      <th>rel_climate_wins</th>\n      <td>1</td>\n    </tr>\n    <tr>\n      <th>rel_recent_wins</th>\n      <td>3</td>\n    </tr>\n    <tr>\n      <th>rel_tourney_games</th>\n      <td>1</td>\n    </tr>\n    <tr>\n      <th>age_diff</th>\n      <td>1</td>\n    </tr>\n    <tr>\n      <th>player_1</th>\n      <td>1</td>\n    </tr>\n    <tr>\n      <th>player_2</th>\n      <td>1</td>\n    </tr>\n    <tr>\n      <th>surface</th>\n      <td>7</td>\n    </tr>\n    <tr>\n      <th>p2_home</th>\n      <td>10</td>\n    </tr>\n    <tr>\n      <th>none_home</th>\n      <td>8</td>\n    </tr>\n    <tr>\n      <th>p1_home</th>\n      <td>9</td>\n    </tr>\n  </tbody>\n</table>\n</div>"
     },
     "metadata": {},
     "output_type": "display_data"
    },
    {
     "name": "stdout",
     "text": [
      "\n",
      "Number of features selected: 8\n"
     ],
     "output_type": "stream"
    }
   ],
   "source": [
    "model = RandomForestClassifier()\n",
    "rfe_model = RFE(model)  # selects 5 features\n",
    "rfe_model.fit(X_train, y_train)\n",
    "\n",
    "rfe_results = pd.DataFrame(rfe_model.ranking_, index=X_train.columns, columns=['ranking'])\n",
    "\n",
    "display(rfe_results)\n",
    "print('\\nNumber of features selected: %d' % rfe_model.n_features_)"
   ]
  },
  {
   "cell_type": "markdown",
   "source": [
    "## Classification report\n",
    "\n",
    "Full model:"
   ],
   "metadata": {
    "collapsed": false
   }
  },
  {
   "cell_type": "code",
   "execution_count": 19,
   "outputs": [
    {
     "name": "stdout",
     "text": [
      "              precision    recall  f1-score   support\n",
      "\n",
      "        -1.0       0.91      0.91      0.91     15101\n",
      "         1.0       0.91      0.91      0.91     15073\n",
      "\n",
      "    accuracy                           0.91     30174\n",
      "   macro avg       0.91      0.91      0.91     30174\n",
      "weighted avg       0.91      0.91      0.91     30174\n",
      "\n"
     ],
     "output_type": "stream"
    }
   ],
   "source": [
    "model = RandomForestClassifier()\n",
    "model.fit(X_train, y_train)\n",
    "\n",
    "full_val_pred = model.predict(X_val)\n",
    "class_report_full = classification_report(y_val, full_val_pred)\n",
    "print(class_report_full)"
   ],
   "metadata": {
    "collapsed": false,
    "pycharm": {
     "name": "#%%\n",
     "is_executing": false
    }
   }
  },
  {
   "cell_type": "markdown",
   "source": [
    "Reduced model:\n",
    "Run script above due to it being so slow"
   ],
   "metadata": {
    "collapsed": false
   }
  },
  {
   "cell_type": "code",
   "execution_count": 12,
   "outputs": [
    {
     "name": "stdout",
     "text": [
      "              precision    recall  f1-score   support\n",
      "\n",
      "          -1       0.72      0.72      0.72     20351\n",
      "           1       0.72      0.72      0.72     20119\n",
      "\n",
      "    accuracy                           0.72     40470\n",
      "   macro avg       0.72      0.72      0.72     40470\n",
      "weighted avg       0.72      0.72      0.72     40470\n",
      "\n"
     ],
     "output_type": "stream"
    }
   ],
   "source": [
    "red_val_pred = rfe_model.predict(X_val)\n",
    "class_report_red = classification_report(y_val, red_val_pred)\n",
    "print(class_report_red)"
   ],
   "metadata": {
    "collapsed": false,
    "pycharm": {
     "name": "#%%\n",
     "is_executing": false
    }
   }
  },
  {
   "cell_type": "markdown",
   "source": [
    "## Specific cases\n",
    "Federer vs. Nadal"
   ],
   "metadata": {
    "collapsed": false,
    "pycharm": {
     "name": "#%% md\n"
    }
   }
  },
  {
   "cell_type": "code",
   "execution_count": null,
   "outputs": [],
   "source": [
    "player_1 = data_train.player_1\n",
    "player_2 = data_train.player_2\n",
    "y_train = data_train.outcome\n",
    "\n",
    "drop_cols = ['outcome', 'tourney_date', 'tourney_level']\n",
    "# drop_cols.append(['mutual_wins', 'mutual_surface_wins', 'mutual_games'])\n",
    "X_train = data_train.drop(drop_cols, axis=1)\n",
    "\n",
    "X_train, X_val, y_train, y_val = train_test_split(X_train, y_train, test_size=0.33, random_state=42)\n",
    "\n",
    "model = RandomForestClassifier()\n",
    "model.fit(X_train, y_train)\n",
    "\n",
    "X_val = X_val.join(y_val)\n",
    "data_mask = (X_val.tourney_level.isin(tourneys))\n",
    "X_val = X_val.loc[data_mask]\n",
    "y_val = X_val.outcome\n",
    "X_val.drop(['outcome', 'tourney_level'], inplace=True, axis=1)"
   ],
   "metadata": {
    "collapsed": false,
    "pycharm": {
     "name": "#%%\n"
    }
   }
  },
  {
   "cell_type": "markdown",
   "source": [
    "## Performance on ATP main matches\n",
    "Same matches as being tested, ATP 250, 500 and 1000"
   ],
   "metadata": {
    "collapsed": false,
    "pycharm": {
     "name": "#%% md\n"
    }
   }
  },
  {
   "cell_type": "code",
   "execution_count": 20,
   "outputs": [
    {
     "name": "stdout",
     "text": [
      "              precision    recall  f1-score   support\n",
      "\n",
      "        -1.0       0.91      0.92      0.92      1299\n",
      "         1.0       0.92      0.91      0.92      1362\n",
      "\n",
      "    accuracy                           0.92      2661\n",
      "   macro avg       0.92      0.92      0.92      2661\n",
      "weighted avg       0.92      0.92      0.92      2661\n",
      "\n"
     ],
     "output_type": "stream"
    }
   ],
   "source": [
    "tourneys = [2,3]\n",
    "\n",
    "drop_cols = ['outcome', 'tourney_date']\n",
    "y_train = data_train.outcome\n",
    "X_train = data_train.drop(drop_cols, axis=1)\n",
    "\n",
    "X_train, X_val, y_train, y_val = train_test_split(X_train, y_train, test_size=0.33, random_state=42)\n",
    "\n",
    "X_val = X_val.join(y_val)\n",
    "data_mask = (X_val.tourney_level.isin(tourneys))\n",
    "X_val = X_val.loc[data_mask]\n",
    "y_val = X_val.outcome\n",
    "X_val.drop(['outcome', 'tourney_level'], inplace=True, axis=1)\n",
    "\n",
    "X_train.drop('tourney_level', inplace=True, axis=1)\n",
    "\n",
    "model = RandomForestClassifier()\n",
    "model.fit(X_train, y_train)\n",
    "\n",
    "full_val_pred = model.predict(X_val)\n",
    "class_report_full = classification_report(y_val, full_val_pred)\n",
    "print(class_report_full)"
   ],
   "metadata": {
    "collapsed": false,
    "pycharm": {
     "name": "#%%\n",
     "is_executing": false
    }
   }
  },
  {
   "cell_type": "markdown",
   "source": [
    "## Accuracy increase over time?\n",
    "i.e. should we generate more statistics?"
   ],
   "metadata": {
    "collapsed": false,
    "pycharm": {
     "name": "#%% md\n"
    }
   }
  },
  {
   "cell_type": "code",
   "execution_count": 14,
   "outputs": [
    {
     "name": "stdout",
     "text": [
      "              precision    recall  f1-score   support\n",
      "\n",
      "          -1       0.74      0.74      0.74       668\n",
      "           1       0.73      0.73      0.73       635\n",
      "\n",
      "    accuracy                           0.73      1303\n",
      "   macro avg       0.73      0.73      0.73      1303\n",
      "weighted avg       0.73      0.73      0.73      1303\n",
      "\n",
      "              precision    recall  f1-score   support\n",
      "\n",
      "          -1       0.73      0.73      0.73       666\n",
      "           1       0.72      0.72      0.72       643\n",
      "\n",
      "    accuracy                           0.72      1309\n",
      "   macro avg       0.72      0.72      0.72      1309\n",
      "weighted avg       0.72      0.72      0.72      1309\n",
      "\n"
     ],
     "output_type": "stream"
    }
   ],
   "source": [
    "drop_cols = ['outcome', 'tourney_date', 'tourney_level']\n",
    "\n",
    "# 2017-06-15\n",
    "train_eval_split_low = 1497484800\n",
    "train_eval_split_high = 1497484800\n",
    "\n",
    "data_train_pre = data_train.loc[data_train.tourney_date < train_eval_split_low]\n",
    "data_train_post = data_train.loc[data_train.tourney_date >= train_eval_split_high]\n",
    "\n",
    "y_train_pre = data_train_pre.outcome\n",
    "X_train_pre = data_train_pre.drop(drop_cols, axis=1)\n",
    "\n",
    "y_train_post = data_train_post.outcome\n",
    "X_train_post = data_train_post.drop(drop_cols, axis=1)\n",
    "\n",
    "X_train_pre, X_val_pre, y_train_pre, y_val_pre = train_test_split(X_train_pre, y_train_pre, test_size=0.33, random_state=42)\n",
    "X_train_post, X_val_post, y_train_post, y_val_post = train_test_split(X_train_post, y_train_post, test_size=0.33, random_state=42)\n",
    "\n",
    "model_pre = RandomForestClassifier()\n",
    "model_pre.fit(X_train_pre, y_train_pre)\n",
    "\n",
    "val_pred_pre = model_pre.predict(X_val_pre)\n",
    "class_report_pre = classification_report(y_val_pre, val_pred_pre)\n",
    "print(class_report_pre)\n",
    "\n",
    "model_post = RandomForestClassifier()\n",
    "model_post.fit(X_train_post, y_train_post)\n",
    "\n",
    "val_pred_post = model_post.predict(X_val_post)\n",
    "class_report_post = classification_report(y_val_post, val_pred_post)\n",
    "print(class_report_post)"
   ],
   "metadata": {
    "collapsed": false,
    "pycharm": {
     "name": "#%%\n",
     "is_executing": false
    }
   }
  }
 ],
 "metadata": {
  "kernelspec": {
   "display_name": "Python 3",
   "language": "python",
   "name": "python3"
  },
  "language_info": {
   "codemirror_mode": {
    "name": "ipython",
    "version": 3
   },
   "file_extension": ".py",
   "mimetype": "text/x-python",
   "name": "python",
   "nbconvert_exporter": "python",
   "pygments_lexer": "ipython3",
   "version": "3.7.2"
  },
  "pycharm": {
   "stem_cell": {
    "cell_type": "raw",
    "source": [],
    "metadata": {
     "collapsed": false
    }
   }
  }
 },
 "nbformat": 4,
 "nbformat_minor": 1
}