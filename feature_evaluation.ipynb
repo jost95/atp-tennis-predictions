{
 "cells": [
  {
   "cell_type": "markdown",
   "metadata": {},
   "source": [
    "# 1. Feature evaluation\n",
    "## Load dependencies and data\n",
    "\n",
    "Note that tourney_level, player_1, player_2 and surface should only be used to evaluate specific situations since these are not a \"difference feature\". All other features for a match is the difference in performance/situation for the two players."
   ]
  },
  {
   "cell_type": "code",
   "execution_count": 31,
   "metadata": {
    "pycharm": {
     "is_executing": false,
     "name": "#%%\n"
    }
   },
   "outputs": [],
   "source": [
    "import os\n",
    "import json\n",
    "import datetime as dt\n",
    "import pandas as pd\n",
    "import numpy as np\n",
    "import seaborn as sns\n",
    "import matplotlib.pyplot as plt\n",
    "from IPython.core.display import display\n",
    "\n",
    "from sklearn.ensemble import RandomForestClassifier\n",
    "from sklearn.feature_selection import RFE\n",
    "from sklearn.metrics import classification_report, accuracy_score\n",
    "from sklearn.model_selection import train_test_split, cross_val_score\n",
    "from sklearn.preprocessing import StandardScaler\n",
    "from sklearn.linear_model import LogisticRegression\n",
    "from sklearn.neighbors import KNeighborsClassifier\n",
    "\n",
    "from definitions import GEN_PATH, ROOT_DIR\n",
    "\n",
    "sns.set_context('notebook')\n",
    "sns.set_style('white')\n",
    "sns.set(style=\"whitegrid\")\n",
    "\n",
    "# Read configuration file\n",
    "with open(os.path.join(ROOT_DIR, 'config.json')) as f:\n",
    "    config = json.load(f)\n",
    "\n",
    "proc_match_filepath = os.path.join(GEN_PATH, config['proc_match_filename'])\n",
    "\n",
    "# Read data\n",
    "data = pd.read_hdf(proc_match_filepath, key='matches')\n",
    "\n",
    "# Split data set into train and test, start of 2019 season in unix time, 2018-12-31 00:00:00 UTC\n",
    "test_date_begin = 1546214400\n",
    "\n",
    "# Initial model parameters\n",
    "rf_max_depth = 10  # arbitrary number used only feature evaluation\n",
    "rf_estimators = 100  # future default in sklearn\n",
    "lr_solver = 'lbfgs'  # Only supports Ridge regularization\n",
    "\n"
   ]
  },
  {
   "cell_type": "markdown",
   "metadata": {},
   "source": [
    "## Declare notebook wide functions"
   ]
  },
  {
   "cell_type": "code",
   "execution_count": 16,
   "metadata": {},
   "outputs": [],
   "source": [
    "# Timing logger for dataframe operations\n",
    "def logger(f):\n",
    "    def wrapper(df, *args, **kwargs):\n",
    "        start = dt.datetime.now()\n",
    "        result = f(df, *args, **kwargs)\n",
    "        end = dt.datetime.now()\n",
    "        \n",
    "        if isinstance(result, tuple):\n",
    "            shape = ''\n",
    "            \n",
    "            for r in result:\n",
    "                shape += str(r.shape)\n",
    "        else:\n",
    "            shape = result.shape\n",
    "        \n",
    "        print(f\"{f.__name__} took={end - start} shape={shape}\")\n",
    "        return result\n",
    "    return wrapper\n",
    "\n",
    "@logger\n",
    "def start_pipe(df):\n",
    "    return df.copy()\n",
    "\n",
    "@logger\n",
    "def extract_train_data(df, date_split):\n",
    "    df = df.loc[data.tourney_date < date_split]\n",
    "    return df.dropna()\n",
    " \n",
    "@logger\n",
    "def one_hot_encode(df):\n",
    "    df = pd.get_dummies(df, columns=['home_advantage'])\n",
    "\n",
    "    renames = {\n",
    "        'home_advantage_-1.0': 'p2_home',\n",
    "        'home_advantage_0.0': 'none_home',\n",
    "        'home_advantage_1.0': 'p1_home',\n",
    "    }\n",
    "\n",
    "    return df.rename(columns=renames)\n",
    "\n",
    "@logger\n",
    "def prune_columns(df):\n",
    "    # These are only interested for evaluating specific situations\n",
    "    drop_cols = ['outcome', 'tourney_date', 'tourney_level', 'player_1', 'player_2', 'surface']\n",
    "    df_y = df.outcome\n",
    "    df_x = df.drop(drop_cols, axis=1)\n",
    "    return df_x, df_y\n",
    "\n",
    "def plot_rf_feat_imp(importances, columns):\n",
    "    feat_imp = pd.Series(importances, index=columns)\n",
    "    feat_imp = feat_imp.sort_values(ascending=False)\n",
    "    sns.barplot(x=feat_imp.to_list(), y=feat_imp.index, color='b')\n",
    "    plt.show()\n",
    "\n",
    "def plot_lr_feat_sign(X, coeffs):\n",
    "    std_dev = np.std(X, 0)\n",
    "    influence = std_dev*np.abs(coeffs)\n",
    "    influence.sort_values(ascending=False, inplace=True)\n",
    "    sns.barplot(x=influence.to_list(), y=influence.index, color='b')\n",
    "    plt.show()\n",
    "\n",
    "def plot_hyperparam(accs, params):\n",
    "    sns.lineplot(params, accs)\n",
    "    plt.show()"
   ]
  },
  {
   "cell_type": "markdown",
   "metadata": {
    "pycharm": {
     "name": "#%% md\n"
    }
   },
   "source": [
    "## Extract training and validation data"
   ]
  },
  {
   "cell_type": "code",
   "execution_count": 5,
   "metadata": {
    "pycharm": {
     "is_executing": false,
     "name": "#%%\n"
    }
   },
   "outputs": [
    {
     "name": "stdout",
     "output_type": "stream",
     "text": [
      "extract_train_data took=0:00:00.023466 shape=(91435, 18)\n",
      "one_hot_encode took=0:00:00.039409 shape=(91435, 20)\n",
      "prune_columns took=0:00:00.003794 shape=(91435, 14)(91435,)\n"
     ]
    },
    {
     "data": {
      "text/html": [
       "<div>\n",
       "<style scoped>\n",
       "    .dataframe tbody tr th:only-of-type {\n",
       "        vertical-align: middle;\n",
       "    }\n",
       "\n",
       "    .dataframe tbody tr th {\n",
       "        vertical-align: top;\n",
       "    }\n",
       "\n",
       "    .dataframe thead th {\n",
       "        text-align: right;\n",
       "    }\n",
       "</style>\n",
       "<table border=\"1\" class=\"dataframe\">\n",
       "  <thead>\n",
       "    <tr style=\"text-align: right;\">\n",
       "      <th></th>\n",
       "      <th>rel_total_wins</th>\n",
       "      <th>rel_surface_wins</th>\n",
       "      <th>mutual_wins</th>\n",
       "      <th>mutual_surface_wins</th>\n",
       "      <th>mutual_games</th>\n",
       "      <th>rank_diff</th>\n",
       "      <th>points_grad_diff</th>\n",
       "      <th>rel_climate_wins</th>\n",
       "      <th>rel_recent_wins</th>\n",
       "      <th>rel_tourney_games</th>\n",
       "      <th>age_diff</th>\n",
       "      <th>p2_home</th>\n",
       "      <th>none_home</th>\n",
       "      <th>p1_home</th>\n",
       "    </tr>\n",
       "  </thead>\n",
       "  <tbody>\n",
       "    <tr>\n",
       "      <td>13005</td>\n",
       "      <td>-0.328981</td>\n",
       "      <td>-0.372376</td>\n",
       "      <td>1.443146</td>\n",
       "      <td>1.522080</td>\n",
       "      <td>2.290345</td>\n",
       "      <td>0.138407</td>\n",
       "      <td>-0.035488</td>\n",
       "      <td>-0.092580</td>\n",
       "      <td>0.004406</td>\n",
       "      <td>0.000408</td>\n",
       "      <td>0.471819</td>\n",
       "      <td>0</td>\n",
       "      <td>1</td>\n",
       "      <td>0</td>\n",
       "    </tr>\n",
       "    <tr>\n",
       "      <td>38678</td>\n",
       "      <td>-0.605043</td>\n",
       "      <td>-0.652218</td>\n",
       "      <td>-0.000751</td>\n",
       "      <td>-0.000729</td>\n",
       "      <td>0.000642</td>\n",
       "      <td>0.263015</td>\n",
       "      <td>-0.138409</td>\n",
       "      <td>-0.902241</td>\n",
       "      <td>-2.890145</td>\n",
       "      <td>0.000408</td>\n",
       "      <td>-0.277343</td>\n",
       "      <td>0</td>\n",
       "      <td>1</td>\n",
       "      <td>0</td>\n",
       "    </tr>\n",
       "    <tr>\n",
       "      <td>62320</td>\n",
       "      <td>0.223142</td>\n",
       "      <td>-0.185814</td>\n",
       "      <td>0.265753</td>\n",
       "      <td>0.442694</td>\n",
       "      <td>2.460596</td>\n",
       "      <td>-0.070811</td>\n",
       "      <td>1.937613</td>\n",
       "      <td>-0.425970</td>\n",
       "      <td>-0.062909</td>\n",
       "      <td>-2.326092</td>\n",
       "      <td>1.973712</td>\n",
       "      <td>0</td>\n",
       "      <td>1</td>\n",
       "      <td>0</td>\n",
       "    </tr>\n",
       "    <tr>\n",
       "      <td>63574</td>\n",
       "      <td>-0.108132</td>\n",
       "      <td>0.280591</td>\n",
       "      <td>0.134490</td>\n",
       "      <td>0.396018</td>\n",
       "      <td>-0.235625</td>\n",
       "      <td>-0.140037</td>\n",
       "      <td>0.518388</td>\n",
       "      <td>0.097928</td>\n",
       "      <td>0.509270</td>\n",
       "      <td>0.410967</td>\n",
       "      <td>-0.926617</td>\n",
       "      <td>0</td>\n",
       "      <td>1</td>\n",
       "      <td>0</td>\n",
       "    </tr>\n",
       "    <tr>\n",
       "      <td>61359</td>\n",
       "      <td>0.664842</td>\n",
       "      <td>0.700355</td>\n",
       "      <td>-0.000751</td>\n",
       "      <td>-0.000729</td>\n",
       "      <td>0.000642</td>\n",
       "      <td>-1.026136</td>\n",
       "      <td>0.014618</td>\n",
       "      <td>0.574199</td>\n",
       "      <td>0.004406</td>\n",
       "      <td>0.000408</td>\n",
       "      <td>0.764350</td>\n",
       "      <td>0</td>\n",
       "      <td>1</td>\n",
       "      <td>0</td>\n",
       "    </tr>\n",
       "    <tr>\n",
       "      <td>...</td>\n",
       "      <td>...</td>\n",
       "      <td>...</td>\n",
       "      <td>...</td>\n",
       "      <td>...</td>\n",
       "      <td>...</td>\n",
       "      <td>...</td>\n",
       "      <td>...</td>\n",
       "      <td>...</td>\n",
       "      <td>...</td>\n",
       "      <td>...</td>\n",
       "      <td>...</td>\n",
       "      <td>...</td>\n",
       "      <td>...</td>\n",
       "      <td>...</td>\n",
       "    </tr>\n",
       "    <tr>\n",
       "      <td>6283</td>\n",
       "      <td>0.664842</td>\n",
       "      <td>1.026839</td>\n",
       "      <td>-0.000751</td>\n",
       "      <td>-0.000729</td>\n",
       "      <td>0.000642</td>\n",
       "      <td>-1.006137</td>\n",
       "      <td>0.280045</td>\n",
       "      <td>-0.378343</td>\n",
       "      <td>-0.332169</td>\n",
       "      <td>0.274114</td>\n",
       "      <td>-0.223831</td>\n",
       "      <td>0</td>\n",
       "      <td>1</td>\n",
       "      <td>0</td>\n",
       "    </tr>\n",
       "    <tr>\n",
       "      <td>55010</td>\n",
       "      <td>-0.218557</td>\n",
       "      <td>-2.611118</td>\n",
       "      <td>-0.000751</td>\n",
       "      <td>-0.000729</td>\n",
       "      <td>0.000642</td>\n",
       "      <td>1.202956</td>\n",
       "      <td>-0.023300</td>\n",
       "      <td>-0.283089</td>\n",
       "      <td>-0.163882</td>\n",
       "      <td>0.000408</td>\n",
       "      <td>-1.782803</td>\n",
       "      <td>0</td>\n",
       "      <td>1</td>\n",
       "      <td>0</td>\n",
       "    </tr>\n",
       "    <tr>\n",
       "      <td>76963</td>\n",
       "      <td>-0.439406</td>\n",
       "      <td>-2.331275</td>\n",
       "      <td>-0.000751</td>\n",
       "      <td>-0.000729</td>\n",
       "      <td>0.000642</td>\n",
       "      <td>0.055335</td>\n",
       "      <td>-0.856147</td>\n",
       "      <td>-0.330716</td>\n",
       "      <td>1.418024</td>\n",
       "      <td>0.000408</td>\n",
       "      <td>-0.644789</td>\n",
       "      <td>0</td>\n",
       "      <td>1</td>\n",
       "      <td>0</td>\n",
       "    </tr>\n",
       "    <tr>\n",
       "      <td>863</td>\n",
       "      <td>-0.439406</td>\n",
       "      <td>-0.325735</td>\n",
       "      <td>-0.000751</td>\n",
       "      <td>-0.000729</td>\n",
       "      <td>0.000642</td>\n",
       "      <td>0.044567</td>\n",
       "      <td>-0.948234</td>\n",
       "      <td>-0.997495</td>\n",
       "      <td>-0.433142</td>\n",
       "      <td>0.000408</td>\n",
       "      <td>1.279845</td>\n",
       "      <td>0</td>\n",
       "      <td>1</td>\n",
       "      <td>0</td>\n",
       "    </tr>\n",
       "    <tr>\n",
       "      <td>15833</td>\n",
       "      <td>2.376426</td>\n",
       "      <td>2.286131</td>\n",
       "      <td>-0.000751</td>\n",
       "      <td>-0.000729</td>\n",
       "      <td>0.000642</td>\n",
       "      <td>-2.862945</td>\n",
       "      <td>0.317963</td>\n",
       "      <td>2.431654</td>\n",
       "      <td>1.754600</td>\n",
       "      <td>1.779497</td>\n",
       "      <td>1.515296</td>\n",
       "      <td>0</td>\n",
       "      <td>1</td>\n",
       "      <td>0</td>\n",
       "    </tr>\n",
       "  </tbody>\n",
       "</table>\n",
       "<p>61261 rows × 14 columns</p>\n",
       "</div>"
      ],
      "text/plain": [
       "       rel_total_wins  rel_surface_wins  mutual_wins  mutual_surface_wins  \\\n",
       "13005       -0.328981         -0.372376     1.443146             1.522080   \n",
       "38678       -0.605043         -0.652218    -0.000751            -0.000729   \n",
       "62320        0.223142         -0.185814     0.265753             0.442694   \n",
       "63574       -0.108132          0.280591     0.134490             0.396018   \n",
       "61359        0.664842          0.700355    -0.000751            -0.000729   \n",
       "...               ...               ...          ...                  ...   \n",
       "6283         0.664842          1.026839    -0.000751            -0.000729   \n",
       "55010       -0.218557         -2.611118    -0.000751            -0.000729   \n",
       "76963       -0.439406         -2.331275    -0.000751            -0.000729   \n",
       "863         -0.439406         -0.325735    -0.000751            -0.000729   \n",
       "15833        2.376426          2.286131    -0.000751            -0.000729   \n",
       "\n",
       "       mutual_games  rank_diff  points_grad_diff  rel_climate_wins  \\\n",
       "13005      2.290345   0.138407         -0.035488         -0.092580   \n",
       "38678      0.000642   0.263015         -0.138409         -0.902241   \n",
       "62320      2.460596  -0.070811          1.937613         -0.425970   \n",
       "63574     -0.235625  -0.140037          0.518388          0.097928   \n",
       "61359      0.000642  -1.026136          0.014618          0.574199   \n",
       "...             ...        ...               ...               ...   \n",
       "6283       0.000642  -1.006137          0.280045         -0.378343   \n",
       "55010      0.000642   1.202956         -0.023300         -0.283089   \n",
       "76963      0.000642   0.055335         -0.856147         -0.330716   \n",
       "863        0.000642   0.044567         -0.948234         -0.997495   \n",
       "15833      0.000642  -2.862945          0.317963          2.431654   \n",
       "\n",
       "       rel_recent_wins  rel_tourney_games  age_diff  p2_home  none_home  \\\n",
       "13005         0.004406           0.000408  0.471819        0          1   \n",
       "38678        -2.890145           0.000408 -0.277343        0          1   \n",
       "62320        -0.062909          -2.326092  1.973712        0          1   \n",
       "63574         0.509270           0.410967 -0.926617        0          1   \n",
       "61359         0.004406           0.000408  0.764350        0          1   \n",
       "...                ...                ...       ...      ...        ...   \n",
       "6283         -0.332169           0.274114 -0.223831        0          1   \n",
       "55010        -0.163882           0.000408 -1.782803        0          1   \n",
       "76963         1.418024           0.000408 -0.644789        0          1   \n",
       "863          -0.433142           0.000408  1.279845        0          1   \n",
       "15833         1.754600           1.779497  1.515296        0          1   \n",
       "\n",
       "       p1_home  \n",
       "13005        0  \n",
       "38678        0  \n",
       "62320        0  \n",
       "63574        0  \n",
       "61359        0  \n",
       "...        ...  \n",
       "6283         0  \n",
       "55010        0  \n",
       "76963        0  \n",
       "863          0  \n",
       "15833        0  \n",
       "\n",
       "[61261 rows x 14 columns]"
      ]
     },
     "metadata": {},
     "output_type": "display_data"
    }
   ],
   "source": [
    "X_train_full, y_train_full = (data\n",
    "    .pipe(extract_train_data, test_date_begin)\n",
    "    .pipe(one_hot_encode)\n",
    "    .pipe(prune_columns))\n",
    "\n",
    "# Split into validation and training part\n",
    "X_train, X_val, y_train, y_val = train_test_split(X_train_full, y_train_full, test_size=0.33, random_state=42)\n",
    "\n",
    "display(X_train)"
   ]
  },
  {
   "cell_type": "markdown",
   "metadata": {
    "pycharm": {
     "name": "#%% md\n"
    }
   },
   "source": [
    "## Correlation heatmap of all features\n",
    "\n",
    "This shows a high correlation between some of the features (which is naturual). Find out which to remove by checking the feature importance in the next steps."
   ]
  },
  {
   "cell_type": "code",
   "execution_count": 6,
   "metadata": {
    "pycharm": {
     "is_executing": false,
     "name": "#%%\n"
    }
   },
   "outputs": [
    {
     "data": {
      "image/png": "[encoded data removed]",
      "text/plain": [
       "<Figure size 432x288 with 2 Axes>"
      ]
     },
     "metadata": {},
     "output_type": "display_data"
    }
   ],
   "source": [
    "X_train_heat = X_train.drop(['p2_home', 'none_home', 'p1_home'], axis=1)\n",
    "sns.heatmap(X_train_heat.corr(), annot=True, fmt='.1f')\n",
    "plt.show()"
   ]
  },
  {
   "cell_type": "markdown",
   "metadata": {
    "pycharm": {
     "name": "#%% md\n"
    }
   },
   "source": [
    "## Feature importance by RandomForest\n",
    "Which features help split our tree in the best way possible, i.e. how does each feature affect the accuracy of our model?"
   ]
  },
  {
   "cell_type": "code",
   "execution_count": 11,
   "metadata": {
    "pycharm": {
     "is_executing": false,
     "name": "#%%\n"
    }
   },
   "outputs": [
    {
     "data": {
      "image/png": "[encoded data removed]",
      "text/plain": [
       "<Figure size 432x288 with 1 Axes>"
      ]
     },
     "metadata": {},
     "output_type": "display_data"
    }
   ],
   "source": [
    "rf_model = RandomForestClassifier(max_depth=rf_max_depth, n_estimators=rf_estimators)\n",
    "rf_model.fit(X_train, y_train)\n",
    "plot_rf_feat_imp(rf_model.feature_importances_, X_train.columns)"
   ]
  },
  {
   "cell_type": "markdown",
   "metadata": {
    "pycharm": {
     "name": "#%% md\n"
    }
   },
   "source": [
    "## Recursive feature elimination by RandomForest\n",
    "Prunes the results from previous sections by selecting the 4 most important features. A ranking of 1 means the algorithm suggests the feature. Results correspond to plot above."
   ]
  },
  {
   "cell_type": "code",
   "execution_count": 85,
   "metadata": {
    "pycharm": {
     "is_executing": false,
     "name": "#%%\n"
    },
    "scrolled": true
   },
   "outputs": [
    {
     "data": {
      "text/html": [
       "<div>\n",
       "<style scoped>\n",
       "    .dataframe tbody tr th:only-of-type {\n",
       "        vertical-align: middle;\n",
       "    }\n",
       "\n",
       "    .dataframe tbody tr th {\n",
       "        vertical-align: top;\n",
       "    }\n",
       "\n",
       "    .dataframe thead th {\n",
       "        text-align: right;\n",
       "    }\n",
       "</style>\n",
       "<table border=\"1\" class=\"dataframe\">\n",
       "  <thead>\n",
       "    <tr style=\"text-align: right;\">\n",
       "      <th></th>\n",
       "      <th>Ranking</th>\n",
       "    </tr>\n",
       "    <tr>\n",
       "      <th>Feature</th>\n",
       "      <th></th>\n",
       "    </tr>\n",
       "  </thead>\n",
       "  <tbody>\n",
       "    <tr>\n",
       "      <td>rel_surface_wins</td>\n",
       "      <td>1</td>\n",
       "    </tr>\n",
       "    <tr>\n",
       "      <td>rank_diff</td>\n",
       "      <td>1</td>\n",
       "    </tr>\n",
       "    <tr>\n",
       "      <td>points_grad_diff</td>\n",
       "      <td>1</td>\n",
       "    </tr>\n",
       "    <tr>\n",
       "      <td>rel_tourney_games</td>\n",
       "      <td>1</td>\n",
       "    </tr>\n",
       "    <tr>\n",
       "      <td>rel_total_wins</td>\n",
       "      <td>2</td>\n",
       "    </tr>\n",
       "    <tr>\n",
       "      <td>rel_climate_wins</td>\n",
       "      <td>3</td>\n",
       "    </tr>\n",
       "    <tr>\n",
       "      <td>rel_recent_wins</td>\n",
       "      <td>4</td>\n",
       "    </tr>\n",
       "    <tr>\n",
       "      <td>age_diff</td>\n",
       "      <td>5</td>\n",
       "    </tr>\n",
       "    <tr>\n",
       "      <td>mutual_games</td>\n",
       "      <td>6</td>\n",
       "    </tr>\n",
       "    <tr>\n",
       "      <td>mutual_wins</td>\n",
       "      <td>7</td>\n",
       "    </tr>\n",
       "    <tr>\n",
       "      <td>mutual_surface_wins</td>\n",
       "      <td>8</td>\n",
       "    </tr>\n",
       "    <tr>\n",
       "      <td>p1_home</td>\n",
       "      <td>9</td>\n",
       "    </tr>\n",
       "    <tr>\n",
       "      <td>p2_home</td>\n",
       "      <td>10</td>\n",
       "    </tr>\n",
       "    <tr>\n",
       "      <td>none_home</td>\n",
       "      <td>11</td>\n",
       "    </tr>\n",
       "  </tbody>\n",
       "</table>\n",
       "</div>"
      ],
      "text/plain": [
       "                     Ranking\n",
       "Feature                     \n",
       "rel_surface_wins           1\n",
       "rank_diff                  1\n",
       "points_grad_diff           1\n",
       "rel_tourney_games          1\n",
       "rel_total_wins             2\n",
       "rel_climate_wins           3\n",
       "rel_recent_wins            4\n",
       "age_diff                   5\n",
       "mutual_games               6\n",
       "mutual_wins                7\n",
       "mutual_surface_wins        8\n",
       "p1_home                    9\n",
       "p2_home                   10\n",
       "none_home                 11"
      ]
     },
     "metadata": {},
     "output_type": "display_data"
    },
    {
     "name": "stdout",
     "output_type": "stream",
     "text": [
      "Number of features selected: 4\n"
     ]
    }
   ],
   "source": [
    "rfe_model = RandomForestClassifier(max_depth=rf_max_depth, n_estimators=rf_estimators)\n",
    "rfe_model = RFE(rfe_model, n_features_to_select=4)  # selects 4 of the features\n",
    "rfe_model.fit(X_train, y_train)\n",
    "\n",
    "rankings = rfe_model.ranking_\n",
    "idx = np.argsort(rankings)\n",
    "rankings = rankings[idx]\n",
    "columns = X_train.columns[idx]\n",
    "\n",
    "rfe_results = pd.DataFrame(rankings, index=columns, columns=['Ranking'])\n",
    "rfe_results.index.name = 'Feature'\n",
    "display(rfe_results)\n",
    "\n",
    "print(f\"Number of features selected: {rfe_model.n_features_}\")"
   ]
  },
  {
   "cell_type": "markdown",
   "metadata": {},
   "source": [
    "## Feature importance by logistic regression\n",
    "\n",
    "Below mostly confirms 7 most important features from RF model but with different significances with the exception that mutual_games is swapt for rel_recent_matches. Note that all columns are already standardized except for the p1_home, p2_home and none_home."
   ]
  },
  {
   "cell_type": "code",
   "execution_count": 12,
   "metadata": {},
   "outputs": [
    {
     "data": {
      "image/png": "[encoded data removed]",
      "text/plain": [
       "<Figure size 432x288 with 1 Axes>"
      ]
     },
     "metadata": {},
     "output_type": "display_data"
    }
   ],
   "source": [
    "lr_model = LogisticRegression(solver=lr_solver)\n",
    "lr_model.fit(X_train, y_train)    \n",
    "plot_lr_feat_sign(X_train, lr_model.coef_[0])"
   ]
  },
  {
   "cell_type": "markdown",
   "metadata": {},
   "source": [
    "## Prune correlated and poorly significant features for both models\n",
    "\n",
    "Keep the most significant features but remove any the highly correlated features that are less significant: rel_total_wins, rel_climate_wins. "
   ]
  },
  {
   "cell_type": "code",
   "execution_count": 9,
   "metadata": {},
   "outputs": [
    {
     "data": {
      "image/png": "[encoded data removed]",
      "text/plain": [
       "<Figure size 432x288 with 2 Axes>"
      ]
     },
     "metadata": {},
     "output_type": "display_data"
    },
    {
     "name": "stdout",
     "output_type": "stream",
     "text": [
      "Feature importance for Final RF Model\n"
     ]
    },
    {
     "data": {
      "image/png": "[encoded data removed]",
      "text/plain": [
       "<Figure size 432x288 with 1 Axes>"
      ]
     },
     "metadata": {},
     "output_type": "display_data"
    },
    {
     "name": "stdout",
     "output_type": "stream",
     "text": [
      "Feature importance for Final LogReg Model\n"
     ]
    },
    {
     "data": {
      "image/png": "[encoded data removed]",
      "text/plain": [
       "<Figure size 432x288 with 1 Axes>"
      ]
     },
     "metadata": {},
     "output_type": "display_data"
    }
   ],
   "source": [
    "final_columns = ['rel_surface_wins', 'rank_diff', 'points_grad_diff', 'rel_tourney_games']\n",
    "X_train_final = X_train.filter(final_columns)\n",
    "\n",
    "# Check new correlation plot\n",
    "sns.heatmap(X_train_final.corr(), annot=True, fmt='.1f')\n",
    "plt.show()\n",
    "\n",
    "rf_model_final = RandomForestClassifier(max_depth=rf_max_depth, n_estimators=rf_estimators)\n",
    "rf_model_final.fit(X_train_final, y_train)\n",
    "\n",
    "lr_model_final = LogisticRegression(solver=lr_solver)\n",
    "lr_model_final.fit(X_train_final, y_train)\n",
    "\n",
    "# Check new feature importances and significance\n",
    "print('Feature importance for Final RF Model')\n",
    "plot_rf_feat_imp(rf_model_final.feature_importances_, X_train_final.columns)\n",
    "\n",
    "print('Feature importance for Final LogReg Model')\n",
    "plot_lr_feat_sign(X_train_final, lr_model_final.coef_[0])"
   ]
  },
  {
   "cell_type": "markdown",
   "metadata": {},
   "source": [
    "## Check classification reports given different features\n",
    "\n",
    "As one can see below, no performance on static validation set is lossed for any of the two algorithms. Thus since confirmed by two models, for the model selection part, even though different models may like different features, the final_column features are the ones that will be used to test different models. Also, no difference in metrics can be seen which is naturual since our data set is exactly balanced."
   ]
  },
  {
   "cell_type": "code",
   "execution_count": 13,
   "metadata": {},
   "outputs": [
    {
     "name": "stdout",
     "output_type": "stream",
     "text": [
      "Full RandomForest model:\n",
      "              precision    recall  f1-score   support\n",
      "\n",
      "        -1.0       0.73      0.73      0.73     15101\n",
      "         1.0       0.73      0.73      0.73     15073\n",
      "\n",
      "    accuracy                           0.73     30174\n",
      "   macro avg       0.73      0.73      0.73     30174\n",
      "weighted avg       0.73      0.73      0.73     30174\n",
      "\n",
      "Final RandomForest model:\n",
      "              precision    recall  f1-score   support\n",
      "\n",
      "        -1.0       0.73      0.74      0.73     15101\n",
      "         1.0       0.73      0.72      0.73     15073\n",
      "\n",
      "    accuracy                           0.73     30174\n",
      "   macro avg       0.73      0.73      0.73     30174\n",
      "weighted avg       0.73      0.73      0.73     30174\n",
      "\n",
      "Full LogReg model:\n",
      "              precision    recall  f1-score   support\n",
      "\n",
      "        -1.0       0.72      0.72      0.72     15101\n",
      "         1.0       0.72      0.73      0.72     15073\n",
      "\n",
      "    accuracy                           0.72     30174\n",
      "   macro avg       0.72      0.72      0.72     30174\n",
      "weighted avg       0.72      0.72      0.72     30174\n",
      "\n",
      "Final LogReg model:\n",
      "              precision    recall  f1-score   support\n",
      "\n",
      "        -1.0       0.72      0.72      0.72     15101\n",
      "         1.0       0.72      0.73      0.72     15073\n",
      "\n",
      "    accuracy                           0.72     30174\n",
      "   macro avg       0.72      0.72      0.72     30174\n",
      "weighted avg       0.72      0.72      0.72     30174\n",
      "\n"
     ]
    }
   ],
   "source": [
    "X_val_final = X_val.filter(final_columns)\n",
    "\n",
    "print('Full RandomForest model:')\n",
    "print(classification_report(y_val, rf_model.predict(X_val)))\n",
    "\n",
    "print('Final RandomForest model:')\n",
    "print(classification_report(y_val, rf_model_final.predict(X_val_final)))\n",
    "\n",
    "print('Full LogReg model:')\n",
    "print(classification_report(y_val, lr_model.predict(X_val)))\n",
    "\n",
    "print('Final LogReg model:')\n",
    "print(classification_report(y_val, lr_model_final.predict(X_val_final)))"
   ]
  },
  {
   "cell_type": "markdown",
   "metadata": {},
   "source": [
    "# 2. Model Selection\n",
    "\n",
    "This part is dedicated to hyper parameter tuning and model selection. Cross validation will be used to commpare the models but not to tune the hyperparameters, since too time consuming."
   ]
  },
  {
   "cell_type": "code",
   "execution_count": 24,
   "metadata": {},
   "outputs": [],
   "source": [
    "no_folds = 10  # number of folds\n",
    "X_train_final_full = X_train_full.filter(final_columns)"
   ]
  },
  {
   "cell_type": "markdown",
   "metadata": {},
   "source": [
    "## Logistic Regression\n",
    "\n",
    "### Calibration\n",
    "Calibration of hyperparameter C which is the inverse of regularization strength."
   ]
  },
  {
   "cell_type": "code",
   "execution_count": 23,
   "metadata": {},
   "outputs": [
    {
     "data": {
      "image/png": "[encoded data removed]",
      "text/plain": [
       "<Figure size 432x288 with 1 Axes>"
      ]
     },
     "metadata": {},
     "output_type": "display_data"
    },
    {
     "name": "stdout",
     "output_type": "stream",
     "text": [
      "Best C: 0.09 with accuracy: 0.7212500828527871\n"
     ]
    }
   ],
   "source": [
    "accuracies = []\n",
    "hyperparams = list(np.arange(0.01, 1, 0.01))\n",
    "best_acc = 0\n",
    "best_c = 0\n",
    "\n",
    "for c in hyperparams:\n",
    "    lr_model_cal = LogisticRegression(solver=lr_solver, C=c)\n",
    "    lr_model_cal.fit(X_train_final, y_train)\n",
    "    predictions = lr_model_cal.predict(X_val_final)\n",
    "    acc = accuracy_score(y_val, predictions)\n",
    "    \n",
    "    if acc > best_acc:\n",
    "        best_acc = acc\n",
    "        best_c = c\n",
    "    \n",
    "    accuracies.append(acc)\n",
    "\n",
    "plot_hyperparam(accuracies, hyperparams)\n",
    "\n",
    "print(f\"Best C: {best_c} with accuracy: {best_acc}\")"
   ]
  },
  {
   "cell_type": "markdown",
   "metadata": {},
   "source": [
    "### Cross validation score"
   ]
  },
  {
   "cell_type": "code",
   "execution_count": 27,
   "metadata": {},
   "outputs": [
    {
     "name": "stdout",
     "output_type": "stream",
     "text": [
      "Logistic Regression accuracy: 0.721 (+/- 0.015)\n"
     ]
    }
   ],
   "source": [
    "optimal_c = 0.09\n",
    "lr_model_final = LogisticRegression(solver=lr_solver, C=optimal_c)\n",
    "lr_scores = cross_val_score(lr_model_final, X_train_final_full, y_train_full, cv=no_folds)\n",
    "print(\"Logistic Regression accuracy: %0.3f (+/- %0.3f)\" % (lr_scores.mean(), lr_scores.std() * 2))"
   ]
  },
  {
   "cell_type": "markdown",
   "metadata": {},
   "source": [
    "## Random Forest\n",
    "\n",
    "### Calibration\n",
    "\n",
    "Calibration of max tree depth"
   ]
  },
  {
   "cell_type": "code",
   "execution_count": 29,
   "metadata": {},
   "outputs": [
    {
     "data": {
      "image/png": "[encoded data removed]",
      "text/plain": [
       "<Figure size 432x288 with 1 Axes>"
      ]
     },
     "metadata": {},
     "output_type": "display_data"
    },
    {
     "name": "stdout",
     "output_type": "stream",
     "text": [
      "Best max_depth: 7 with accuracy: 0.7309604295088487\n"
     ]
    }
   ],
   "source": [
    "accuracies = []\n",
    "hyperparams = list(np.arange(1, 20, 1))\n",
    "best_acc = 0\n",
    "best_depth = 0\n",
    "\n",
    "for max_depth in hyperparams:\n",
    "    rf_model_cal = RandomForestClassifier(max_depth=max_depth, n_estimators=rf_estimators)\n",
    "    rf_model_cal.fit(X_train_final, y_train)\n",
    "    predictions = rf_model_cal.predict(X_val_final)\n",
    "    acc = accuracy_score(y_val, predictions)\n",
    "    \n",
    "    if acc > best_acc:\n",
    "        best_acc = acc\n",
    "        best_depth = max_depth\n",
    "    \n",
    "    accuracies.append(acc)\n",
    "\n",
    "plot_hyperparam(accuracies, hyperparams)\n",
    "\n",
    "print(f\"Best max_depth: {best_depth} with accuracy: {best_acc}\")"
   ]
  },
  {
   "cell_type": "markdown",
   "metadata": {},
   "source": [
    "### Cross validation score"
   ]
  },
  {
   "cell_type": "code",
   "execution_count": 30,
   "metadata": {},
   "outputs": [
    {
     "name": "stdout",
     "output_type": "stream",
     "text": [
      "Logistic Regression accuracy: 0.730 (+/- 0.016)\n"
     ]
    }
   ],
   "source": [
    "optimal_max_depth = 7\n",
    "rf_model_final = RandomForestClassifier(max_depth=optimal_max_depth, n_estimators=rf_estimators)\n",
    "rf_scores = cross_val_score(rf_model_final, X_train_final_full, y_train_full, cv=no_folds)\n",
    "print(\"Random Forest accuracy: %0.3f (+/- %0.3f)\" % (rf_scores.mean(), rf_scores.std() * 2))"
   ]
  },
  {
   "cell_type": "markdown",
   "metadata": {},
   "source": [
    "## k-Neighbours\n",
    "\n",
    "### Calibration of number of neighbors with uniform weighting"
   ]
  },
  {
   "cell_type": "code",
   "execution_count": 43,
   "metadata": {},
   "outputs": [
    {
     "data": {
      "image/png": "[encoded data removed]",
      "text/plain": [
       "<Figure size 432x288 with 1 Axes>"
      ]
     },
     "metadata": {},
     "output_type": "display_data"
    },
    {
     "name": "stdout",
     "output_type": "stream",
     "text": [
      "Best factor: 0.5 (base k: 247.50959577357804) with accuracy: 0.7238350898124213\n"
     ]
    }
   ],
   "source": [
    "base_k = len(X_train_final) ** 0.5\n",
    "accuracies = []\n",
    "hyperparams = list(np.arange(0.1, 4, 0.4))\n",
    "best_acc = 0\n",
    "best_factor = 0\n",
    "\n",
    "for factor in hyperparams:\n",
    "    k = int(round(base_k * factor))\n",
    "    knn_model = KNeighborsClassifier(n_neighbors=k, weights='uniform')\n",
    "    knn_model.fit(X_train_final, y_train)\n",
    "    predictions = knn_model.predict(X_val_final)\n",
    "    acc = accuracy_score(y_val, predictions)\n",
    "    \n",
    "    if acc > best_acc:\n",
    "        best_acc = acc\n",
    "        best_factor = factor\n",
    "    \n",
    "    accuracies.append(acc)\n",
    "\n",
    "plot_hyperparam(accuracies, hyperparams)\n",
    "\n",
    "print(f\"Best factor: {best_factor} (base k: {base_k}) with accuracy: {best_acc}\")"
   ]
  },
  {
   "cell_type": "markdown",
   "metadata": {},
   "source": [
    "### Calibration of number of neighbors with uniform weighting"
   ]
  },
  {
   "cell_type": "code",
   "execution_count": 44,
   "metadata": {},
   "outputs": [
    {
     "data": {
      "image/png": "[encoded data removed]",
      "text/plain": [
       "<Figure size 432x288 with 1 Axes>"
      ]
     },
     "metadata": {},
     "output_type": "display_data"
    },
    {
     "name": "stdout",
     "output_type": "stream",
     "text": [
      "Best factor: 2.5000000000000004 (base k: 247.50959577357804) with accuracy: 0.7237688075826871\n"
     ]
    }
   ],
   "source": [
    "base_k = len(X_train_final) ** 0.5\n",
    "accuracies = []\n",
    "hyperparams = list(np.arange(0.1, 4, 0.4))\n",
    "best_acc = 0\n",
    "best_factor = 0\n",
    "\n",
    "for factor in hyperparams:\n",
    "    k = int(round(base_k * factor))\n",
    "    knn_model = KNeighborsClassifier(n_neighbors=k, weights='distance')\n",
    "    knn_model.fit(X_train_final, y_train)\n",
    "    predictions = knn_model.predict(X_val_final)\n",
    "    acc = accuracy_score(y_val, predictions)\n",
    "    \n",
    "    if acc > best_acc:\n",
    "        best_acc = acc\n",
    "        best_factor = factor\n",
    "    \n",
    "    accuracies.append(acc)\n",
    "\n",
    "plot_hyperparam(accuracies, hyperparams)\n",
    "\n",
    "print(f\"Best factor: {best_factor} (base k: {base_k}) with accuracy: {best_acc}\")"
   ]
  },
  {
   "cell_type": "markdown",
   "metadata": {},
   "source": [
    "### Cross validation score"
   ]
  },
  {
   "cell_type": "code",
   "execution_count": null,
   "metadata": {},
   "outputs": [],
   "source": [
    "optimal_factor = 0.5\n",
    "optimal_k = int(round(len(X_train_final) ** 0.5 * optimal_factor))\n",
    "optimal_weight_func = 'uniform'\n",
    "\n",
    "knn_model_final = KNeighborsClassifier(n_neighbors=optimal_k, weights=optimal_weight_func)\n",
    "knn_scores = cross_val_score(knn_model_final, X_train_final_full, y_train_full, cv=no_folds)\n",
    "print(\"kNN accuracy: %0.3f (+/- %0.3f)\" % (knn_scores.mean(), knn_scores.std() * 2))"
   ]
  },
  {
   "cell_type": "markdown",
   "metadata": {
    "pycharm": {
     "name": "#%% md\n"
    }
   },
   "source": [
    "## Performance on ATP main matches\n",
    "Same matches as being tested, ATP 250, 500 and 1000"
   ]
  },
  {
   "cell_type": "code",
   "execution_count": 33,
   "metadata": {
    "collapsed": false,
    "jupyter": {
     "outputs_hidden": false
    },
    "pycharm": {
     "is_executing": false,
     "name": "#%%\n"
    }
   },
   "outputs": [
    {
     "name": "stderr",
     "output_type": "stream",
     "text": [
      "/Users/Jon/opt/anaconda3/lib/python3.7/site-packages/sklearn/ensemble/forest.py:245: FutureWarning: The default value of n_estimators will change from 10 in version 0.20 to 100 in 0.22.\n",
      "  \"10 in version 0.20 to 100 in 0.22.\", FutureWarning)\n"
     ]
    },
    {
     "name": "stdout",
     "output_type": "stream",
     "text": [
      "Index(['rel_total_wins', 'rel_surface_wins', 'rank_diff', 'points_grad_diff',\n",
      "       'rel_climate_wins', 'rel_recent_wins', 'rel_tourney_games', 'age_diff'],\n",
      "      dtype='object')\n",
      "              precision    recall  f1-score   support\n",
      "\n",
      "        -1.0       0.66      0.66      0.66      1299\n",
      "         1.0       0.67      0.67      0.67      1362\n",
      "\n",
      "    accuracy                           0.66      2661\n",
      "   macro avg       0.66      0.66      0.66      2661\n",
      "weighted avg       0.66      0.66      0.66      2661\n",
      "\n"
     ]
    }
   ],
   "source": [
    "tourneys = [2,3]\n",
    "\n",
    "drop_cols = ['outcome', 'tourney_date', 'player_1', 'player_2', 'p1_home', 'p2_home', 'none_home', 'surface', 'mutual_surface_wins', 'mutual_games', 'mutual_wins']\n",
    "y_train = data_train.outcome\n",
    "X_train = data_train.drop(drop_cols, axis=1)\n",
    "\n",
    "X_train, X_val, y_train, y_val = train_test_split(X_train, y_train, test_size=0.33, random_state=42)\n",
    "\n",
    "X_val = X_val.join(y_val)\n",
    "data_mask = (X_val.tourney_level.isin(tourneys))\n",
    "X_val = X_val.loc[data_mask]\n",
    "y_val = X_val.outcome\n",
    "X_val.drop(['outcome', 'tourney_level'], inplace=True, axis=1)\n",
    "\n",
    "X_train.drop('tourney_level', inplace=True, axis=1)\n",
    "\n",
    "model = RandomForestClassifier(max_depth=10)\n",
    "model.fit(X_train, y_train)\n",
    "\n",
    "print(X_train.columns)\n",
    "\n",
    "full_val_pred = model.predict(X_val)\n",
    "class_report_full = classification_report(y_val, full_val_pred)\n",
    "print(class_report_full)"
   ]
  },
  {
   "cell_type": "markdown",
   "metadata": {
    "pycharm": {
     "name": "#%% md\n"
    }
   },
   "source": [
    "## Accuracy increase over time?\n",
    "i.e. should we generate more statistics?"
   ]
  },
  {
   "cell_type": "code",
   "execution_count": 30,
   "metadata": {
    "collapsed": false,
    "jupyter": {
     "outputs_hidden": false
    },
    "pycharm": {
     "is_executing": false,
     "name": "#%%\n"
    }
   },
   "outputs": [
    {
     "name": "stderr",
     "output_type": "stream",
     "text": [
      "/Users/Jon/opt/anaconda3/lib/python3.7/site-packages/sklearn/ensemble/forest.py:245: FutureWarning: The default value of n_estimators will change from 10 in version 0.20 to 100 in 0.22.\n",
      "  \"10 in version 0.20 to 100 in 0.22.\", FutureWarning)\n"
     ]
    },
    {
     "name": "stdout",
     "output_type": "stream",
     "text": [
      "              precision    recall  f1-score   support\n",
      "\n",
      "        -1.0       0.73      0.72      0.73      7322\n",
      "         1.0       0.73      0.74      0.74      7488\n",
      "\n",
      "    accuracy                           0.73     14810\n",
      "   macro avg       0.73      0.73      0.73     14810\n",
      "weighted avg       0.73      0.73      0.73     14810\n",
      "\n"
     ]
    },
    {
     "name": "stderr",
     "output_type": "stream",
     "text": [
      "/Users/Jon/opt/anaconda3/lib/python3.7/site-packages/sklearn/ensemble/forest.py:245: FutureWarning: The default value of n_estimators will change from 10 in version 0.20 to 100 in 0.22.\n",
      "  \"10 in version 0.20 to 100 in 0.22.\", FutureWarning)\n"
     ]
    },
    {
     "name": "stdout",
     "output_type": "stream",
     "text": [
      "              precision    recall  f1-score   support\n",
      "\n",
      "        -1.0       0.73      0.72      0.72      7810\n",
      "         1.0       0.71      0.72      0.72      7555\n",
      "\n",
      "    accuracy                           0.72     15365\n",
      "   macro avg       0.72      0.72      0.72     15365\n",
      "weighted avg       0.72      0.72      0.72     15365\n",
      "\n"
     ]
    }
   ],
   "source": [
    "drop_cols = ['outcome', 'tourney_date', 'player_1', 'player_2', 'p1_home', 'p2_home', 'none_home', 'surface', 'mutual_surface_wins', 'mutual_games', 'tourney_level', 'mutual_wins']\n",
    "\n",
    "# 2017-06-15\n",
    "train_eval_split_low = 1497484800\n",
    "train_eval_split_high = 1497484800\n",
    "\n",
    "data_train_pre = data_train.loc[data_train.tourney_date < train_eval_split_low]\n",
    "data_train_post = data_train.loc[data_train.tourney_date >= train_eval_split_high]\n",
    "\n",
    "y_train_pre = data_train_pre.outcome\n",
    "X_train_pre = data_train_pre.drop(drop_cols, axis=1)\n",
    "\n",
    "y_train_post = data_train_post.outcome\n",
    "X_train_post = data_train_post.drop(drop_cols, axis=1)\n",
    "\n",
    "X_train_pre, X_val_pre, y_train_pre, y_val_pre = train_test_split(X_train_pre, y_train_pre, test_size=0.33, random_state=42)\n",
    "X_train_post, X_val_post, y_train_post, y_val_post = train_test_split(X_train_post, y_train_post, test_size=0.33, random_state=42)\n",
    "\n",
    "model_pre = RandomForestClassifier(max_depth=10)\n",
    "model_pre.fit(X_train_pre, y_train_pre)\n",
    "\n",
    "val_pred_pre = model_pre.predict(X_val_pre)\n",
    "class_report_pre = classification_report(y_val_pre, val_pred_pre)\n",
    "print(class_report_pre)\n",
    "\n",
    "model_post = RandomForestClassifier(max_depth=10)\n",
    "model_post.fit(X_train_post, y_train_post)\n",
    "\n",
    "val_pred_post = model_post.predict(X_val_post)\n",
    "class_report_post = classification_report(y_val_post, val_pred_post)\n",
    "print(class_report_post)"
   ]
  }
 ],
 "metadata": {
  "kernelspec": {
   "display_name": "Python 3",
   "language": "python",
   "name": "python3"
  },
  "language_info": {
   "codemirror_mode": {
    "name": "ipython",
    "version": 3
   },
   "file_extension": ".py",
   "mimetype": "text/x-python",
   "name": "python",
   "nbconvert_exporter": "python",
   "pygments_lexer": "ipython3",
   "version": "3.7.4"
  },
  "pycharm": {
   "stem_cell": {
    "cell_type": "raw",
    "metadata": {
     "collapsed": false
    },
    "source": []
   }
  }
 },
 "nbformat": 4,
 "nbformat_minor": 4
}
