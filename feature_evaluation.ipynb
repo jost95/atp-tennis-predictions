{
 "cells": [
  {
   "cell_type": "markdown",
   "metadata": {},
   "source": [
    "# Feature evaluation\n",
    "This notebook explores the engeineered features.\n",
    "\n",
    "## Load dependencies"
   ]
  },
  {
   "cell_type": "code",
   "execution_count": 3,
   "metadata": {
    "pycharm": {
     "is_executing": false,
     "name": "#%%\n"
    }
   },
   "outputs": [],
   "source": [
    "import os\n",
    "import json\n",
    "import pandas as pd\n",
    "import seaborn as sns\n",
    "import matplotlib.pyplot as plt\n",
    "from IPython.core.display import display\n",
    "\n",
    "from sklearn.ensemble import RandomForestClassifier\n",
    "from sklearn.feature_selection import RFE\n",
    "from sklearn.metrics import classification_report\n",
    "from sklearn.model_selection import train_test_split\n",
    "\n",
    "from definitions import GEN_PATH, ROOT_DIR\n",
    "\n",
    "sns.set_context('notebook')\n",
    "sns.set_style('white')"
   ]
  },
  {
   "cell_type": "markdown",
   "metadata": {
    "pycharm": {
     "name": "#%% md\n"
    }
   },
   "source": [
    "## Load processed data"
   ]
  },
  {
   "cell_type": "code",
   "execution_count": 4,
   "metadata": {
    "pycharm": {
     "is_executing": false,
     "name": "#%%\n"
    }
   },
   "outputs": [],
   "source": [
    "# Read configuration file\n",
    "with open(os.path.join(ROOT_DIR, 'config.json')) as f:\n",
    "    config = json.load(f)\n",
    "\n",
    "proc_match_filepath = os.path.join(GEN_PATH, config['proc_match_filename'])\n",
    "\n",
    "# Read data\n",
    "data = pd.read_hdf(proc_match_filepath, key='matches')"
   ]
  },
  {
   "cell_type": "markdown",
   "metadata": {
    "pycharm": {
     "name": "#%% md\n"
    }
   },
   "source": [
    "## Extract training and validation data\n",
    "Test data should not be used, even in, feature evaluation."
   ]
  },
  {
   "cell_type": "code",
   "execution_count": 5,
   "metadata": {
    "pycharm": {
     "is_executing": false,
     "name": "#%%\n"
    }
   },
   "outputs": [],
   "source": [
    "# Split data set into train and test\n",
    "# Start of 2019 season in unix time, 2018-12-31 00:00:00 UTC\n",
    "test_date_begin = 1546214400\n",
    "\n",
    "# Testing will be done on 2019 matches\n",
    "data_train = data.loc[data.tourney_date < test_date_begin]\n",
    "data_train = pd.get_dummies(data_train, columns=['home_advantage'])\n",
    "\n",
    "renames = {\n",
    "    'home_advantage_-1': 'p2_home',\n",
    "    'home_advantage_0': 'none_home',\n",
    "    'home_advantage_1': 'p1_home',\n",
    "}\n",
    "\n",
    "data_train.rename(columns=renames, inplace=True)"
   ]
  },
  {
   "cell_type": "markdown",
   "source": [
    "## OPTIONAL: Removing low level matches\n",
    "Testing to remove low level matches to see if different\n",
    "is present for tour level matches. This means train and evaluate \n",
    "on only tour matches"
   ],
   "metadata": {
    "collapsed": false
   }
  },
  {
   "cell_type": "code",
   "execution_count": 40,
   "outputs": [],
   "source": [
    "tourneys = [2,3,5,6]\n",
    "data_mask = (data_train.tourney_level.isin(tourneys))\n",
    "data_train = data_train.loc[data_mask]"
   ],
   "metadata": {
    "collapsed": false,
    "pycharm": {
     "name": "#%%\n",
     "is_executing": false
    }
   }
  },
  {
   "cell_type": "markdown",
   "source": [
    "## Split data set into validation and training part"
   ],
   "metadata": {
    "collapsed": false,
    "pycharm": {
     "name": "#%% md\n"
    }
   }
  },
  {
   "cell_type": "code",
   "execution_count": 12,
   "outputs": [
    {
     "data": {
      "text/plain": "        rel_total_wins  rel_surface_wins  mutual_wins  mutual_surface_wins  \\\n53769         1.183027          1.917013    -0.000355            -0.000216   \n115300       -1.453717         -1.339051    -0.000355            -0.000216   \n116221       -0.162251          0.088265    -0.000355            -0.000216   \n66096        -0.969417         -0.536186    -0.000355            -0.000216   \n95068         0.644916         -0.134753    -0.000355            -0.000216   \n...                ...               ...          ...                  ...   \n119879        0.860160          0.088265    -0.000355            -0.000216   \n103694       -1.399906         -0.669996    -0.000355            -0.000216   \n860          -0.969417         -1.740483    -0.000355            -0.000216   \n15795         1.667327          0.222076    -0.000355            -0.000216   \n121958       -1.884206         -1.562069    -0.000355            -0.000216   \n\n        mutual_games  rank_diff  points_grad_diff  rel_climate_wins  \\\n53769       0.000682  -1.809413          0.043623          1.524548   \n115300      0.000682   2.100724         -0.024018         -1.341954   \n116221      0.000682  -0.037138          0.003298         -0.278574   \n66096       0.000682  -0.004040          0.000697          1.755718   \n95068       0.000682  -0.966905          0.281669          1.062209   \n...              ...        ...               ...               ...   \n119879      0.000682  -1.857556          0.202320          0.461168   \n103694      0.000682   0.778289         -0.012311          0.137531   \n860         0.000682   0.089238         -0.120277         -1.388188   \n15795       0.000682  -1.836493          0.086549          1.848186   \n121958      0.000682   2.543041         -0.068246         -1.665592   \n\n        rel_recent_wins  rel_tourney_games  p2_home  none_home  p1_home  \n53769          1.332776          -0.001289        0          1        0  \n115300        -0.363093          -0.001289        0          0        1  \n116221        -0.363093           1.016201        1          0        0  \n66096          0.833991          -0.001289        0          1        0  \n95068         -0.163579          -0.001289        1          0        0  \n...                 ...                ...      ...        ...      ...  \n119879         0.368458          -0.001289        0          1        0  \n103694         1.332776          -1.745557        0          1        0  \n860           -0.562607          -0.001289        0          1        0  \n15795          2.330346          -0.001289        1          0        0  \n121958        -1.526925          -0.001289        0          0        1  \n\n[82164 rows x 13 columns]",
      "text/html": "<div>\n<style scoped>\n    .dataframe tbody tr th:only-of-type {\n        vertical-align: middle;\n    }\n\n    .dataframe tbody tr th {\n        vertical-align: top;\n    }\n\n    .dataframe thead th {\n        text-align: right;\n    }\n</style>\n<table border=\"1\" class=\"dataframe\">\n  <thead>\n    <tr style=\"text-align: right;\">\n      <th></th>\n      <th>rel_total_wins</th>\n      <th>rel_surface_wins</th>\n      <th>mutual_wins</th>\n      <th>mutual_surface_wins</th>\n      <th>mutual_games</th>\n      <th>rank_diff</th>\n      <th>points_grad_diff</th>\n      <th>rel_climate_wins</th>\n      <th>rel_recent_wins</th>\n      <th>rel_tourney_games</th>\n      <th>p2_home</th>\n      <th>none_home</th>\n      <th>p1_home</th>\n    </tr>\n  </thead>\n  <tbody>\n    <tr>\n      <th>53769</th>\n      <td>1.183027</td>\n      <td>1.917013</td>\n      <td>-0.000355</td>\n      <td>-0.000216</td>\n      <td>0.000682</td>\n      <td>-1.809413</td>\n      <td>0.043623</td>\n      <td>1.524548</td>\n      <td>1.332776</td>\n      <td>-0.001289</td>\n      <td>0</td>\n      <td>1</td>\n      <td>0</td>\n    </tr>\n    <tr>\n      <th>115300</th>\n      <td>-1.453717</td>\n      <td>-1.339051</td>\n      <td>-0.000355</td>\n      <td>-0.000216</td>\n      <td>0.000682</td>\n      <td>2.100724</td>\n      <td>-0.024018</td>\n      <td>-1.341954</td>\n      <td>-0.363093</td>\n      <td>-0.001289</td>\n      <td>0</td>\n      <td>0</td>\n      <td>1</td>\n    </tr>\n    <tr>\n      <th>116221</th>\n      <td>-0.162251</td>\n      <td>0.088265</td>\n      <td>-0.000355</td>\n      <td>-0.000216</td>\n      <td>0.000682</td>\n      <td>-0.037138</td>\n      <td>0.003298</td>\n      <td>-0.278574</td>\n      <td>-0.363093</td>\n      <td>1.016201</td>\n      <td>1</td>\n      <td>0</td>\n      <td>0</td>\n    </tr>\n    <tr>\n      <th>66096</th>\n      <td>-0.969417</td>\n      <td>-0.536186</td>\n      <td>-0.000355</td>\n      <td>-0.000216</td>\n      <td>0.000682</td>\n      <td>-0.004040</td>\n      <td>0.000697</td>\n      <td>1.755718</td>\n      <td>0.833991</td>\n      <td>-0.001289</td>\n      <td>0</td>\n      <td>1</td>\n      <td>0</td>\n    </tr>\n    <tr>\n      <th>95068</th>\n      <td>0.644916</td>\n      <td>-0.134753</td>\n      <td>-0.000355</td>\n      <td>-0.000216</td>\n      <td>0.000682</td>\n      <td>-0.966905</td>\n      <td>0.281669</td>\n      <td>1.062209</td>\n      <td>-0.163579</td>\n      <td>-0.001289</td>\n      <td>1</td>\n      <td>0</td>\n      <td>0</td>\n    </tr>\n    <tr>\n      <th>...</th>\n      <td>...</td>\n      <td>...</td>\n      <td>...</td>\n      <td>...</td>\n      <td>...</td>\n      <td>...</td>\n      <td>...</td>\n      <td>...</td>\n      <td>...</td>\n      <td>...</td>\n      <td>...</td>\n      <td>...</td>\n      <td>...</td>\n    </tr>\n    <tr>\n      <th>119879</th>\n      <td>0.860160</td>\n      <td>0.088265</td>\n      <td>-0.000355</td>\n      <td>-0.000216</td>\n      <td>0.000682</td>\n      <td>-1.857556</td>\n      <td>0.202320</td>\n      <td>0.461168</td>\n      <td>0.368458</td>\n      <td>-0.001289</td>\n      <td>0</td>\n      <td>1</td>\n      <td>0</td>\n    </tr>\n    <tr>\n      <th>103694</th>\n      <td>-1.399906</td>\n      <td>-0.669996</td>\n      <td>-0.000355</td>\n      <td>-0.000216</td>\n      <td>0.000682</td>\n      <td>0.778289</td>\n      <td>-0.012311</td>\n      <td>0.137531</td>\n      <td>1.332776</td>\n      <td>-1.745557</td>\n      <td>0</td>\n      <td>1</td>\n      <td>0</td>\n    </tr>\n    <tr>\n      <th>860</th>\n      <td>-0.969417</td>\n      <td>-1.740483</td>\n      <td>-0.000355</td>\n      <td>-0.000216</td>\n      <td>0.000682</td>\n      <td>0.089238</td>\n      <td>-0.120277</td>\n      <td>-1.388188</td>\n      <td>-0.562607</td>\n      <td>-0.001289</td>\n      <td>0</td>\n      <td>1</td>\n      <td>0</td>\n    </tr>\n    <tr>\n      <th>15795</th>\n      <td>1.667327</td>\n      <td>0.222076</td>\n      <td>-0.000355</td>\n      <td>-0.000216</td>\n      <td>0.000682</td>\n      <td>-1.836493</td>\n      <td>0.086549</td>\n      <td>1.848186</td>\n      <td>2.330346</td>\n      <td>-0.001289</td>\n      <td>1</td>\n      <td>0</td>\n      <td>0</td>\n    </tr>\n    <tr>\n      <th>121958</th>\n      <td>-1.884206</td>\n      <td>-1.562069</td>\n      <td>-0.000355</td>\n      <td>-0.000216</td>\n      <td>0.000682</td>\n      <td>2.543041</td>\n      <td>-0.068246</td>\n      <td>-1.665592</td>\n      <td>-1.526925</td>\n      <td>-0.001289</td>\n      <td>0</td>\n      <td>0</td>\n      <td>1</td>\n    </tr>\n  </tbody>\n</table>\n<p>82164 rows × 13 columns</p>\n</div>"
     },
     "metadata": {},
     "output_type": "display_data"
    }
   ],
   "source": [
    "drop_cols = ['outcome', 'tourney_date', 'tourney_level']\n",
    "y_train = data_train.outcome\n",
    "X_train = data_train.drop(drop_cols, axis=1)\n",
    "\n",
    "X_train, X_val, y_train, y_val = train_test_split(X_train, y_train, test_size=0.33, random_state=42)\n",
    "\n",
    "display(X_train)"
   ],
   "metadata": {
    "collapsed": false,
    "pycharm": {
     "name": "#%%\n",
     "is_executing": false
    }
   }
  },
  {
   "cell_type": "markdown",
   "source": [
    "## OPTIONAL: Remove correlated features"
   ],
   "metadata": {
    "collapsed": false,
    "pycharm": {
     "name": "#%% md\n"
    }
   }
  },
  {
   "cell_type": "code",
   "execution_count": 15,
   "outputs": [],
   "source": [
    "col_remove = ['rel_total_wins', 'mutual_wins', 'mutual_surface_wins', 'rel_climate_wins']\n",
    "X_train.drop(col_remove, inplace=True, axis=1)\n",
    "X_val.drop(col_remove, inplace=True, axis=1)"
   ],
   "metadata": {
    "collapsed": false,
    "pycharm": {
     "name": "#%%\n",
     "is_executing": false
    }
   }
  },
  {
   "cell_type": "markdown",
   "metadata": {
    "pycharm": {
     "name": "#%% md\n"
    }
   },
   "source": [
    "## Correlation heatmap"
   ]
  },
  {
   "cell_type": "code",
   "execution_count": 11,
   "metadata": {
    "pycharm": {
     "is_executing": false,
     "name": "#%%\n"
    }
   },
   "outputs": [
    {
     "data": {
      "text/plain": "<Figure size 432x288 with 2 Axes>",
      "image/png": "[encoded data removed]"
     },
     "metadata": {},
     "output_type": "display_data"
    }
   ],
   "source": [
    "adv = ['p2_home', 'none_home', 'p1_home']\n",
    "X_heat = X_train.drop(adv, axis=1)\n",
    "sns.heatmap(X_heat.corr(), annot=True, fmt='.1f')\n",
    "plt.show()"
   ]
  },
  {
   "cell_type": "markdown",
   "metadata": {
    "pycharm": {
     "name": "#%% md\n"
    }
   },
   "source": [
    "## Feature importance\n",
    "Question being answered: which features help split our tree in the best way possible?\n",
    "How does each feature affect the accuracy of our model?"
   ]
  },
  {
   "cell_type": "code",
   "execution_count": 13,
   "metadata": {
    "pycharm": {
     "is_executing": false,
     "name": "#%%\n"
    }
   },
   "outputs": [
    {
     "data": {
      "text/plain": "<Figure size 432x288 with 1 Axes>",
      "image/png": "[encoded data removed]"
     },
     "metadata": {},
     "output_type": "display_data"
    }
   ],
   "source": [
    "model = RandomForestClassifier()\n",
    "model.fit(X_train, y_train)\n",
    "\n",
    "sns.set(style=\"whitegrid\")\n",
    "feat_imp = pd.Series(model.feature_importances_, index=X_train.columns)\n",
    "feat_imp = feat_imp.sort_values(ascending=False)\n",
    "sns.barplot(x=feat_imp.to_list(), y=feat_imp.index, color='b')\n",
    "plt.show()"
   ]
  },
  {
   "cell_type": "markdown",
   "metadata": {
    "pycharm": {
     "name": "#%% md\n"
    }
   },
   "source": [
    "## Recursive feature elimination by feature importance\n",
    "This takes a bit of time (large set...). \n",
    "Prune the results from previous sections. \n",
    "A ranking of 1 means the algorithm suggests the feature.\n",
    "Remove highly correlated feature first"
   ]
  },
  {
   "cell_type": "code",
   "execution_count": 11,
   "metadata": {
    "pycharm": {
     "is_executing": false,
     "name": "#%%\n"
    },
    "scrolled": true
   },
   "outputs": [
    {
     "data": {
      "text/plain": "                     ranking\nrel_total_wins             2\nrel_surface_wins           1\nmutual_wins                4\nmutual_surface_wins        5\nmutual_games               3\nrank_diff                  1\npoints_grad_diff           1\nrel_climate_wins           1\nrel_recent_wins            1\nrel_tourney_games          1\np2_home                    7\nnone_home                  6\np1_home                    8",
      "text/html": "<div>\n<style scoped>\n    .dataframe tbody tr th:only-of-type {\n        vertical-align: middle;\n    }\n\n    .dataframe tbody tr th {\n        vertical-align: top;\n    }\n\n    .dataframe thead th {\n        text-align: right;\n    }\n</style>\n<table border=\"1\" class=\"dataframe\">\n  <thead>\n    <tr style=\"text-align: right;\">\n      <th></th>\n      <th>ranking</th>\n    </tr>\n  </thead>\n  <tbody>\n    <tr>\n      <th>rel_total_wins</th>\n      <td>2</td>\n    </tr>\n    <tr>\n      <th>rel_surface_wins</th>\n      <td>1</td>\n    </tr>\n    <tr>\n      <th>mutual_wins</th>\n      <td>4</td>\n    </tr>\n    <tr>\n      <th>mutual_surface_wins</th>\n      <td>5</td>\n    </tr>\n    <tr>\n      <th>mutual_games</th>\n      <td>3</td>\n    </tr>\n    <tr>\n      <th>rank_diff</th>\n      <td>1</td>\n    </tr>\n    <tr>\n      <th>points_grad_diff</th>\n      <td>1</td>\n    </tr>\n    <tr>\n      <th>rel_climate_wins</th>\n      <td>1</td>\n    </tr>\n    <tr>\n      <th>rel_recent_wins</th>\n      <td>1</td>\n    </tr>\n    <tr>\n      <th>rel_tourney_games</th>\n      <td>1</td>\n    </tr>\n    <tr>\n      <th>p2_home</th>\n      <td>7</td>\n    </tr>\n    <tr>\n      <th>none_home</th>\n      <td>6</td>\n    </tr>\n    <tr>\n      <th>p1_home</th>\n      <td>8</td>\n    </tr>\n  </tbody>\n</table>\n</div>"
     },
     "metadata": {},
     "output_type": "display_data"
    },
    {
     "name": "stdout",
     "text": [
      "\n",
      "Number of features selected: 6\n"
     ],
     "output_type": "stream"
    }
   ],
   "source": [
    "model = RandomForestClassifier()\n",
    "rfe_model = RFE(model)  # selects 5 features\n",
    "rfe_model.fit(X_train, y_train)\n",
    "\n",
    "rfe_results = pd.DataFrame(rfe_model.ranking_, index=X_train.columns, columns=['ranking'])\n",
    "\n",
    "display(rfe_results)\n",
    "print('\\nNumber of features selected: %d' % rfe_model.n_features_)"
   ]
  },
  {
   "cell_type": "markdown",
   "source": [
    "## Classification report\n",
    "\n",
    "Full model:"
   ],
   "metadata": {
    "collapsed": false
   }
  },
  {
   "cell_type": "code",
   "execution_count": 16,
   "outputs": [
    {
     "name": "stdout",
     "text": [
      "              precision    recall  f1-score   support\n",
      "\n",
      "          -1       0.72      0.72      0.72     20351\n",
      "           1       0.72      0.72      0.72     20119\n",
      "\n",
      "    accuracy                           0.72     40470\n",
      "   macro avg       0.72      0.72      0.72     40470\n",
      "weighted avg       0.72      0.72      0.72     40470\n",
      "\n"
     ],
     "output_type": "stream"
    }
   ],
   "source": [
    "model = RandomForestClassifier()\n",
    "model.fit(X_train, y_train)\n",
    "\n",
    "full_val_pred = model.predict(X_val)\n",
    "class_report_full = classification_report(y_val, full_val_pred)\n",
    "print(class_report_full)"
   ],
   "metadata": {
    "collapsed": false,
    "pycharm": {
     "name": "#%%\n",
     "is_executing": false
    }
   }
  },
  {
   "cell_type": "markdown",
   "source": [
    "Reduced model:\n",
    "Run script above due to it being so slow"
   ],
   "metadata": {
    "collapsed": false
   }
  },
  {
   "cell_type": "code",
   "execution_count": 12,
   "outputs": [
    {
     "name": "stdout",
     "text": [
      "              precision    recall  f1-score   support\n",
      "\n",
      "          -1       0.72      0.72      0.72     20351\n",
      "           1       0.72      0.72      0.72     20119\n",
      "\n",
      "    accuracy                           0.72     40470\n",
      "   macro avg       0.72      0.72      0.72     40470\n",
      "weighted avg       0.72      0.72      0.72     40470\n",
      "\n"
     ],
     "output_type": "stream"
    }
   ],
   "source": [
    "red_val_pred = rfe_model.predict(X_val)\n",
    "class_report_red = classification_report(y_val, red_val_pred)\n",
    "print(class_report_red)"
   ],
   "metadata": {
    "collapsed": false,
    "pycharm": {
     "name": "#%%\n",
     "is_executing": false
    }
   }
  },
  {
   "cell_type": "markdown",
   "source": [
    "## Specific cases\n",
    "Federer vs. Nadal\n",
    "\n",
    "Need to extract id data"
   ],
   "metadata": {
    "collapsed": false,
    "pycharm": {
     "name": "#%% md\n"
    }
   }
  },
  {
   "cell_type": "markdown",
   "source": [
    "## Performance on ATP main matches\n",
    "Same matches as being tested, ATP 250, 500 and 1000"
   ],
   "metadata": {
    "collapsed": false,
    "pycharm": {
     "name": "#%% md\n"
    }
   }
  },
  {
   "cell_type": "code",
   "execution_count": 41,
   "outputs": [
    {
     "name": "stdout",
     "text": [
      "              precision    recall  f1-score   support\n",
      "\n",
      "          -1       0.68      0.70      0.69      1952\n",
      "           1       0.68      0.66      0.67      1868\n",
      "\n",
      "    accuracy                           0.68      3820\n",
      "   macro avg       0.68      0.68      0.68      3820\n",
      "weighted avg       0.68      0.68      0.68      3820\n",
      "\n"
     ],
     "output_type": "stream"
    }
   ],
   "source": [
    "tourneys = [2,3]\n",
    "\n",
    "drop_cols = ['outcome', 'tourney_date']\n",
    "y_train = data_train.outcome\n",
    "X_train = data_train.drop(drop_cols, axis=1)\n",
    "\n",
    "X_train, X_val, y_train, y_val = train_test_split(X_train, y_train, test_size=0.33, random_state=42)\n",
    "\n",
    "X_val = X_val.join(y_val)\n",
    "data_mask = (X_val.tourney_level.isin(tourneys))\n",
    "X_val = X_val.loc[data_mask]\n",
    "y_val = X_val.outcome\n",
    "X_val.drop(['outcome', 'tourney_level'], inplace=True, axis=1)\n",
    "\n",
    "X_train.drop('tourney_level', inplace=True, axis=1)\n",
    "\n",
    "model = RandomForestClassifier()\n",
    "model.fit(X_train, y_train)\n",
    "\n",
    "full_val_pred = model.predict(X_val)\n",
    "class_report_full = classification_report(y_val, full_val_pred)\n",
    "print(class_report_full)"
   ],
   "metadata": {
    "collapsed": false,
    "pycharm": {
     "name": "#%%\n",
     "is_executing": false
    }
   }
  },
  {
   "cell_type": "markdown",
   "source": [
    "## Accuracy increase over time?\n",
    "i.e. should we generate more statistics?"
   ],
   "metadata": {
    "collapsed": false,
    "pycharm": {
     "name": "#%% md\n"
    }
   }
  },
  {
   "cell_type": "code",
   "execution_count": 17,
   "outputs": [
    {
     "name": "stdout",
     "text": [
      "              precision    recall  f1-score   support\n",
      "\n",
      "          -1       0.74      0.75      0.74      5107\n",
      "           1       0.75      0.73      0.74      5132\n",
      "\n",
      "    accuracy                           0.74     10239\n",
      "   macro avg       0.74      0.74      0.74     10239\n",
      "weighted avg       0.74      0.74      0.74     10239\n",
      "\n",
      "              precision    recall  f1-score   support\n",
      "\n",
      "          -1       0.72      0.73      0.72      4925\n",
      "           1       0.72      0.71      0.72      4898\n",
      "\n",
      "    accuracy                           0.72      9823\n",
      "   macro avg       0.72      0.72      0.72      9823\n",
      "weighted avg       0.72      0.72      0.72      9823\n",
      "\n"
     ],
     "output_type": "stream"
    }
   ],
   "source": [
    "drop_cols = ['outcome', 'tourney_date', 'tourney_level']\n",
    "\n",
    "# 2017-12-31: 1514678400, 2016-12-31: 1483142400, 2015-12-31: 1451520000\n",
    "train_eval_split_low = 1451520000\n",
    "train_eval_split_high = 1514678400\n",
    "\n",
    "data_train_pre = data_train.loc[data_train.tourney_date < train_eval_split_low]\n",
    "data_train_post = data_train.loc[data_train.tourney_date >= train_eval_split_high]\n",
    "\n",
    "y_train_pre = data_train_pre.outcome\n",
    "X_train_pre = data_train_pre.drop(drop_cols, axis=1)\n",
    "\n",
    "y_train_post = data_train_post.outcome\n",
    "X_train_post = data_train_post.drop(drop_cols, axis=1)\n",
    "\n",
    "X_train_pre, X_val_pre, y_train_pre, y_val_pre = train_test_split(X_train_pre, y_train_pre, test_size=0.33, random_state=42)\n",
    "X_train_post, X_val_post, y_train_post, y_val_post = train_test_split(X_train_post, y_train_post, test_size=0.33, random_state=42)\n",
    "\n",
    "model_pre = RandomForestClassifier()\n",
    "model_pre.fit(X_train_pre, y_train_pre)\n",
    "\n",
    "val_pred_pre = model_pre.predict(X_val_pre)\n",
    "class_report_pre = classification_report(y_val_pre, val_pred_pre)\n",
    "print(class_report_pre)\n",
    "\n",
    "model_post = RandomForestClassifier()\n",
    "model_post.fit(X_train_post, y_train_post)\n",
    "\n",
    "val_pred_post = model_post.predict(X_val_post)\n",
    "class_report_post = classification_report(y_val_post, val_pred_post)\n",
    "print(class_report_post)"
   ],
   "metadata": {
    "collapsed": false,
    "pycharm": {
     "name": "#%%\n",
     "is_executing": false
    }
   }
  }
 ],
 "metadata": {
  "kernelspec": {
   "display_name": "Python 3",
   "language": "python",
   "name": "python3"
  },
  "language_info": {
   "codemirror_mode": {
    "name": "ipython",
    "version": 3
   },
   "file_extension": ".py",
   "mimetype": "text/x-python",
   "name": "python",
   "nbconvert_exporter": "python",
   "pygments_lexer": "ipython3",
   "version": "3.7.2"
  },
  "pycharm": {
   "stem_cell": {
    "cell_type": "raw",
    "source": [],
    "metadata": {
     "collapsed": false
    }
   }
  }
 },
 "nbformat": 4,
 "nbformat_minor": 1
}