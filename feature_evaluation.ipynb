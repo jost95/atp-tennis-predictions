{
 "cells": [
  {
   "cell_type": "markdown",
   "metadata": {},
   "source": [
    "# Feature evaluation\n",
    "This notebook explores the engeineered features.\n",
    "\n",
    "## Load dependencies"
   ]
  },
  {
   "cell_type": "code",
   "execution_count": 23,
   "metadata": {
    "pycharm": {
     "is_executing": false,
     "name": "#%%\n"
    }
   },
   "outputs": [],
   "source": [
    "import os\n",
    "import json\n",
    "import pandas as pd\n",
    "import seaborn as sns\n",
    "import matplotlib.pyplot as plt\n",
    "from IPython.core.display import display\n",
    "\n",
    "from sklearn.ensemble import RandomForestClassifier\n",
    "from sklearn.feature_selection import RFE\n",
    "from sklearn.metrics import classification_report\n",
    "from sklearn.model_selection import train_test_split\n",
    "from sklearn.preprocessing import StandardScaler\n",
    "\n",
    "from definitions import GEN_PATH, ROOT_DIR\n",
    "\n",
    "sns.set_context('notebook')\n",
    "sns.set_style('white')"
   ]
  },
  {
   "cell_type": "markdown",
   "metadata": {
    "pycharm": {
     "name": "#%% md\n"
    }
   },
   "source": [
    "## Load processed data"
   ]
  },
  {
   "cell_type": "code",
   "execution_count": 2,
   "metadata": {
    "pycharm": {
     "is_executing": false,
     "name": "#%%\n"
    }
   },
   "outputs": [],
   "source": [
    "# Read configuration file\n",
    "with open(os.path.join(ROOT_DIR, 'config.json')) as f:\n",
    "    config = json.load(f)\n",
    "\n",
    "proc_match_filepath = os.path.join(GEN_PATH, config['proc_match_filename'])\n",
    "\n",
    "# Read data\n",
    "data = pd.read_hdf(proc_match_filepath, key='matches')"
   ]
  },
  {
   "cell_type": "markdown",
   "metadata": {
    "pycharm": {
     "name": "#%% md\n"
    }
   },
   "source": [
    "## Extract training and validation data\n",
    "Test data should not be used, even in, feature evaluation."
   ]
  },
  {
   "cell_type": "code",
   "execution_count": 3,
   "metadata": {
    "pycharm": {
     "is_executing": false,
     "name": "#%%\n"
    }
   },
   "outputs": [],
   "source": [
    "# Split data set into train and test\n",
    "# Start of 2019 season in unix time, 2018-12-31 00:00:00 UTC\n",
    "test_date_begin = 1546214400\n",
    "\n",
    "# Testing will be done on 2019 matches\n",
    "data_train = data.loc[data.tourney_date < test_date_begin]\n",
    "data_train = pd.get_dummies(data_train, columns=['home_advantage'])\n",
    "\n",
    "renames = {\n",
    "    'home_advantage_-1': 'p2_home',\n",
    "    'home_advantage_0': 'none_home',\n",
    "    'home_advantage_1': 'p1_home',\n",
    "}\n",
    "\n",
    "data_train.rename(columns=renames, inplace=True)"
   ]
  },
  {
   "cell_type": "markdown",
   "source": [
    "## OPTIONAL: Removing low level matches\n",
    "Testing to remove low level matches to see if different\n",
    "is present for tour level matches. This means train and evaluate \n",
    "on only tour matches"
   ],
   "metadata": {
    "collapsed": false
   }
  },
  {
   "cell_type": "code",
   "execution_count": 11,
   "outputs": [],
   "source": [
    "tourneys = [2,3,5,6]\n",
    "data_mask = (data_train.tourney_level.isin(tourneys))\n",
    "data_train = data_train.loc[data_mask]"
   ],
   "metadata": {
    "collapsed": false,
    "pycharm": {
     "name": "#%%\n",
     "is_executing": false
    }
   }
  },
  {
   "cell_type": "markdown",
   "source": [
    "## Split data set into validation and training part"
   ],
   "metadata": {
    "collapsed": false,
    "pycharm": {
     "name": "#%% md\n"
    }
   }
  },
  {
   "cell_type": "code",
   "execution_count": 45,
   "outputs": [
    {
     "name": "stderr",
     "text": [
      "/Users/Jon/Library/Python/3.7/lib/python/site-packages/ipykernel_launcher.py:5: SettingWithCopyWarning: \n",
      "A value is trying to be set on a copy of a slice from a DataFrame\n",
      "\n",
      "See the caveats in the documentation: http://pandas.pydata.org/pandas-docs/stable/user_guide/indexing.html#returning-a-view-versus-a-copy\n",
      "  \"\"\"\n",
      "/Users/Jon/Library/Python/3.7/lib/python/site-packages/ipykernel_launcher.py:6: SettingWithCopyWarning: \n",
      "A value is trying to be set on a copy of a slice from a DataFrame\n",
      "\n",
      "See the caveats in the documentation: http://pandas.pydata.org/pandas-docs/stable/user_guide/indexing.html#returning-a-view-versus-a-copy\n",
      "  \n",
      "/Users/Jon/Library/Python/3.7/lib/python/site-packages/ipykernel_launcher.py:7: SettingWithCopyWarning: \n",
      "A value is trying to be set on a copy of a slice from a DataFrame\n",
      "\n",
      "See the caveats in the documentation: http://pandas.pydata.org/pandas-docs/stable/user_guide/indexing.html#returning-a-view-versus-a-copy\n",
      "  import sys\n"
     ],
     "output_type": "stream"
    },
    {
     "data": {
      "text/plain": "       rel_total_wins  rel_surface_wins  mutual_wins  mutual_surface_wins  \\\n73682       -0.218557         -1.056294    -0.165825            -0.484995   \n28112       -0.715468         -0.458714     0.589934             0.576888   \n47021        0.499204          0.046931    -0.000751            -0.000729   \n32758       -0.605043         -0.228875    -0.000751            -0.000729   \n58731        0.278355          0.000964    -1.056824            -1.033439   \n...               ...               ...          ...                  ...   \n49420       -0.163344         -2.067585     0.482537             0.250155   \n43240        0.443992          0.000964    -0.000751            -0.000729   \n45344       -0.163344         -1.240165    -0.126048            -0.000729   \n3355         0.167930         -0.090972     2.642415             2.583962   \n64859       -0.108132         -0.366778    -0.000751            -0.000729   \n\n       mutual_games  rank_diff  points_grad_diff  rel_climate_wins  \\\n73682     -0.579601  -0.075426          0.358590          0.288436   \n28112      0.344619   0.012261         -0.666556         -0.425970   \n47021      0.000642  -0.069272          0.462865          0.240809   \n32758      0.000642  -0.053889          0.190667          0.050301   \n58731     -0.614346   0.098409         -2.500172          0.383690   \n...             ...        ...               ...               ...   \n49420     -0.048001   0.273783         -1.194702         -0.283089   \n43240      0.000642  -0.007738          0.018680          0.621826   \n45344     -1.319672   0.038413         -0.976673         -0.283089   \n3355       1.539851  -0.056965          1.181957          0.240809   \n64859      0.000642  -0.100040          0.397863          0.050301   \n\n       rel_recent_wins  rel_tourney_games  tourney_level  player_1  player_2  \\\n73682        -0.029251           0.000408       1.610251  3.638087 -0.410582   \n28112         0.071721           0.684673      -0.801352 -0.299470 -0.410582   \n47021         0.542927           1.505791       1.610251 -0.281027 -0.336728   \n32758         0.374640          -1.231269      -0.801352 -0.116121 -0.342989   \n58731         0.542927           1.642644       0.404449 -0.163446 -0.283091   \n...                ...                ...            ...       ...       ...   \n49420        -0.870691           0.000408      -0.801352 -0.362798 -0.372108   \n43240         1.115106           0.000408       1.610251 -0.274587  1.149557   \n45344        -0.567772           0.000408      -0.801352 -0.334793 -0.214518   \n3355         -0.264854           0.000408      -0.801352 -0.150273 -0.271776   \n64859        -1.678472           0.000408      -0.801352 -0.217212 -0.181627   \n\n       p2_home  none_home  p1_home  \n73682        0          1        0  \n28112        0          1        0  \n47021        0          1        0  \n32758        0          1        0  \n58731        1          0        0  \n...        ...        ...      ...  \n49420        0          1        0  \n43240        0          1        0  \n45344        0          1        0  \n3355         0          1        0  \n64859        0          0        1  \n\n[7065 rows x 16 columns]",
      "text/html": "<div>\n<style scoped>\n    .dataframe tbody tr th:only-of-type {\n        vertical-align: middle;\n    }\n\n    .dataframe tbody tr th {\n        vertical-align: top;\n    }\n\n    .dataframe thead th {\n        text-align: right;\n    }\n</style>\n<table border=\"1\" class=\"dataframe\">\n  <thead>\n    <tr style=\"text-align: right;\">\n      <th></th>\n      <th>rel_total_wins</th>\n      <th>rel_surface_wins</th>\n      <th>mutual_wins</th>\n      <th>mutual_surface_wins</th>\n      <th>mutual_games</th>\n      <th>rank_diff</th>\n      <th>points_grad_diff</th>\n      <th>rel_climate_wins</th>\n      <th>rel_recent_wins</th>\n      <th>rel_tourney_games</th>\n      <th>tourney_level</th>\n      <th>player_1</th>\n      <th>player_2</th>\n      <th>p2_home</th>\n      <th>none_home</th>\n      <th>p1_home</th>\n    </tr>\n  </thead>\n  <tbody>\n    <tr>\n      <th>73682</th>\n      <td>-0.218557</td>\n      <td>-1.056294</td>\n      <td>-0.165825</td>\n      <td>-0.484995</td>\n      <td>-0.579601</td>\n      <td>-0.075426</td>\n      <td>0.358590</td>\n      <td>0.288436</td>\n      <td>-0.029251</td>\n      <td>0.000408</td>\n      <td>1.610251</td>\n      <td>3.638087</td>\n      <td>-0.410582</td>\n      <td>0</td>\n      <td>1</td>\n      <td>0</td>\n    </tr>\n    <tr>\n      <th>28112</th>\n      <td>-0.715468</td>\n      <td>-0.458714</td>\n      <td>0.589934</td>\n      <td>0.576888</td>\n      <td>0.344619</td>\n      <td>0.012261</td>\n      <td>-0.666556</td>\n      <td>-0.425970</td>\n      <td>0.071721</td>\n      <td>0.684673</td>\n      <td>-0.801352</td>\n      <td>-0.299470</td>\n      <td>-0.410582</td>\n      <td>0</td>\n      <td>1</td>\n      <td>0</td>\n    </tr>\n    <tr>\n      <th>47021</th>\n      <td>0.499204</td>\n      <td>0.046931</td>\n      <td>-0.000751</td>\n      <td>-0.000729</td>\n      <td>0.000642</td>\n      <td>-0.069272</td>\n      <td>0.462865</td>\n      <td>0.240809</td>\n      <td>0.542927</td>\n      <td>1.505791</td>\n      <td>1.610251</td>\n      <td>-0.281027</td>\n      <td>-0.336728</td>\n      <td>0</td>\n      <td>1</td>\n      <td>0</td>\n    </tr>\n    <tr>\n      <th>32758</th>\n      <td>-0.605043</td>\n      <td>-0.228875</td>\n      <td>-0.000751</td>\n      <td>-0.000729</td>\n      <td>0.000642</td>\n      <td>-0.053889</td>\n      <td>0.190667</td>\n      <td>0.050301</td>\n      <td>0.374640</td>\n      <td>-1.231269</td>\n      <td>-0.801352</td>\n      <td>-0.116121</td>\n      <td>-0.342989</td>\n      <td>0</td>\n      <td>1</td>\n      <td>0</td>\n    </tr>\n    <tr>\n      <th>58731</th>\n      <td>0.278355</td>\n      <td>0.000964</td>\n      <td>-1.056824</td>\n      <td>-1.033439</td>\n      <td>-0.614346</td>\n      <td>0.098409</td>\n      <td>-2.500172</td>\n      <td>0.383690</td>\n      <td>0.542927</td>\n      <td>1.642644</td>\n      <td>0.404449</td>\n      <td>-0.163446</td>\n      <td>-0.283091</td>\n      <td>1</td>\n      <td>0</td>\n      <td>0</td>\n    </tr>\n    <tr>\n      <th>...</th>\n      <td>...</td>\n      <td>...</td>\n      <td>...</td>\n      <td>...</td>\n      <td>...</td>\n      <td>...</td>\n      <td>...</td>\n      <td>...</td>\n      <td>...</td>\n      <td>...</td>\n      <td>...</td>\n      <td>...</td>\n      <td>...</td>\n      <td>...</td>\n      <td>...</td>\n      <td>...</td>\n    </tr>\n    <tr>\n      <th>49420</th>\n      <td>-0.163344</td>\n      <td>-2.067585</td>\n      <td>0.482537</td>\n      <td>0.250155</td>\n      <td>-0.048001</td>\n      <td>0.273783</td>\n      <td>-1.194702</td>\n      <td>-0.283089</td>\n      <td>-0.870691</td>\n      <td>0.000408</td>\n      <td>-0.801352</td>\n      <td>-0.362798</td>\n      <td>-0.372108</td>\n      <td>0</td>\n      <td>1</td>\n      <td>0</td>\n    </tr>\n    <tr>\n      <th>43240</th>\n      <td>0.443992</td>\n      <td>0.000964</td>\n      <td>-0.000751</td>\n      <td>-0.000729</td>\n      <td>0.000642</td>\n      <td>-0.007738</td>\n      <td>0.018680</td>\n      <td>0.621826</td>\n      <td>1.115106</td>\n      <td>0.000408</td>\n      <td>1.610251</td>\n      <td>-0.274587</td>\n      <td>1.149557</td>\n      <td>0</td>\n      <td>1</td>\n      <td>0</td>\n    </tr>\n    <tr>\n      <th>45344</th>\n      <td>-0.163344</td>\n      <td>-1.240165</td>\n      <td>-0.126048</td>\n      <td>-0.000729</td>\n      <td>-1.319672</td>\n      <td>0.038413</td>\n      <td>-0.976673</td>\n      <td>-0.283089</td>\n      <td>-0.567772</td>\n      <td>0.000408</td>\n      <td>-0.801352</td>\n      <td>-0.334793</td>\n      <td>-0.214518</td>\n      <td>0</td>\n      <td>1</td>\n      <td>0</td>\n    </tr>\n    <tr>\n      <th>3355</th>\n      <td>0.167930</td>\n      <td>-0.090972</td>\n      <td>2.642415</td>\n      <td>2.583962</td>\n      <td>1.539851</td>\n      <td>-0.056965</td>\n      <td>1.181957</td>\n      <td>0.240809</td>\n      <td>-0.264854</td>\n      <td>0.000408</td>\n      <td>-0.801352</td>\n      <td>-0.150273</td>\n      <td>-0.271776</td>\n      <td>0</td>\n      <td>1</td>\n      <td>0</td>\n    </tr>\n    <tr>\n      <th>64859</th>\n      <td>-0.108132</td>\n      <td>-0.366778</td>\n      <td>-0.000751</td>\n      <td>-0.000729</td>\n      <td>0.000642</td>\n      <td>-0.100040</td>\n      <td>0.397863</td>\n      <td>0.050301</td>\n      <td>-1.678472</td>\n      <td>0.000408</td>\n      <td>-0.801352</td>\n      <td>-0.217212</td>\n      <td>-0.181627</td>\n      <td>0</td>\n      <td>0</td>\n      <td>1</td>\n    </tr>\n  </tbody>\n</table>\n<p>7065 rows × 16 columns</p>\n</div>"
     },
     "metadata": {},
     "output_type": "display_data"
    }
   ],
   "source": [
    "drop_cols = ['outcome', 'tourney_date']\n",
    "y_train = data_train.outcome\n",
    "X_train = data_train.drop(drop_cols, axis=1)\n",
    "\n",
    "X_train.tourney_level[X_train.tourney_level == 4] = 3\n",
    "X_train.tourney_level[X_train.tourney_level == 5] = 4\n",
    "X_train.tourney_level[X_train.tourney_level == 6] = 4\n",
    "\n",
    "scale_cols = ['tourney_level', 'player_1', 'player_2']\n",
    "X_train[scale_cols] = StandardScaler().fit_transform(X_train[scale_cols])\n",
    "X_train, X_val, y_train, y_val = train_test_split(X_train, y_train, test_size=0.33, random_state=42)\n",
    "\n",
    "display(X_train)"
   ],
   "metadata": {
    "collapsed": false,
    "pycharm": {
     "name": "#%%\n",
     "is_executing": false
    }
   }
  },
  {
   "cell_type": "markdown",
   "source": [
    "## OPTIONAL: Remove correlated features"
   ],
   "metadata": {
    "collapsed": false,
    "pycharm": {
     "name": "#%% md\n"
    }
   }
  },
  {
   "cell_type": "code",
   "execution_count": 15,
   "outputs": [],
   "source": [
    "col_remove = ['rel_total_wins', 'mutual_wins', 'mutual_surface_wins', 'rel_climate_wins']\n",
    "X_train.drop(col_remove, inplace=True, axis=1)\n",
    "X_val.drop(col_remove, inplace=True, axis=1)"
   ],
   "metadata": {
    "collapsed": false,
    "pycharm": {
     "name": "#%%\n",
     "is_executing": false
    }
   }
  },
  {
   "cell_type": "markdown",
   "metadata": {
    "pycharm": {
     "name": "#%% md\n"
    }
   },
   "source": [
    "## Correlation heatmap"
   ]
  },
  {
   "cell_type": "code",
   "execution_count": 49,
   "metadata": {
    "pycharm": {
     "is_executing": false,
     "name": "#%%\n"
    }
   },
   "outputs": [
    {
     "data": {
      "text/plain": "<Figure size 432x288 with 2 Axes>",
      "image/png": "[encoded data removed]"
     },
     "metadata": {},
     "output_type": "display_data"
    }
   ],
   "source": [
    "adv = ['p2_home', 'none_home', 'p1_home']\n",
    "X_heat = X_train.drop(adv, axis=1)\n",
    "sns.heatmap(X_heat.corr(), annot=True, fmt='.1f')\n",
    "plt.show()"
   ]
  },
  {
   "cell_type": "markdown",
   "metadata": {
    "pycharm": {
     "name": "#%% md\n"
    }
   },
   "source": [
    "## Feature importance\n",
    "Question being answered: which features help split our tree in the best way possible?\n",
    "How does each feature affect the accuracy of our model?"
   ]
  },
  {
   "cell_type": "code",
   "execution_count": 48,
   "metadata": {
    "pycharm": {
     "is_executing": false,
     "name": "#%%\n"
    }
   },
   "outputs": [
    {
     "name": "stdout",
     "text": [
      "1.0000000000000002\n"
     ],
     "output_type": "stream"
    },
    {
     "data": {
      "text/plain": "<Figure size 432x288 with 1 Axes>",
      "image/png": "[encoded data removed]"
     },
     "metadata": {},
     "output_type": "display_data"
    }
   ],
   "source": [
    "model = RandomForestClassifier()\n",
    "model.fit(X_train, y_train)\n",
    "\n",
    "sns.set(style=\"whitegrid\")\n",
    "feat_imp = pd.Series(model.feature_importances_, index=X_train.columns)\n",
    "feat_imp = feat_imp.sort_values(ascending=False)\n",
    "sns.barplot(x=feat_imp.to_list(), y=feat_imp.index, color='b')\n",
    "plt.show()"
   ]
  },
  {
   "cell_type": "markdown",
   "metadata": {
    "pycharm": {
     "name": "#%% md\n"
    }
   },
   "source": [
    "## Recursive feature elimination by feature importance\n",
    "This takes a bit of time (large set...). \n",
    "Prune the results from previous sections. \n",
    "A ranking of 1 means the algorithm suggests the feature.\n",
    "Remove highly correlated feature first"
   ]
  },
  {
   "cell_type": "code",
   "execution_count": 11,
   "metadata": {
    "pycharm": {
     "is_executing": false,
     "name": "#%%\n"
    },
    "scrolled": true
   },
   "outputs": [
    {
     "data": {
      "text/plain": "                     ranking\nrel_total_wins             2\nrel_surface_wins           1\nmutual_wins                4\nmutual_surface_wins        5\nmutual_games               3\nrank_diff                  1\npoints_grad_diff           1\nrel_climate_wins           1\nrel_recent_wins            1\nrel_tourney_games          1\np2_home                    7\nnone_home                  6\np1_home                    8",
      "text/html": "<div>\n<style scoped>\n    .dataframe tbody tr th:only-of-type {\n        vertical-align: middle;\n    }\n\n    .dataframe tbody tr th {\n        vertical-align: top;\n    }\n\n    .dataframe thead th {\n        text-align: right;\n    }\n</style>\n<table border=\"1\" class=\"dataframe\">\n  <thead>\n    <tr style=\"text-align: right;\">\n      <th></th>\n      <th>ranking</th>\n    </tr>\n  </thead>\n  <tbody>\n    <tr>\n      <th>rel_total_wins</th>\n      <td>2</td>\n    </tr>\n    <tr>\n      <th>rel_surface_wins</th>\n      <td>1</td>\n    </tr>\n    <tr>\n      <th>mutual_wins</th>\n      <td>4</td>\n    </tr>\n    <tr>\n      <th>mutual_surface_wins</th>\n      <td>5</td>\n    </tr>\n    <tr>\n      <th>mutual_games</th>\n      <td>3</td>\n    </tr>\n    <tr>\n      <th>rank_diff</th>\n      <td>1</td>\n    </tr>\n    <tr>\n      <th>points_grad_diff</th>\n      <td>1</td>\n    </tr>\n    <tr>\n      <th>rel_climate_wins</th>\n      <td>1</td>\n    </tr>\n    <tr>\n      <th>rel_recent_wins</th>\n      <td>1</td>\n    </tr>\n    <tr>\n      <th>rel_tourney_games</th>\n      <td>1</td>\n    </tr>\n    <tr>\n      <th>p2_home</th>\n      <td>7</td>\n    </tr>\n    <tr>\n      <th>none_home</th>\n      <td>6</td>\n    </tr>\n    <tr>\n      <th>p1_home</th>\n      <td>8</td>\n    </tr>\n  </tbody>\n</table>\n</div>"
     },
     "metadata": {},
     "output_type": "display_data"
    },
    {
     "name": "stdout",
     "text": [
      "\n",
      "Number of features selected: 6\n"
     ],
     "output_type": "stream"
    }
   ],
   "source": [
    "model = RandomForestClassifier()\n",
    "rfe_model = RFE(model)  # selects 5 features\n",
    "rfe_model.fit(X_train, y_train)\n",
    "\n",
    "rfe_results = pd.DataFrame(rfe_model.ranking_, index=X_train.columns, columns=['ranking'])\n",
    "\n",
    "display(rfe_results)\n",
    "print('\\nNumber of features selected: %d' % rfe_model.n_features_)"
   ]
  },
  {
   "cell_type": "markdown",
   "source": [
    "## Classification report\n",
    "\n",
    "Full model:"
   ],
   "metadata": {
    "collapsed": false
   }
  },
  {
   "cell_type": "code",
   "execution_count": 46,
   "outputs": [
    {
     "name": "stdout",
     "text": [
      "              precision    recall  f1-score   support\n",
      "\n",
      "          -1       0.75      0.73      0.74      1743\n",
      "           1       0.74      0.76      0.75      1737\n",
      "\n",
      "    accuracy                           0.75      3480\n",
      "   macro avg       0.75      0.75      0.75      3480\n",
      "weighted avg       0.75      0.75      0.75      3480\n",
      "\n"
     ],
     "output_type": "stream"
    }
   ],
   "source": [
    "model = RandomForestClassifier()\n",
    "model.fit(X_train, y_train)\n",
    "\n",
    "full_val_pred = model.predict(X_val)\n",
    "class_report_full = classification_report(y_val, full_val_pred)\n",
    "print(class_report_full)"
   ],
   "metadata": {
    "collapsed": false,
    "pycharm": {
     "name": "#%%\n",
     "is_executing": false
    }
   }
  },
  {
   "cell_type": "markdown",
   "source": [
    "Reduced model:\n",
    "Run script above due to it being so slow"
   ],
   "metadata": {
    "collapsed": false
   }
  },
  {
   "cell_type": "code",
   "execution_count": 12,
   "outputs": [
    {
     "name": "stdout",
     "text": [
      "              precision    recall  f1-score   support\n",
      "\n",
      "          -1       0.72      0.72      0.72     20351\n",
      "           1       0.72      0.72      0.72     20119\n",
      "\n",
      "    accuracy                           0.72     40470\n",
      "   macro avg       0.72      0.72      0.72     40470\n",
      "weighted avg       0.72      0.72      0.72     40470\n",
      "\n"
     ],
     "output_type": "stream"
    }
   ],
   "source": [
    "red_val_pred = rfe_model.predict(X_val)\n",
    "class_report_red = classification_report(y_val, red_val_pred)\n",
    "print(class_report_red)"
   ],
   "metadata": {
    "collapsed": false,
    "pycharm": {
     "name": "#%%\n",
     "is_executing": false
    }
   }
  },
  {
   "cell_type": "markdown",
   "source": [
    "## Specific cases\n",
    "Federer vs. Nadal"
   ],
   "metadata": {
    "collapsed": false,
    "pycharm": {
     "name": "#%% md\n"
    }
   }
  },
  {
   "cell_type": "code",
   "execution_count": null,
   "outputs": [],
   "source": [
    "player_1 = data_train.player_1\n",
    "player_2 = data_train.player_2\n",
    "y_train = data_train.outcome\n",
    "\n",
    "drop_cols = ['outcome', 'tourney_date', 'tourney_level']\n",
    "# drop_cols.append(['mutual_wins', 'mutual_surface_wins', 'mutual_games'])\n",
    "X_train = data_train.drop(drop_cols, axis=1)\n",
    "\n",
    "X_train, X_val, y_train, y_val = train_test_split(X_train, y_train, test_size=0.33, random_state=42)\n",
    "\n",
    "model = RandomForestClassifier()\n",
    "model.fit(X_train, y_train)\n",
    "\n",
    "X_val = X_val.join(y_val)\n",
    "data_mask = (X_val.tourney_level.isin(tourneys))\n",
    "X_val = X_val.loc[data_mask]\n",
    "y_val = X_val.outcome\n",
    "X_val.drop(['outcome', 'tourney_level'], inplace=True, axis=1)"
   ],
   "metadata": {
    "collapsed": false,
    "pycharm": {
     "name": "#%%\n"
    }
   }
  },
  {
   "cell_type": "markdown",
   "source": [
    "## Performance on ATP main matches\n",
    "Same matches as being tested, ATP 250, 500 and 1000"
   ],
   "metadata": {
    "collapsed": false,
    "pycharm": {
     "name": "#%% md\n"
    }
   }
  },
  {
   "cell_type": "code",
   "execution_count": 16,
   "outputs": [
    {
     "name": "stdout",
     "text": [
      "              precision    recall  f1-score   support\n",
      "\n",
      "          -1       0.73      0.70      0.72      1342\n",
      "           1       0.72      0.75      0.73      1361\n",
      "\n",
      "    accuracy                           0.72      2703\n",
      "   macro avg       0.72      0.72      0.72      2703\n",
      "weighted avg       0.72      0.72      0.72      2703\n",
      "\n"
     ],
     "output_type": "stream"
    }
   ],
   "source": [
    "tourneys = [2,3]\n",
    "\n",
    "drop_cols = ['outcome', 'tourney_date']\n",
    "y_train = data_train.outcome\n",
    "X_train = data_train.drop(drop_cols, axis=1)\n",
    "\n",
    "X_train, X_val, y_train, y_val = train_test_split(X_train, y_train, test_size=0.33, random_state=42)\n",
    "\n",
    "X_val = X_val.join(y_val)\n",
    "data_mask = (X_val.tourney_level.isin(tourneys))\n",
    "X_val = X_val.loc[data_mask]\n",
    "y_val = X_val.outcome\n",
    "X_val.drop(['outcome', 'tourney_level'], inplace=True, axis=1)\n",
    "\n",
    "X_train.drop('tourney_level', inplace=True, axis=1)\n",
    "\n",
    "model = RandomForestClassifier()\n",
    "model.fit(X_train, y_train)\n",
    "\n",
    "full_val_pred = model.predict(X_val)\n",
    "class_report_full = classification_report(y_val, full_val_pred)\n",
    "print(class_report_full)"
   ],
   "metadata": {
    "collapsed": false,
    "pycharm": {
     "name": "#%%\n",
     "is_executing": false
    }
   }
  },
  {
   "cell_type": "markdown",
   "source": [
    "## Accuracy increase over time?\n",
    "i.e. should we generate more statistics?"
   ],
   "metadata": {
    "collapsed": false,
    "pycharm": {
     "name": "#%% md\n"
    }
   }
  },
  {
   "cell_type": "code",
   "execution_count": 14,
   "outputs": [
    {
     "name": "stdout",
     "text": [
      "              precision    recall  f1-score   support\n",
      "\n",
      "          -1       0.74      0.74      0.74       668\n",
      "           1       0.73      0.73      0.73       635\n",
      "\n",
      "    accuracy                           0.73      1303\n",
      "   macro avg       0.73      0.73      0.73      1303\n",
      "weighted avg       0.73      0.73      0.73      1303\n",
      "\n",
      "              precision    recall  f1-score   support\n",
      "\n",
      "          -1       0.73      0.73      0.73       666\n",
      "           1       0.72      0.72      0.72       643\n",
      "\n",
      "    accuracy                           0.72      1309\n",
      "   macro avg       0.72      0.72      0.72      1309\n",
      "weighted avg       0.72      0.72      0.72      1309\n",
      "\n"
     ],
     "output_type": "stream"
    }
   ],
   "source": [
    "drop_cols = ['outcome', 'tourney_date', 'tourney_level']\n",
    "\n",
    "# 2017-06-15\n",
    "train_eval_split_low = 1497484800\n",
    "train_eval_split_high = 1497484800\n",
    "\n",
    "data_train_pre = data_train.loc[data_train.tourney_date < train_eval_split_low]\n",
    "data_train_post = data_train.loc[data_train.tourney_date >= train_eval_split_high]\n",
    "\n",
    "y_train_pre = data_train_pre.outcome\n",
    "X_train_pre = data_train_pre.drop(drop_cols, axis=1)\n",
    "\n",
    "y_train_post = data_train_post.outcome\n",
    "X_train_post = data_train_post.drop(drop_cols, axis=1)\n",
    "\n",
    "X_train_pre, X_val_pre, y_train_pre, y_val_pre = train_test_split(X_train_pre, y_train_pre, test_size=0.33, random_state=42)\n",
    "X_train_post, X_val_post, y_train_post, y_val_post = train_test_split(X_train_post, y_train_post, test_size=0.33, random_state=42)\n",
    "\n",
    "model_pre = RandomForestClassifier()\n",
    "model_pre.fit(X_train_pre, y_train_pre)\n",
    "\n",
    "val_pred_pre = model_pre.predict(X_val_pre)\n",
    "class_report_pre = classification_report(y_val_pre, val_pred_pre)\n",
    "print(class_report_pre)\n",
    "\n",
    "model_post = RandomForestClassifier()\n",
    "model_post.fit(X_train_post, y_train_post)\n",
    "\n",
    "val_pred_post = model_post.predict(X_val_post)\n",
    "class_report_post = classification_report(y_val_post, val_pred_post)\n",
    "print(class_report_post)"
   ],
   "metadata": {
    "collapsed": false,
    "pycharm": {
     "name": "#%%\n",
     "is_executing": false
    }
   }
  }
 ],
 "metadata": {
  "kernelspec": {
   "display_name": "Python 3",
   "language": "python",
   "name": "python3"
  },
  "language_info": {
   "codemirror_mode": {
    "name": "ipython",
    "version": 3
   },
   "file_extension": ".py",
   "mimetype": "text/x-python",
   "name": "python",
   "nbconvert_exporter": "python",
   "pygments_lexer": "ipython3",
   "version": "3.7.2"
  },
  "pycharm": {
   "stem_cell": {
    "cell_type": "raw",
    "source": [],
    "metadata": {
     "collapsed": false
    }
   }
  }
 },
 "nbformat": 4,
 "nbformat_minor": 1
}